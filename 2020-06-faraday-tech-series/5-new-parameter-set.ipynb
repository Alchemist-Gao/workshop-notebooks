{
 "cells": [
  {
   "cell_type": "markdown",
   "metadata": {},
   "source": [
    "# Defining a new parameter set"
   ]
  },
  {
   "cell_type": "code",
   "execution_count": 1,
   "metadata": {},
   "outputs": [],
   "source": [
    "import pybamm"
   ]
  },
  {
   "cell_type": "code",
   "execution_count": 2,
   "metadata": {},
   "outputs": [],
   "source": [
    "model = pybamm.lithium_ion.SPMe()\n",
    "\n",
    "experiment = pybamm.Experiment(\n",
    "    [\n",
    "        \"Discharge at C/2 until 2.5 V (5 seconds period)\",\n",
    "        \"Rest for 2 hours\",\n",
    "    ],\n",
    "    period=\"30 seconds\",\n",
    ")"
   ]
  },
  {
   "cell_type": "markdown",
   "metadata": {},
   "source": [
    "We can change the parameters in the script/notebook as shown in the last workshop"
   ]
  },
  {
   "cell_type": "code",
   "execution_count": 3,
   "metadata": {},
   "outputs": [],
   "source": [
    "param = pybamm.ParameterValues(chemistry=pybamm.parameter_sets.Chen2020)\n",
    "\n",
    "param[\"Negative current collector thickness [m]\"] = 24E-6\n",
    "param[\"Negative electrode thickness [m]\"] = 170.4E-6\n",
    "param[\"Separator thickness [m]\"] = 24E-6\n",
    "param[\"Positive electrode thickness [m]\"] = 151.2E-6\n",
    "param[\"Positive current collector thickness [m]\"] = 32E-6\n",
    "param[\"Cell capacity [A.h]\"] = 10\n",
    "param[\"Typical current [A]\"] = 10\n",
    "param[\"Current function [A]\"] = 10"
   ]
  },
  {
   "cell_type": "code",
   "execution_count": 4,
   "metadata": {},
   "outputs": [
    {
     "data": {
      "text/plain": [
       "<pybamm.solvers.solution.Solution at 0x7ff06cfc4a10>"
      ]
     },
     "execution_count": 4,
     "metadata": {},
     "output_type": "execute_result"
    }
   ],
   "source": [
    "sim = pybamm.Simulation(model, parameter_values=param, experiment=experiment)\n",
    "sim.solve()"
   ]
  },
  {
   "cell_type": "code",
   "execution_count": 5,
   "metadata": {},
   "outputs": [
    {
     "data": {
      "application/vnd.jupyter.widget-view+json": {
       "model_id": "d7067488911944cba4e1e0cb5b8f54f4",
       "version_major": 2,
       "version_minor": 0
      },
      "text/plain": [
       "interactive(children=(FloatSlider(value=0.0, description='t', max=3.9819444444444443, step=0.03981944444444444…"
      ]
     },
     "metadata": {},
     "output_type": "display_data"
    }
   ],
   "source": [
    "sim.plot()"
   ]
  },
  {
   "cell_type": "markdown",
   "metadata": {},
   "source": [
    "However, this method can be too cumbersome if we need to change a large number of parameters in every simulation. In these situations, we can create a new parameter set. Recall from the last workshop how to call a parameter set."
   ]
  },
  {
   "cell_type": "code",
   "execution_count": 6,
   "metadata": {},
   "outputs": [],
   "source": [
    "my_chemistry = pybamm.parameter_sets.Chen2020"
   ]
  },
  {
   "cell_type": "markdown",
   "metadata": {},
   "source": [
    "If we check what is in `my_chemistry` variable, we can see which parameter subset is used for each part."
   ]
  },
  {
   "cell_type": "code",
   "execution_count": 7,
   "metadata": {},
   "outputs": [
    {
     "data": {
      "text/plain": [
       "{'chemistry': 'lithium-ion',\n",
       " 'cell': 'LGM50_Chen2020',\n",
       " 'anode': 'graphite_Chen2020',\n",
       " 'separator': 'separator_Chen2020',\n",
       " 'cathode': 'nmc_Chen2020',\n",
       " 'electrolyte': 'lipf6_Nyman2008',\n",
       " 'experiment': '1C_discharge_from_full_Chen2020',\n",
       " 'sei': 'example',\n",
       " 'citation': 'Chen2020'}"
      ]
     },
     "execution_count": 7,
     "metadata": {},
     "output_type": "execute_result"
    }
   ],
   "source": [
    "my_chemistry"
   ]
  },
  {
   "cell_type": "markdown",
   "metadata": {},
   "source": [
    "Then, we can just change the parameter set for the cell to be our new parameter set. If we tried to run the simulation now it would not work as the parameter set `\"mynewcell\"` does not exist yet (we will create it later)."
   ]
  },
  {
   "cell_type": "code",
   "execution_count": 8,
   "metadata": {},
   "outputs": [],
   "source": [
    "my_chemistry[\"cell\"] = \"my_new_cell\""
   ]
  },
  {
   "cell_type": "code",
   "execution_count": 9,
   "metadata": {},
   "outputs": [
    {
     "data": {
      "text/plain": [
       "{'chemistry': 'lithium-ion',\n",
       " 'cell': 'my_new_cell',\n",
       " 'anode': 'graphite_Chen2020',\n",
       " 'separator': 'separator_Chen2020',\n",
       " 'cathode': 'nmc_Chen2020',\n",
       " 'electrolyte': 'lipf6_Nyman2008',\n",
       " 'experiment': '1C_discharge_from_full_Chen2020',\n",
       " 'sei': 'example',\n",
       " 'citation': 'Chen2020'}"
      ]
     },
     "execution_count": 9,
     "metadata": {},
     "output_type": "execute_result"
    }
   ],
   "source": [
    "my_chemistry"
   ]
  },
  {
   "cell_type": "markdown",
   "metadata": {},
   "source": [
    "We first need to copy the PyBaMM parameter sets into our own directory so we can modify them. This will create a folder called `lithium-ion` in the working directory with all the parameters. When searching for parameters, PyBaMM will look first into the local copy of the parameters (if it exists) and then into the copy inside of PyBaMM's code (the standard one). Therefore, if you make changes in your local copy these will take precedence. More details on how it works can be found in [this notebook](https://github.com/pybamm-team/PyBaMM/blob/master/examples/notebooks/parameter-management.ipynb)."
   ]
  },
  {
   "cell_type": "code",
   "execution_count": null,
   "metadata": {},
   "outputs": [],
   "source": [
    "%%bash\n",
    "pybamm_edit_parameter lithium-ion"
   ]
  },
  {
   "cell_type": "markdown",
   "metadata": {},
   "source": [
    "Now we can create a new folder in `lithium-ion/cells/` for our new parameter set. We can do this in bash, as shown below, but we can as well do it in the file explorer. Note that if the folder already exists the command below will crash."
   ]
  },
  {
   "cell_type": "code",
   "execution_count": null,
   "metadata": {},
   "outputs": [],
   "source": [
    "%%bash\n",
    "mkdir lithium-ion/cells/my_new_cell"
   ]
  },
  {
   "cell_type": "markdown",
   "metadata": {},
   "source": [
    "We need to create a new file called `parameters.csv` in the new directory we have created. The file needs to be a CSV file with all the required parameters. It is easier to copy the CSV file of another parameter set and edit it. Again, we can do it in the file explorer or using the command below."
   ]
  },
  {
   "cell_type": "code",
   "execution_count": null,
   "metadata": {},
   "outputs": [],
   "source": [
    "%%bash\n",
    "cp lithium-ion/cells/LGM50_Chen2020/parameters.csv lithium-ion/cells/my_new_cell/"
   ]
  },
  {
   "cell_type": "markdown",
   "metadata": {},
   "source": [
    "Now we can edit this new file and introduce the new parameters. After that, we can pull the parameters values doing:"
   ]
  },
  {
   "cell_type": "code",
   "execution_count": 10,
   "metadata": {},
   "outputs": [],
   "source": [
    "param = pybamm.ParameterValues(chemistry=my_chemistry)"
   ]
  },
  {
   "cell_type": "markdown",
   "metadata": {},
   "source": [
    "We can check that the parameters have changed by checking that the separator thickness in meters is 24E-6."
   ]
  },
  {
   "cell_type": "code",
   "execution_count": 11,
   "metadata": {},
   "outputs": [
    {
     "data": {
      "text/plain": [
       "2.4e-05"
      ]
     },
     "execution_count": 11,
     "metadata": {},
     "output_type": "execute_result"
    }
   ],
   "source": [
    "param[\"Separator thickness [m]\"]"
   ]
  },
  {
   "cell_type": "markdown",
   "metadata": {},
   "source": [
    "Now we can run our simulation as usual"
   ]
  },
  {
   "cell_type": "code",
   "execution_count": 12,
   "metadata": {},
   "outputs": [
    {
     "data": {
      "application/vnd.jupyter.widget-view+json": {
       "model_id": "feaa35369d534122bb69195d33824a8f",
       "version_major": 2,
       "version_minor": 0
      },
      "text/plain": [
       "interactive(children=(FloatSlider(value=0.0, description='t', max=3.9819444444444443, step=0.03981944444444444…"
      ]
     },
     "metadata": {},
     "output_type": "display_data"
    }
   ],
   "source": [
    "sim = pybamm.Simulation(model, parameter_values=param, experiment=experiment)\n",
    "sim.solve()\n",
    "sim.plot()"
   ]
  },
  {
   "cell_type": "markdown",
   "metadata": {},
   "source": [
    "## Summary"
   ]
  },
  {
   "cell_type": "markdown",
   "metadata": {},
   "source": [
    "Once we have defined the new parameter set, we can run the simulation running the code below (same as explained before but now all in one cell). If you want your own parameter set to be included in a new release of PyBaMM, open a GitHub issue [here](https://github.com/pybamm-team/PyBaMM/issues)."
   ]
  },
  {
   "cell_type": "code",
   "execution_count": 13,
   "metadata": {},
   "outputs": [
    {
     "data": {
      "application/vnd.jupyter.widget-view+json": {
       "model_id": "354b2f89108e419ab3650f8bf1722aa5",
       "version_major": 2,
       "version_minor": 0
      },
      "text/plain": [
       "interactive(children=(FloatSlider(value=0.0, description='t', max=3.9819444444444443, step=0.03981944444444444…"
      ]
     },
     "metadata": {},
     "output_type": "display_data"
    }
   ],
   "source": [
    "import pybamm\n",
    "\n",
    "model = pybamm.lithium_ion.SPMe()\n",
    "\n",
    "experiment = pybamm.Experiment(\n",
    "    [\n",
    "        \"Discharge at C/2 until 2.5 V (5 seconds period)\",\n",
    "        \"Rest for 2 hours\",\n",
    "    ],\n",
    "    period=\"30 seconds\",\n",
    ")\n",
    "\n",
    "my_chemistry = pybamm.parameter_sets.Chen2020\n",
    "my_chemistry[\"cell\"] = \"my_new_cell\"\n",
    "\n",
    "param = pybamm.ParameterValues(chemistry=my_chemistry)\n",
    "\n",
    "sim = pybamm.Simulation(model, parameter_values=param, experiment=experiment)\n",
    "sim.solve()\n",
    "sim.plot()"
   ]
  },
  {
   "cell_type": "code",
   "execution_count": null,
   "metadata": {},
   "outputs": [],
   "source": []
  }
 ],
 "metadata": {
  "kernelspec": {
   "display_name": "Python 3",
   "language": "python",
   "name": "python3"
  },
  "language_info": {
   "codemirror_mode": {
    "name": "ipython",
    "version": 3
   },
   "file_extension": ".py",
   "mimetype": "text/x-python",
   "name": "python",
   "nbconvert_exporter": "python",
   "pygments_lexer": "ipython3",
   "version": "3.6.9"
  }
 },
 "nbformat": 4,
 "nbformat_minor": 4
}
