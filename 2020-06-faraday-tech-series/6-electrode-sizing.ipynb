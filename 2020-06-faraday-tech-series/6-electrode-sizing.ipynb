{
 "cells": [
  {
   "cell_type": "markdown",
   "metadata": {},
   "source": [
    "# Case Study - The effect of anode thickness on the specific capacity"
   ]
  },
  {
   "cell_type": "markdown",
   "metadata": {},
   "source": [
    "In this case study we will to show the state of charge of a battery using the SPMe model. Initial conditions are specified to start each electrode in 1/2 charged state. A charge and discharge are performed with current chosen to be 1C rate when electrode dimensions are equal.\n",
    "\n",
    "Coulomb counting is performed to calculate the capacity of the battery within the operating voltage limits and maximum particle concentrations that are specified as parameters. The anode thickenss is varied to highlight the importance of electrode sizing to enable full lithium utilization."
   ]
  },
  {
   "cell_type": "code",
   "execution_count": 22,
   "metadata": {},
   "outputs": [],
   "source": [
    "import pybamm\n",
    "import numpy as np\n",
    "import matplotlib.pyplot as plt\n",
    "from ipywidgets import interact, interactive, fixed, interact_manual\n",
    "import ipywidgets as widgets\n",
    "pybamm.set_logging_level(50)"
   ]
  },
  {
   "cell_type": "markdown",
   "metadata": {},
   "source": [
    "Keeping the thickness of the cathode fixed we will iteratively increase the anode thickness and perform a charge from the initial conditions followed by a discharge from the same initial conditions.\n",
    "First some lists are created to store the results of the simulations and the thickness for the anode are defined."
   ]
  },
  {
   "cell_type": "code",
   "execution_count": 85,
   "metadata": {},
   "outputs": [],
   "source": [
    "factor = 5.0\n",
    "capacities = []\n",
    "specific_capacities = []\n",
    "solutions = []\n",
    "l_p = 1e-4\n",
    "thicknesses = np.linspace(1.0, 2.5, 11) * l_p"
   ]
  },
  {
   "cell_type": "markdown",
   "metadata": {},
   "source": [
    "Now looping through the thicknesses we calculate the volume of the cell and run each charge and discharge simulation and print some information"
   ]
  },
  {
   "cell_type": "markdown",
   "metadata": {},
   "source": [
    "For simplicity a new simulation is created each time."
   ]
  },
  {
   "cell_type": "code",
   "execution_count": 86,
   "metadata": {},
   "outputs": [
    {
     "name": "stdout",
     "output_type": "stream",
     "text": [
      "************************************************************\n",
      "Anode Thickness 100.0um\n"
     ]
    },
    {
     "name": "stderr",
     "output_type": "stream",
     "text": [
      "c:\\users\\tom\\code\\pybamm\\pybamm\\solvers\\casadi_solver.py:201: RuntimeWarning: invalid value encountered in sign\n",
      "  for event in model.terminate_events_eval\n"
     ]
    },
    {
     "name": "stdout",
     "output_type": "stream",
     "text": [
      "Applied Current -0.2 A Time 0.515 hrs Capacity 103.0 mAh\n",
      "Termination event: event: Maximum negative particle surface concentration\n",
      "Applied Current 0.2 A Time 0.505 hrs Capacity 101.0 mAh\n",
      "Termination event: event: Minimum voltage\n",
      "Anode : Cathode thickness 1.0\n",
      "Total Charge/Discharge Time 1.02 hrs\n",
      "Total Capacity 204.0 mAh\n",
      "Total Capacity 159.85519000434897 mAh.cm-3\n",
      "************************************************************\n",
      "Anode Thickness 115.0um\n",
      "Applied Current -0.2 A Time 0.586 hrs Capacity 117.2 mAh\n",
      "Termination event: event: Maximum voltage\n",
      "Applied Current 0.2 A Time 0.586 hrs Capacity 117.2 mAh\n",
      "Termination event: event: Minimum voltage\n",
      "Anode : Cathode thickness 1.15\n",
      "Total Charge/Discharge Time 1.172 hrs\n",
      "Total Capacity 234.4 mAh\n",
      "Total Capacity 172.19695099733184 mAh.cm-3\n",
      "************************************************************\n",
      "Anode Thickness 130.0um\n",
      "Applied Current -0.2 A Time 0.626 hrs Capacity 125.2 mAh\n",
      "Termination event: event: Maximum voltage\n",
      "Applied Current 0.2 A Time 0.677 hrs Capacity 135.4 mAh\n",
      "Termination event: event: Minimum voltage\n",
      "Anode : Cathode thickness 1.3\n",
      "Total Charge/Discharge Time 1.303 hrs\n",
      "Total Capacity 260.6 mAh\n",
      "Total Capacity 180.18279634573247 mAh.cm-3\n",
      "************************************************************\n",
      "Anode Thickness 145.0um\n",
      "Applied Current -0.2 A Time 0.667 hrs Capacity 133.4 mAh\n",
      "Termination event: event: Maximum voltage\n",
      "Applied Current 0.2 A Time 0.758 hrs Capacity 151.6 mAh\n",
      "Termination event: event: Minimum voltage\n",
      "Anode : Cathode thickness 1.45\n",
      "Total Charge/Discharge Time 1.425 hrs\n",
      "Total Capacity 285.0 mAh\n",
      "Total Capacity 186.1059197354553 mAh.cm-3\n",
      "************************************************************\n",
      "Anode Thickness 160.0um\n",
      "Applied Current -0.2 A Time 0.697 hrs Capacity 139.4 mAh\n",
      "Termination event: event: Maximum voltage\n",
      "Applied Current 0.2 A Time 0.828 hrs Capacity 165.6 mAh\n",
      "Termination event: event: Minimum voltage\n",
      "Anode : Cathode thickness 1.6\n",
      "Total Charge/Discharge Time 1.525 hrs\n",
      "Total Capacity 305.0 mAh\n",
      "Total Capacity 188.68356405312088 mAh.cm-3\n",
      "************************************************************\n",
      "Anode Thickness 175.0um\n",
      "Applied Current -0.2 A Time 0.747 hrs Capacity 149.4 mAh\n",
      "Termination event: event: Maximum voltage\n",
      "Applied Current 0.2 A Time 0.848 hrs Capacity 169.6 mAh\n",
      "Termination event: event: Minimum voltage\n",
      "Anode : Cathode thickness 1.75\n",
      "Total Charge/Discharge Time 1.595 hrs\n",
      "Total Capacity 319.0 mAh\n",
      "Total Capacity 187.4772265124534 mAh.cm-3\n",
      "************************************************************\n",
      "Anode Thickness 190.0um\n",
      "Applied Current -0.2 A Time 0.788 hrs Capacity 157.6 mAh\n",
      "Termination event: event: Maximum voltage\n",
      "Applied Current 0.2 A Time 0.848 hrs Capacity 169.6 mAh\n",
      "Termination event: event: Minimum voltage\n",
      "Anode : Cathode thickness 1.9\n",
      "Total Charge/Discharge Time 1.6360000000000001 hrs\n",
      "Total Capacity 327.2 mAh\n",
      "Total Capacity 183.13941936072476 mAh.cm-3\n",
      "************************************************************\n",
      "Anode Thickness 205.0um\n",
      "Applied Current -0.2 A Time 0.828 hrs Capacity 165.6 mAh\n",
      "Termination event: event: Maximum voltage\n",
      "Applied Current 0.2 A Time 0.848 hrs Capacity 169.6 mAh\n",
      "Termination event: event: Minimum voltage\n",
      "Anode : Cathode thickness 2.05\n",
      "Total Charge/Discharge Time 1.676 hrs\n",
      "Total Capacity 335.2 mAh\n",
      "Total Capacity 179.0891032401664 mAh.cm-3\n",
      "************************************************************\n",
      "Anode Thickness 220.0um\n",
      "Applied Current -0.2 A Time 0.848 hrs Capacity 169.6 mAh\n",
      "Termination event: event: Maximum voltage\n",
      "Applied Current 0.2 A Time 0.859 hrs Capacity 171.8 mAh\n",
      "Termination event: event: Minimum voltage\n",
      "Anode : Cathode thickness 2.2\n",
      "Total Charge/Discharge Time 1.7069999999999999 hrs\n",
      "Total Capacity 341.4 mAh\n",
      "Total Capacity 174.47110571446527 mAh.cm-3\n",
      "************************************************************\n",
      "Anode Thickness 235.0um\n",
      "Applied Current -0.2 A Time 0.848 hrs Capacity 169.6 mAh\n",
      "Termination event: event: Maximum voltage\n",
      "Applied Current 0.2 A Time 0.859 hrs Capacity 171.8 mAh\n",
      "Termination event: event: Minimum voltage\n",
      "Anode : Cathode thickness 2.35\n",
      "Total Charge/Discharge Time 1.7069999999999999 hrs\n",
      "Total Capacity 341.4 mAh\n",
      "Total Capacity 167.20147630969592 mAh.cm-3\n",
      "************************************************************\n",
      "Anode Thickness 250.0um\n",
      "Applied Current -0.2 A Time 0.859 hrs Capacity 171.8 mAh\n",
      "Termination event: event: Maximum voltage\n",
      "Applied Current 0.2 A Time 0.859 hrs Capacity 171.8 mAh\n",
      "Termination event: event: Minimum voltage\n",
      "Anode : Cathode thickness 2.5\n",
      "Total Charge/Discharge Time 1.718 hrs\n",
      "Total Capacity 343.6 mAh\n",
      "Total Capacity 161.54777436910095 mAh.cm-3\n"
     ]
    }
   ],
   "source": [
    "for l_n in thicknesses:\n",
    "    solutions.append([])\n",
    "    e_ratio = np.around(l_n / l_p, 3)\n",
    "    # Dimensions\n",
    "    h = 0.137\n",
    "    w = 0.207 / factor\n",
    "    A = h * w\n",
    "    l_s = 2.5e-5\n",
    "    l1d = l_n + l_p + l_s\n",
    "    vol = h * w * l1d\n",
    "    vol_cm3 = vol * 1e6\n",
    "    tot_cap = 0.0\n",
    "    tot_time = 0.0\n",
    "    \n",
    "    I_mag = 1.00 / factor\n",
    "    print(\"*\" * 60)\n",
    "    print('Anode Thickness ' + str(np.around(l_n*1e6, 3)) + 'um')\n",
    "    for enum, I_app in enumerate([-1.0, 1.0]):\n",
    "        I_app *= I_mag\n",
    "        # load model\n",
    "        model = pybamm.lithium_ion.SPMe()\n",
    "        # create geometry\n",
    "        geometry = model.default_geometry\n",
    "        # load parameter values and process model and geometry\n",
    "        param = model.default_parameter_values\n",
    "        param.update(\n",
    "            {\n",
    "                \"Electrode height [m]\": h,\n",
    "                \"Electrode width [m]\": w,\n",
    "                \"Negative electrode thickness [m]\": l_n,\n",
    "                \"Positive electrode thickness [m]\": l_p,\n",
    "                \"Separator thickness [m]\": l_s,\n",
    "                \"Lower voltage cut-off [V]\": 2.8,\n",
    "                \"Upper voltage cut-off [V]\": 4.7,\n",
    "                \"Maximum concentration in negative electrode [mol.m-3]\": 25000,\n",
    "                \"Maximum concentration in positive electrode [mol.m-3]\": 50000,\n",
    "                \"Initial concentration in negative electrode [mol.m-3]\": 12500,\n",
    "                \"Initial concentration in positive electrode [mol.m-3]\": 25000,\n",
    "                \"Negative electrode surface area to volume ratio [m-1]\": 180000.0,\n",
    "                \"Positive electrode surface area to volume ratio [m-1]\": 150000.0,\n",
    "                \"Current function [A]\": I_app,\n",
    "            }\n",
    "        )\n",
    "        param.process_model(model)\n",
    "        param.process_geometry(geometry)\n",
    "        s_var = pybamm.standard_spatial_vars\n",
    "        var_pts = {\n",
    "            s_var.x_n: 5,\n",
    "            s_var.x_s: 5,\n",
    "            s_var.x_p: 5,\n",
    "            s_var.r_n: 5,\n",
    "            s_var.r_p: 10,\n",
    "        }\n",
    "        # set mesh\n",
    "        mesh = pybamm.Mesh(geometry, model.default_submesh_types, var_pts)\n",
    "        # discretise model\n",
    "        disc = pybamm.Discretisation(mesh, model.default_spatial_methods)\n",
    "        disc.process_model(model)\n",
    "        # solve model\n",
    "        t_eval = np.linspace(0, 3600, 100)\n",
    "        sol = pybamm.CasadiSolver(mode='safe').solve(model, t_eval)\n",
    "        solutions[-1].append(sol)\n",
    "        time = sol[\"Time [h]\"]\n",
    "        # Coulomb counting\n",
    "        time_secs = sol[\"Time [s]\"].entries\n",
    "        time_hours = time(time_secs)\n",
    "        dc_time = np.around(time_hours[-1], 3)\n",
    "        # Capacity mAh\n",
    "        cap = np.absolute(I_app * 1000 * dc_time)\n",
    "        cap_time = np.absolute(I_app * 1000 * time_hours)\n",
    "        print(\n",
    "            \"Applied Current\",\n",
    "            np.around(I_app, 3),\n",
    "            \"A\",\n",
    "            \"Time\",\n",
    "            np.around(dc_time, 3),\n",
    "            \"hrs\",\n",
    "            \"Capacity\",\n",
    "            np.around(cap, 3),\n",
    "            \"mAh\",\n",
    "        )\n",
    "        print('Termination event: '+sol.termination)\n",
    "        tot_cap += cap\n",
    "        tot_time += dc_time\n",
    "\n",
    "    print(\"Anode : Cathode thickness\", e_ratio)\n",
    "    print(\"Total Charge/Discharge Time\", tot_time, \"hrs\")\n",
    "    print(\"Total Capacity\", np.around(tot_cap, 3), \"mAh\")\n",
    "    specific_cap = np.around(tot_cap, 3) / vol_cm3\n",
    "    print(\"Total Capacity\", specific_cap, \"mAh.cm-3\")\n",
    "    capacities.append(tot_cap)\n",
    "    specific_capacities.append(specific_cap)"
   ]
  },
  {
   "cell_type": "markdown",
   "metadata": {},
   "source": [
    "We can access the solution data for each simulation after it has finished by indexing into the list "
   ]
  },
  {
   "cell_type": "code",
   "execution_count": 87,
   "metadata": {},
   "outputs": [
    {
     "data": {
      "text/plain": [
       "'event: Maximum negative particle surface concentration'"
      ]
     },
     "execution_count": 87,
     "metadata": {},
     "output_type": "execute_result"
    }
   ],
   "source": [
    "solutions[0][0].termination"
   ]
  },
  {
   "cell_type": "markdown",
   "metadata": {},
   "source": [
    "The total battery capacity was calculated by coulomb counting for charge and dicharge. We want to plot the results together so to get the maximum capacity the list is turned into an array"
   ]
  },
  {
   "cell_type": "code",
   "execution_count": 88,
   "metadata": {},
   "outputs": [],
   "source": [
    "max_cap = np.asarray(capacities).max()"
   ]
  },
  {
   "cell_type": "markdown",
   "metadata": {},
   "source": [
    "A plot function is now defined which we can interact with by changing the index of the simulations corresponding to a specific anode thickness"
   ]
  },
  {
   "cell_type": "code",
   "execution_count": 89,
   "metadata": {},
   "outputs": [],
   "source": [
    "def plot_inter(x):\n",
    "    fig, axes = plt.subplots(1, 2, figsize=(15, 7.5), sharey=True)\n",
    "    desc = 'Anode Thickness ' + str(np.around(thicknesses[x]*1e6, 3)) + 'um'\n",
    "    for enum, sol in enumerate(solutions[x]):\n",
    "        xpext = sol[\"Positive electrode average extent of lithiation\"]\n",
    "        xnext = sol[\"Negative electrode average extent of lithiation\"]\n",
    "        xpsurf = sol[\"X-averaged positive particle surface concentration\"]\n",
    "        xnsurf = sol[\"X-averaged negative particle surface concentration\"]\n",
    "        time = sol[\"Time [h]\"]\n",
    "        # Coulomb counting\n",
    "        time_secs = sol[\"Time [s]\"].entries\n",
    "        time_hours = time(time_secs)\n",
    "        dc_time = np.around(time_hours[-1], 3)\n",
    "        # Capacity mAh\n",
    "        cap = np.absolute(I_app * 1000 * dc_time)\n",
    "        cap_time = np.absolute(I_app * 1000 * time_hours)\n",
    "        axes[enum].plot(cap_time, xnsurf(time_secs), \"r--\", label=\"Surface Neg\")\n",
    "        axes[enum].plot(cap_time, xnext(time_secs), \"r-\", label=\"Average Neg\")\n",
    "        axes[enum].plot(cap_time, xpsurf(time_secs), \"b--\", label=\"Surface Pos\")\n",
    "        axes[enum].plot(cap_time, xpext(time_secs), \"b-\", label=\"Average Pos\")\n",
    "        axes[enum].set_xlabel(\"Capacity [mAh]\")\n",
    "        handles, labels = axes[enum].get_legend_handles_labels()\n",
    "        axes[enum].legend(handles, labels, loc='upper left')\n",
    "        if enum == 0:\n",
    "            axes[enum].set_ylabel(\n",
    "                \"Extent of Lithiation, Elecrode Ratio: \" + str(e_ratio)\n",
    "            )\n",
    "            axes[enum].title.set_text(\"Charge \"+desc)\n",
    "        else:\n",
    "            axes[enum].title.set_text(\"Discharge \"+desc)\n",
    "        axes[enum].set_ylim([0, 1.0])\n",
    "        axes[enum].set_xlim([0, np.ceil(max_cap/2)])"
   ]
  },
  {
   "cell_type": "code",
   "execution_count": 90,
   "metadata": {},
   "outputs": [
    {
     "data": {
      "application/vnd.jupyter.widget-view+json": {
       "model_id": "aa1a54a1b3694fdcb5784f0060a83eed",
       "version_major": 2,
       "version_minor": 0
      },
      "text/plain": [
       "interactive(children=(IntSlider(value=0, description='x', max=10), Output()), _dom_classes=('widget-interact',…"
      ]
     },
     "metadata": {},
     "output_type": "display_data"
    },
    {
     "data": {
      "text/plain": [
       "<function __main__.plot_inter(x)>"
      ]
     },
     "execution_count": 90,
     "metadata": {},
     "output_type": "execute_result"
    }
   ],
   "source": [
    "interact(plot_inter, x=widgets.IntSlider(min=0, max=len(thicknesses)-1, step=1, value=0))"
   ]
  },
  {
   "cell_type": "markdown",
   "metadata": {},
   "source": [
    "Observe that the surface and average particle concentrations or state of lithiations are different and that the positive particle lithiation never reaches it's minimum or maximum values. For the first simulation the charge results in the maximum anode particle surface concentration being reached but there is still plenty of Lithium in the cathode. Increasing the thickness of the anode means that the anode capacity increases to match the cathode and the rate at which the particles in anode lithiate becomes relatively slower. "
   ]
  },
  {
   "cell_type": "markdown",
   "metadata": {},
   "source": [
    "Plotting the specific volumetric capacity of the battery vs anode thickness reveals there is an optimum value within the operating voltage limits"
   ]
  },
  {
   "cell_type": "code",
   "execution_count": 80,
   "metadata": {},
   "outputs": [
    {
     "data": {
      "text/plain": [
       "Text(0.5, 0, 'Anode : Cathode thickness ratio')"
      ]
     },
     "execution_count": 80,
     "metadata": {},
     "output_type": "execute_result"
    },
    {
     "data": {
      "image/png": "[encoded data removed]",
      "text/plain": [
       "<Figure size 720x720 with 2 Axes>"
      ]
     },
     "metadata": {
      "needs_background": "light"
     },
     "output_type": "display_data"
    }
   ],
   "source": [
    "fig, (ax1, ax2) = plt.subplots(2, 1, figsize=(10, 10), sharex=True)\n",
    "ax1.plot(thicknesses / l_p, capacities)\n",
    "ax2.plot(thicknesses / l_p, specific_capacities)\n",
    "ax1.set_ylabel(\"Capacity [mAh]\")\n",
    "ax2.set_ylabel(\"Specific Capacity [mAh.cm-3]\")\n",
    "ax2.set_xlabel(\"Anode : Cathode thickness ratio\")"
   ]
  },
  {
   "cell_type": "code",
   "execution_count": null,
   "metadata": {},
   "outputs": [],
   "source": []
  }
 ],
 "metadata": {
  "kernelspec": {
   "display_name": "Python 3",
   "language": "python",
   "name": "python3"
  },
  "language_info": {
   "codemirror_mode": {
    "name": "ipython",
    "version": 3
   },
   "file_extension": ".py",
   "mimetype": "text/x-python",
   "name": "python",
   "nbconvert_exporter": "python",
   "pygments_lexer": "ipython3",
   "version": "3.6.9"
  }
 },
 "nbformat": 4,
 "nbformat_minor": 4
}
