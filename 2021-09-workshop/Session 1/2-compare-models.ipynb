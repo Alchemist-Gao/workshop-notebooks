{
 "cells": [
  {
   "cell_type": "markdown",
   "id": "global-classics",
   "metadata": {},
   "source": [
    "# Session 1\n",
    "## Comparing models\n",
    "\n",
    "As before, we being by importing pybamm"
   ]
  },
  {
   "cell_type": "code",
   "execution_count": 2,
   "id": "modified-magnet",
   "metadata": {},
   "outputs": [],
   "source": [
    "import pybamm"
   ]
  },
  {
   "cell_type": "markdown",
   "id": "laden-satisfaction",
   "metadata": {},
   "source": [
    "We then create a list of all the models we wish to solve"
   ]
  },
  {
   "cell_type": "code",
   "execution_count": 3,
   "id": "b4917899",
   "metadata": {},
   "outputs": [],
   "source": [
    "models = [\n",
    "    pybamm.lithium_ion.SPM(),\n",
    "    pybamm.lithium_ion.SPMe(),\n",
    "    pybamm.lithium_ion.DFN(),\n",
    "]"
   ]
  },
  {
   "cell_type": "markdown",
   "id": "separate-season",
   "metadata": {},
   "source": [
    "Now we can loop over the list, creating and solving simulations as we go. The solutions are stored in the list `sols`"
   ]
  },
  {
   "cell_type": "code",
   "execution_count": 4,
   "id": "b84b6c9b",
   "metadata": {},
   "outputs": [],
   "source": [
    "sols = []\n",
    "for model in models:\n",
    "    sim = pybamm.Simulation(model)\n",
    "    sol = sim.solve([0, 3600])\n",
    "    sols.append(sol)"
   ]
  },
  {
   "cell_type": "code",
   "execution_count": 5,
   "id": "530faa19",
   "metadata": {},
   "outputs": [
    {
     "data": {
      "text/plain": [
       "[<pybamm.solvers.solution.Solution at 0x7f7ec088d790>,\n",
       " <pybamm.solvers.solution.Solution at 0x7f7ec0054940>,\n",
       " <pybamm.solvers.solution.Solution at 0x7f7ebfeba460>]"
      ]
     },
     "execution_count": 5,
     "metadata": {},
     "output_type": "execute_result"
    }
   ],
   "source": [
    "sols"
   ]
  },
  {
   "cell_type": "markdown",
   "id": "computational-spending",
   "metadata": {},
   "source": [
    "We can now pass our list of simulations to the dynamic plot method, which will plot the different outputs in the same figure\n"
   ]
  },
  {
   "cell_type": "code",
   "execution_count": 6,
   "id": "e0609b44",
   "metadata": {},
   "outputs": [
    {
     "data": {
      "application/vnd.jupyter.widget-view+json": {
       "model_id": "1b254199741043d29d890df957934a39",
       "version_major": 2,
       "version_minor": 0
      },
      "text/plain": [
       "interactive(children=(FloatSlider(value=0.0, description='t', max=1.0, step=0.01), Output()), _dom_classes=('w…"
      ]
     },
     "metadata": {},
     "output_type": "display_data"
    },
    {
     "data": {
      "text/plain": [
       "<pybamm.plotting.quick_plot.QuickPlot at 0x7f7ec30ac460>"
      ]
     },
     "execution_count": 6,
     "metadata": {},
     "output_type": "execute_result"
    }
   ],
   "source": [
    "# dynamic_plot可以打印出solution list的输出对比\n",
    "# dynamic_plot调用的是QuickPlot，具体的参数也是参照QuickPlot\n",
    "# 详情参数见https://github.com/pybamm-team/PyBaMM/blob/9f8f2c3fe769c15b9c4f1dca98eb6dbe07a587d1/pybamm/plotting/quick_plot.py\n",
    "pybamm.dynamic_plot(sols)"
   ]
  },
  {
   "cell_type": "markdown",
   "id": "valid-humanity",
   "metadata": {},
   "source": [
    "As before, we can pass a list of variables to plot"
   ]
  },
  {
   "cell_type": "code",
   "execution_count": 7,
   "id": "89862125",
   "metadata": {},
   "outputs": [
    {
     "data": {
      "application/vnd.jupyter.widget-view+json": {
       "model_id": "e1b9bcf9c2504380aca231d2f7b3a9cc",
       "version_major": 2,
       "version_minor": 0
      },
      "text/plain": [
       "interactive(children=(FloatSlider(value=0.0, description='t', max=1.0, step=0.01), Output()), _dom_classes=('w…"
      ]
     },
     "metadata": {},
     "output_type": "display_data"
    },
    {
     "data": {
      "text/plain": [
       "<pybamm.plotting.quick_plot.QuickPlot at 0x7f7eba5f6a00>"
      ]
     },
     "execution_count": 7,
     "metadata": {},
     "output_type": "execute_result"
    }
   ],
   "source": [
    "pybamm.dynamic_plot(sols, [\"Electrolyte current density\", \"Terminal voltage [V]\"])"
   ]
  },
  {
   "cell_type": "code",
   "execution_count": null,
   "id": "9906f3dc",
   "metadata": {},
   "outputs": [],
   "source": []
  }
 ],
 "metadata": {
  "interpreter": {
   "hash": "9ed1652a5d241dfd6c013b33f6c23beb6c259ffdd0e22337ed3f89de4fac47b8"
  },
  "kernelspec": {
   "display_name": "Python 3.8.10 ('env': venv)",
   "language": "python",
   "name": "python3"
  },
  "language_info": {
   "codemirror_mode": {
    "name": "ipython",
    "version": 3
   },
   "file_extension": ".py",
   "mimetype": "text/x-python",
   "name": "python",
   "nbconvert_exporter": "python",
   "pygments_lexer": "ipython3",
   "version": "3.8.10"
  }
 },
 "nbformat": 4,
 "nbformat_minor": 5
}
