{
 "cells": [
  {
   "cell_type": "markdown",
   "id": "established-return",
   "metadata": {},
   "source": [
    "# Session 1 \n",
    "## Changing the solver and discretisation \n",
    "\n",
    "First we'll import pybamm and load the DFN model"
   ]
  },
  {
   "cell_type": "code",
   "execution_count": 1,
   "id": "6a51b5ed",
   "metadata": {},
   "outputs": [],
   "source": [
    "import pybamm"
   ]
  },
  {
   "cell_type": "code",
   "execution_count": 3,
   "id": "be287996",
   "metadata": {},
   "outputs": [],
   "source": [
    "model = pybamm.lithium_ion.DFN()"
   ]
  },
  {
   "cell_type": "markdown",
   "id": "identified-juvenile",
   "metadata": {},
   "source": [
    "There are a number of different ODE and DAE solvers available in pybamm (see the documentation for an up-to-date list). Each of the solvers have a number of options, some of which are common (e.g. relative and absolute tolerances), and some of which are solver-specific (e.g. the integration \"mode\" of the `CasadiSolver`). Here we are going to use the `CasadiSolver` in \"fast\" mode, which ignores any events, and with both absolute and relative tolerances set to `1e-3`. \n",
    "\n",
    "We create the solver object and pass it to the simulation"
   ]
  },
  {
   "cell_type": "code",
   "execution_count": 4,
   "id": "83ba190f",
   "metadata": {},
   "outputs": [
    {
     "data": {
      "text/plain": [
       "<pybamm.solvers.solution.Solution at 0x7ff08029d8b0>"
      ]
     },
     "execution_count": 4,
     "metadata": {},
     "output_type": "execute_result"
    }
   ],
   "source": [
    "# atol是绝对公差，rtol是相对公差\n",
    "solver = pybamm.CasadiSolver(atol=1e-3, rtol=1e-3, mode=\"fast\")\n",
    "# 默认的求解器也是casadisolver\n",
    "sim = pybamm.Simulation(model, solver=solver)\n",
    "sim.solve([0, 3600])"
   ]
  },
  {
   "cell_type": "markdown",
   "id": "olive-integration",
   "metadata": {},
   "source": [
    "We can the plot the results"
   ]
  },
  {
   "cell_type": "code",
   "execution_count": 5,
   "id": "1c79e595",
   "metadata": {},
   "outputs": [
    {
     "data": {
      "application/vnd.jupyter.widget-view+json": {
       "model_id": "44aa0c4a4a34463f85152a34cb37d47b",
       "version_major": 2,
       "version_minor": 0
      },
      "text/plain": [
       "interactive(children=(FloatSlider(value=0.0, description='t', max=1.0, step=0.01), Output()), _dom_classes=('w…"
      ]
     },
     "metadata": {},
     "output_type": "display_data"
    },
    {
     "data": {
      "text/plain": [
       "<pybamm.plotting.quick_plot.QuickPlot at 0x7ff0806eae50>"
      ]
     },
     "execution_count": 5,
     "metadata": {},
     "output_type": "execute_result"
    }
   ],
   "source": [
    "sim.plot()"
   ]
  },
  {
   "cell_type": "markdown",
   "id": "engaged-phase",
   "metadata": {},
   "source": [
    "除了更改求解器之外，您可能还希望更改网格中的点数。让我们看一下默认的点数，它们存储为字典，其键是每个域的变量\n",
    "As well as changing the solver, you may wish to change the number of points in the mesh. Let's look at the default number of points, which are stored as a dictionary whose keys are the variables for each domain"
   ]
  },
  {
   "cell_type": "code",
   "execution_count": 6,
   "id": "71c9d22a",
   "metadata": {},
   "outputs": [
    {
     "data": {
      "text/plain": [
       "{'x_n': 20,\n",
       " 'x_s': 20,\n",
       " 'x_p': 20,\n",
       " 'r_n': 20,\n",
       " 'r_p': 20,\n",
       " 'r_n_prim': 20,\n",
       " 'r_p_prim': 20,\n",
       " 'r_n_sec': 20,\n",
       " 'r_p_sec': 20,\n",
       " 'y': 10,\n",
       " 'z': 10,\n",
       " 'R_n': 30,\n",
       " 'R_p': 30}"
      ]
     },
     "execution_count": 6,
     "metadata": {},
     "output_type": "execute_result"
    }
   ],
   "source": [
    "model.default_var_pts"
   ]
  },
  {
   "cell_type": "markdown",
   "id": "fitting-amazon",
   "metadata": {},
   "source": [
    "To run a simulation with a different number of points we can define our own dictionary. To do this we first need to get the spatial variables used in pybamm"
   ]
  },
  {
   "cell_type": "code",
   "execution_count": 10,
   "id": "joined-interpretation",
   "metadata": {},
   "outputs": [],
   "source": [
    "var = pybamm.standard_spatial_vars  "
   ]
  },
  {
   "cell_type": "markdown",
   "id": "infectious-economics",
   "metadata": {},
   "source": [
    "We can then get the spatial variable in each domain, e.g. in the negative electrode we use `x_n`"
   ]
  },
  {
   "cell_type": "code",
   "execution_count": 11,
   "id": "supreme-bracelet",
   "metadata": {},
   "outputs": [
    {
     "data": {
      "text/plain": [
       "SpatialVariable(-0x49cd92fe0cb7780d, x_n, children=[], domains={'primary': ['negative electrode'], 'secondary': ['current collector']})"
      ]
     },
     "execution_count": 11,
     "metadata": {},
     "output_type": "execute_result"
    }
   ],
   "source": [
    "var.x_n"
   ]
  },
  {
   "cell_type": "markdown",
   "id": "detailed-radiation",
   "metadata": {},
   "source": [
    "We might want to investigate the influence of the mesh on the solution. We first create a list of the number of points per domain we would like to use"
   ]
  },
  {
   "cell_type": "code",
   "execution_count": 12,
   "id": "broad-presentation",
   "metadata": {},
   "outputs": [],
   "source": [
    "npts = [16, 8, 4]"
   ]
  },
  {
   "cell_type": "markdown",
   "id": "dedicated-driving",
   "metadata": {},
   "source": [
    "and then loop over the list, creating and solving simulations as we go. The solutions are stored in the list `sols`. Here we use the parameters from a paper by Ecker et al. from 2015."
   ]
  },
  {
   "cell_type": "code",
   "execution_count": 13,
   "id": "bf1f09c0",
   "metadata": {},
   "outputs": [],
   "source": [
    "params = pybamm.ParameterValues(chemistry=pybamm.parameter_sets.Ecker2015)\n",
    "\n",
    "sols = []\n",
    "var = pybamm.standard_spatial_vars \n",
    "for N in npts:\n",
    "    var_pts = {\n",
    "        var.x_n: N,\n",
    "        var.x_s: N,\n",
    "        var.x_p: N,\n",
    "        var.r_n: N,\n",
    "        var.r_p: N,\n",
    "    }\n",
    "    sim = pybamm.Simulation(model, solver=solver, parameter_values=params, var_pts=var_pts, C_rate=2)\n",
    "    sol = sim.solve([0, 1800])\n",
    "    sols.append(sol)"
   ]
  },
  {
   "cell_type": "markdown",
   "id": "chubby-decision",
   "metadata": {},
   "source": [
    "We can then plot the solutions to see how the number of points used in the discretisation affects the solution"
   ]
  },
  {
   "cell_type": "code",
   "execution_count": 14,
   "id": "a050eb5d",
   "metadata": {},
   "outputs": [
    {
     "data": {
      "application/vnd.jupyter.widget-view+json": {
       "model_id": "b0c7442f1f1447d6bc321f346051f9ae",
       "version_major": 2,
       "version_minor": 0
      },
      "text/plain": [
       "interactive(children=(FloatSlider(value=0.0, description='t', max=1800.0, step=18.0), Output()), _dom_classes=…"
      ]
     },
     "metadata": {},
     "output_type": "display_data"
    },
    {
     "data": {
      "text/plain": [
       "<pybamm.plotting.quick_plot.QuickPlot at 0x7ff07aeb4c40>"
      ]
     },
     "execution_count": 14,
     "metadata": {},
     "output_type": "execute_result"
    }
   ],
   "source": [
    "pybamm.dynamic_plot(sols, [\"X-averaged negative particle concentration\", \"Terminal voltage [V]\"], labels=npts)"
   ]
  },
  {
   "cell_type": "markdown",
   "id": "political-milwaukee",
   "metadata": {},
   "source": [
    "It is also possible to change other aspects of the solution procedure, such as the type of mesh or the spatial method, but we do not cover that here."
   ]
  },
  {
   "cell_type": "code",
   "execution_count": null,
   "id": "gorgeous-collection",
   "metadata": {},
   "outputs": [],
   "source": []
  }
 ],
 "metadata": {
  "interpreter": {
   "hash": "9ed1652a5d241dfd6c013b33f6c23beb6c259ffdd0e22337ed3f89de4fac47b8"
  },
  "kernelspec": {
   "display_name": "Python 3.8.10 ('env': venv)",
   "language": "python",
   "name": "python3"
  },
  "language_info": {
   "codemirror_mode": {
    "name": "ipython",
    "version": 3
   },
   "file_extension": ".py",
   "mimetype": "text/x-python",
   "name": "python",
   "nbconvert_exporter": "python",
   "pygments_lexer": "ipython3",
   "version": "3.8.10"
  }
 },
 "nbformat": 4,
 "nbformat_minor": 5
}
