{
 "cells": [
  {
   "cell_type": "markdown",
   "id": "fd06a2bd",
   "metadata": {},
   "source": [
    "# Session 2\n",
    "## Models as a collection of submodels"
   ]
  },
  {
   "cell_type": "code",
   "execution_count": 1,
   "id": "09b5c091",
   "metadata": {},
   "outputs": [],
   "source": [
    "import pybamm"
   ]
  },
  {
   "cell_type": "markdown",
   "id": "08c75b67",
   "metadata": {},
   "source": [
    "All of the models in pybamm are made up of a collection of submodels. First let's take a look at the submodels that make up the DFN"
   ]
  },
  {
   "cell_type": "code",
   "execution_count": 2,
   "id": "bdaf2567",
   "metadata": {},
   "outputs": [],
   "source": [
    "dfn = pybamm.lithium_ion.DFN()"
   ]
  },
  {
   "cell_type": "code",
   "execution_count": 3,
   "id": "e48b1a9a",
   "metadata": {},
   "outputs": [
    {
     "data": {
      "text/plain": [
       "{'external circuit': <pybamm.models.submodels.external_circuit.current_control_external_circuit.CurrentControl at 0x7f78d6b88c10>,\n",
       " 'porosity': <pybamm.models.submodels.porosity.constant_porosity.Constant at 0x7f78d6ac33d0>,\n",
       " 'negative active material': <pybamm.models.submodels.active_material.constant_active_material.Constant at 0x7f78d6ac34d0>,\n",
       " 'positive active material': <pybamm.models.submodels.active_material.constant_active_material.Constant at 0x7f78d6ac3550>,\n",
       " 'electrolyte tortuosity': <pybamm.models.submodels.tortuosity.bruggeman_tortuosity.Bruggeman at 0x7f78d6ac3490>,\n",
       " 'electrode tortuosity': <pybamm.models.submodels.tortuosity.bruggeman_tortuosity.Bruggeman at 0x7f78d6ac3610>,\n",
       " 'transverse convection': <pybamm.models.submodels.convection.transverse.no_convection.NoConvection at 0x7f78d6ac36d0>,\n",
       " 'through-cell convection': <pybamm.models.submodels.convection.through_cell.no_convection.NoConvection at 0x7f78d6ac3750>,\n",
       " 'negative interface': <pybamm.models.submodels.interface.kinetics.butler_volmer.ButlerVolmer at 0x7f78d6ac3790>,\n",
       " 'positive interface': <pybamm.models.submodels.interface.kinetics.butler_volmer.ButlerVolmer at 0x7f78d6ac3810>,\n",
       " 'negative oxygen interface': <pybamm.models.submodels.interface.kinetics.no_reaction.NoReaction at 0x7f78d6ac38d0>,\n",
       " 'positive oxygen interface': <pybamm.models.submodels.interface.kinetics.no_reaction.NoReaction at 0x7f78d6ac3990>,\n",
       " 'negative particle': <pybamm.models.submodels.particle.no_distribution.fickian_diffusion.FickianDiffusion at 0x7f78d6ac3a90>,\n",
       " 'positive particle': <pybamm.models.submodels.particle.no_distribution.fickian_diffusion.FickianDiffusion at 0x7f78d74fa1d0>,\n",
       " 'negative electrode potential': <pybamm.models.submodels.electrode.ohm.full_ohm.Full at 0x7f78d6ac3a50>,\n",
       " 'positive electrode potential': <pybamm.models.submodels.electrode.ohm.full_ohm.Full at 0x7f78d6ac3c10>,\n",
       " 'electrolyte diffusion': <pybamm.models.submodels.electrolyte_diffusion.full_diffusion.Full at 0x7f78d6e14b10>,\n",
       " 'electrolyte conductivity': <pybamm.models.submodels.electrolyte_conductivity.full_conductivity.Full at 0x7f78d6ac3d50>,\n",
       " 'thermal': <pybamm.models.submodels.thermal.isothermal.Isothermal at 0x7f78d78160d0>,\n",
       " 'current collector': <pybamm.models.submodels.current_collector.homogeneous_current_collector.Uniform at 0x7f78d6e14850>,\n",
       " 'negative sei': <pybamm.models.submodels.interface.sei.no_sei.NoSEI at 0x7f78d6ac3e50>,\n",
       " 'positive sei': <pybamm.models.submodels.interface.sei.no_sei.NoSEI at 0x7f78d6ac3f10>,\n",
       " 'negative lithium plating': <pybamm.models.submodels.interface.lithium_plating.no_plating.NoPlating at 0x7f78d6ac3fd0>,\n",
       " 'positive lithium plating': <pybamm.models.submodels.interface.lithium_plating.no_plating.NoPlating at 0x7f78d6ae4090>}"
      ]
     },
     "execution_count": 3,
     "metadata": {},
     "output_type": "execute_result"
    }
   ],
   "source": [
    "dfn.submodels"
   ]
  },
  {
   "cell_type": "markdown",
   "id": "2e257b79",
   "metadata": {},
   "source": [
    "This returns a dictionary of all the submodels that make up the DFN. We can see there a models for a range of different physical phenomena. \n",
    "\n",
    "Let's take a look at the submodels that make up the SPM"
   ]
  },
  {
   "cell_type": "code",
   "execution_count": 4,
   "id": "d5664f69",
   "metadata": {},
   "outputs": [
    {
     "data": {
      "text/plain": [
       "{'external circuit': <pybamm.models.submodels.external_circuit.current_control_external_circuit.CurrentControl at 0x7f78d67615d0>,\n",
       " 'porosity': <pybamm.models.submodels.porosity.constant_porosity.Constant at 0x7f78d6692cd0>,\n",
       " 'negative active material': <pybamm.models.submodels.active_material.constant_active_material.Constant at 0x7f78d668cd10>,\n",
       " 'positive active material': <pybamm.models.submodels.active_material.constant_active_material.Constant at 0x7f78d668c550>,\n",
       " 'electrolyte tortuosity': <pybamm.models.submodels.tortuosity.bruggeman_tortuosity.Bruggeman at 0x7f78d6692050>,\n",
       " 'electrode tortuosity': <pybamm.models.submodels.tortuosity.bruggeman_tortuosity.Bruggeman at 0x7f78d668c710>,\n",
       " 'through-cell convection': <pybamm.models.submodels.convection.through_cell.no_convection.NoConvection at 0x7f78d668c0d0>,\n",
       " 'transverse convection': <pybamm.models.submodels.convection.transverse.no_convection.NoConvection at 0x7f78d66edc50>,\n",
       " 'negative interface': <pybamm.models.submodels.interface.inverse_kinetics.inverse_butler_volmer.InverseButlerVolmer at 0x7f78d66dcd50>,\n",
       " 'positive interface': <pybamm.models.submodels.interface.inverse_kinetics.inverse_butler_volmer.InverseButlerVolmer at 0x7f78d6674850>,\n",
       " 'negative interface current': <pybamm.models.submodels.interface.inverse_kinetics.inverse_butler_volmer.CurrentForInverseButlerVolmer at 0x7f78d667d650>,\n",
       " 'positive interface current': <pybamm.models.submodels.interface.inverse_kinetics.inverse_butler_volmer.CurrentForInverseButlerVolmer at 0x7f78d6684410>,\n",
       " 'negative oxygen interface': <pybamm.models.submodels.interface.kinetics.no_reaction.NoReaction at 0x7f78d6684c50>,\n",
       " 'positive oxygen interface': <pybamm.models.submodels.interface.kinetics.no_reaction.NoReaction at 0x7f78d6684ad0>,\n",
       " 'negative particle': <pybamm.models.submodels.particle.no_distribution.x_averaged_fickian_diffusion.XAveragedFickianDiffusion at 0x7f78d6684a50>,\n",
       " 'positive particle': <pybamm.models.submodels.particle.no_distribution.x_averaged_fickian_diffusion.XAveragedFickianDiffusion at 0x7f78d672ef10>,\n",
       " 'negative electrode potential': <pybamm.models.submodels.electrode.ohm.leading_ohm.LeadingOrder at 0x7f78d6684910>,\n",
       " 'leading-order electrolyte conductivity': <pybamm.models.submodels.electrolyte_conductivity.leading_order_conductivity.LeadingOrder at 0x7f78d66ffa90>,\n",
       " 'electrolyte diffusion': <pybamm.models.submodels.electrolyte_diffusion.constant_concentration.ConstantConcentration at 0x7f78d66ffb10>,\n",
       " 'positive electrode potential': <pybamm.models.submodels.electrode.ohm.leading_ohm.LeadingOrder at 0x7f78d6934e10>,\n",
       " 'thermal': <pybamm.models.submodels.thermal.isothermal.Isothermal at 0x7f78d6699090>,\n",
       " 'current collector': <pybamm.models.submodels.current_collector.homogeneous_current_collector.Uniform at 0x7f78d66992d0>,\n",
       " 'negative sei': <pybamm.models.submodels.interface.sei.no_sei.NoSEI at 0x7f78d6699390>,\n",
       " 'positive sei': <pybamm.models.submodels.interface.sei.no_sei.NoSEI at 0x7f78d6699450>,\n",
       " 'negative lithium plating': <pybamm.models.submodels.interface.lithium_plating.no_plating.NoPlating at 0x7f78d6699510>,\n",
       " 'positive lithium plating': <pybamm.models.submodels.interface.lithium_plating.no_plating.NoPlating at 0x7f78d66995d0>}"
      ]
     },
     "execution_count": 4,
     "metadata": {},
     "output_type": "execute_result"
    }
   ],
   "source": [
    "spm = pybamm.lithium_ion.SPM()\n",
    "spm.submodels"
   ]
  },
  {
   "cell_type": "markdown",
   "id": "716c259e",
   "metadata": {},
   "source": [
    "It's hard to compare these directly by looking, but we can see there are submodels for all of the same physics, but they are different in the SPM and DFN. For instance, let's take a look at the model used to determine the concentration in the electrolyte "
   ]
  },
  {
   "cell_type": "code",
   "execution_count": 5,
   "id": "86aa5b86",
   "metadata": {},
   "outputs": [
    {
     "name": "stdout",
     "output_type": "stream",
     "text": [
      "<pybamm.models.submodels.electrolyte_diffusion.constant_concentration.ConstantConcentration object at 0x7f78d66ffb10>\n",
      "<pybamm.models.submodels.electrolyte_diffusion.full_diffusion.Full object at 0x7f78d6e14b10>\n"
     ]
    }
   ],
   "source": [
    "print(spm.submodels[\"electrolyte diffusion\"])\n",
    "print(dfn.submodels[\"electrolyte diffusion\"])"
   ]
  },
  {
   "cell_type": "markdown",
   "id": "92f1cae8",
   "metadata": {},
   "source": [
    "We see that in the SPM the concentration in the electrolyte is constant, since the SPM doesn't include any electrolyte effects, whereas in the DFN we have the \"full diffusion\" model. We can take a look at the documentation, references and source code to see exactly what equation this model uses.\n",
    "\n",
    "As seen in the first session, we can compare the behaviour of the two models"
   ]
  },
  {
   "cell_type": "code",
   "execution_count": 6,
   "id": "d524afb1",
   "metadata": {},
   "outputs": [],
   "source": [
    "models = [spm, dfn]\n",
    "\n",
    "sols = []\n",
    "for model in models:\n",
    "    sim = pybamm.Simulation(model)\n",
    "    sol = sim.solve([0, 3600])\n",
    "    sols.append(sol)    "
   ]
  },
  {
   "cell_type": "code",
   "execution_count": 9,
   "id": "b2dae51a",
   "metadata": {},
   "outputs": [
    {
     "data": {
      "application/vnd.jupyter.widget-view+json": {
       "model_id": "ad163713f62a48bd899d83238d38664d",
       "version_major": 2,
       "version_minor": 0
      },
      "text/plain": [
       "interactive(children=(FloatSlider(value=0.0, description='t', max=1.0, step=0.01), Output()), _dom_classes=('w…"
      ]
     },
     "metadata": {},
     "output_type": "display_data"
    },
    {
     "data": {
      "text/plain": [
       "<pybamm.plotting.quick_plot.QuickPlot at 0x7f78d5dc3c50>"
      ]
     },
     "execution_count": 9,
     "metadata": {},
     "output_type": "execute_result"
    }
   ],
   "source": [
    "pybamm.dynamic_plot(sols, [\"Electrolyte concentration [mol.m-3]\", \"Terminal voltage [V]\"])"
   ]
  },
  {
   "cell_type": "code",
   "execution_count": null,
   "id": "cb930751",
   "metadata": {},
   "outputs": [],
   "source": []
  }
 ],
 "metadata": {
  "kernelspec": {
   "display_name": "Python 3",
   "language": "python",
   "name": "python3"
  },
  "language_info": {
   "codemirror_mode": {
    "name": "ipython",
    "version": 3
   },
   "file_extension": ".py",
   "mimetype": "text/x-python",
   "name": "python",
   "nbconvert_exporter": "python",
   "pygments_lexer": "ipython3",
   "version": "3.7.12"
  }
 },
 "nbformat": 4,
 "nbformat_minor": 5
}
