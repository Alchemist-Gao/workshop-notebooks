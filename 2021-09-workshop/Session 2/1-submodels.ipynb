{
 "cells": [
  {
   "cell_type": "markdown",
   "id": "fd06a2bd",
   "metadata": {},
   "source": [
    "# Session 2\n",
    "## Models as a collection of submodels"
   ]
  },
  {
   "cell_type": "code",
   "execution_count": 1,
   "id": "09b5c091",
   "metadata": {},
   "outputs": [],
   "source": [
    "import pybamm"
   ]
  },
  {
   "cell_type": "markdown",
   "id": "08c75b67",
   "metadata": {},
   "source": [
    "All of the models in pybamm are made up of a collection of submodels. First let's take a look at the submodels that make up the DFN"
   ]
  },
  {
   "cell_type": "code",
   "execution_count": 2,
   "id": "bdaf2567",
   "metadata": {},
   "outputs": [],
   "source": [
    "dfn = pybamm.lithium_ion.DFN()"
   ]
  },
  {
   "cell_type": "code",
   "execution_count": 3,
   "id": "e48b1a9a",
   "metadata": {},
   "outputs": [
    {
     "data": {
      "text/plain": [
       "{'external circuit': <pybamm.models.submodels.external_circuit.explicit_control_external_circuit.ExplicitCurrentControl at 0x7f5eb4909130>,\n",
       " 'porosity': <pybamm.models.submodels.porosity.constant_porosity.Constant at 0x7f5eb28006a0>,\n",
       " 'negative interface utilisation': <pybamm.models.submodels.interface.interface_utilisation.full_utilisation.Full at 0x7f5eb2800850>,\n",
       " 'positive interface utilisation': <pybamm.models.submodels.interface.interface_utilisation.full_utilisation.Full at 0x7f5eb28009a0>,\n",
       " 'negative particle mechanics': <pybamm.models.submodels.particle_mechanics.no_mechanics.NoMechanics at 0x7f5eb27f2e20>,\n",
       " 'positive particle mechanics': <pybamm.models.submodels.particle_mechanics.no_mechanics.NoMechanics at 0x7f5eb27f29a0>,\n",
       " 'negative primary active material': <pybamm.models.submodels.active_material.constant_active_material.Constant at 0x7f5eb27f24f0>,\n",
       " 'positive primary active material': <pybamm.models.submodels.active_material.constant_active_material.Constant at 0x7f5eb27f2040>,\n",
       " 'electrolyte transport efficiency': <pybamm.models.submodels.transport_efficiency.bruggeman_transport_efficiency.Bruggeman at 0x7f5eb27f2f40>,\n",
       " 'electrode transport efficiency': <pybamm.models.submodels.transport_efficiency.bruggeman_transport_efficiency.Bruggeman at 0x7f5eb2855c10>,\n",
       " 'transverse convection': <pybamm.models.submodels.convection.transverse.no_convection.NoConvection at 0x7f5eb2862ac0>,\n",
       " 'through-cell convection': <pybamm.models.submodels.convection.through_cell.no_convection.NoConvection at 0x7f5eb2869340>,\n",
       " 'negative primary open circuit potential': <pybamm.models.submodels.interface.open_circuit_potential.single_ocp.SingleOpenCircuitPotential at 0x7f5eb28003d0>,\n",
       " 'positive primary open circuit potential': <pybamm.models.submodels.interface.open_circuit_potential.single_ocp.SingleOpenCircuitPotential at 0x7f5eb28004c0>,\n",
       " 'negative primary interface': <pybamm.models.submodels.interface.kinetics.butler_volmer.SymmetricButlerVolmer at 0x7f5eb28003a0>,\n",
       " 'negative secondary interface': <pybamm.models.submodels.interface.kinetics.no_reaction.NoReaction at 0x7f5eb2800b20>,\n",
       " 'total Negative interface': <pybamm.models.submodels.interface.kinetics.total_main_kinetics.TotalMainKinetics at 0x7f5eb2800520>,\n",
       " 'positive primary interface': <pybamm.models.submodels.interface.kinetics.butler_volmer.SymmetricButlerVolmer at 0x7f5eb2800fd0>,\n",
       " 'positive secondary interface': <pybamm.models.submodels.interface.kinetics.no_reaction.NoReaction at 0x7f5eb2819040>,\n",
       " 'total Positive interface': <pybamm.models.submodels.interface.kinetics.total_main_kinetics.TotalMainKinetics at 0x7f5eb2800fa0>,\n",
       " 'negative primary particle': <pybamm.models.submodels.particle.fickian_diffusion.FickianDiffusion at 0x7f5eb2819400>,\n",
       " 'positive primary particle': <pybamm.models.submodels.particle.fickian_diffusion.FickianDiffusion at 0x7f5eb2819430>,\n",
       " 'negative electrode potential': <pybamm.models.submodels.electrode.ohm.full_ohm.Full at 0x7f5eb2800310>,\n",
       " 'positive electrode potential': <pybamm.models.submodels.electrode.ohm.full_ohm.Full at 0x7f5eb2819790>,\n",
       " 'electrolyte diffusion': <pybamm.models.submodels.electrolyte_diffusion.full_diffusion.Full at 0x7f5eb28198e0>,\n",
       " 'electrolyte conductivity': <pybamm.models.submodels.electrolyte_conductivity.full_conductivity.Full at 0x7f5eb2819a30>,\n",
       " 'negative surface potential difference': <pybamm.models.submodels.electrolyte_conductivity.surface_potential_form.explicit_surface_form_conductivity.Explicit at 0x7f5eb2819bb0>,\n",
       " 'separator surface potential difference': <pybamm.models.submodels.electrolyte_conductivity.surface_potential_form.explicit_surface_form_conductivity.Explicit at 0x7f5eb2819cd0>,\n",
       " 'positive surface potential difference': <pybamm.models.submodels.electrolyte_conductivity.surface_potential_form.explicit_surface_form_conductivity.Explicit at 0x7f5eb2819e20>,\n",
       " 'thermal': <pybamm.models.submodels.thermal.isothermal.Isothermal at 0x7f5eb2886610>,\n",
       " 'current collector': <pybamm.models.submodels.current_collector.homogeneous_current_collector.Uniform at 0x7f5eb282a0d0>,\n",
       " 'sei': <pybamm.models.submodels.interface.sei.no_sei.NoSEI at 0x7f5eb282a220>,\n",
       " 'sei on cracks': <pybamm.models.submodels.interface.sei.no_sei.NoSEI at 0x7f5eb282a3a0>,\n",
       " 'lithium plating': <pybamm.models.submodels.interface.lithium_plating.no_plating.NoPlating at 0x7f5eb282a4f0>,\n",
       " 'total interface': <pybamm.models.submodels.interface.total_interfacial_current.TotalInterfacialCurrent at 0x7f5eb282a640>}"
      ]
     },
     "execution_count": 3,
     "metadata": {},
     "output_type": "execute_result"
    }
   ],
   "source": [
    "dfn.submodels"
   ]
  },
  {
   "cell_type": "markdown",
   "id": "2e257b79",
   "metadata": {},
   "source": [
    "This returns a dictionary of all the submodels that make up the DFN. We can see there a models for a range of different physical phenomena. \n",
    "\n",
    "Let's take a look at the submodels that make up the SPM"
   ]
  },
  {
   "cell_type": "code",
   "execution_count": 4,
   "id": "d5664f69",
   "metadata": {},
   "outputs": [
    {
     "data": {
      "text/plain": [
       "{'external circuit': <pybamm.models.submodels.external_circuit.explicit_control_external_circuit.ExplicitCurrentControl at 0x7f5eb26be3d0>,\n",
       " 'porosity': <pybamm.models.submodels.porosity.constant_porosity.Constant at 0x7f5eb25ffd90>,\n",
       " 'negative interface utilisation': <pybamm.models.submodels.interface.interface_utilisation.full_utilisation.Full at 0x7f5eb25fff40>,\n",
       " 'positive interface utilisation': <pybamm.models.submodels.interface.interface_utilisation.full_utilisation.Full at 0x7f5eb260a0d0>,\n",
       " 'negative particle mechanics': <pybamm.models.submodels.particle_mechanics.no_mechanics.NoMechanics at 0x7f5eb260a220>,\n",
       " 'positive particle mechanics': <pybamm.models.submodels.particle_mechanics.no_mechanics.NoMechanics at 0x7f5eb25ffbb0>,\n",
       " 'negative primary active material': <pybamm.models.submodels.active_material.constant_active_material.Constant at 0x7f5eb25ff670>,\n",
       " 'positive primary active material': <pybamm.models.submodels.active_material.constant_active_material.Constant at 0x7f5eb25ff220>,\n",
       " 'electrolyte transport efficiency': <pybamm.models.submodels.transport_efficiency.bruggeman_transport_efficiency.Bruggeman at 0x7f5eb25ffee0>,\n",
       " 'electrode transport efficiency': <pybamm.models.submodels.transport_efficiency.bruggeman_transport_efficiency.Bruggeman at 0x7f5eb2670ca0>,\n",
       " 'through-cell convection': <pybamm.models.submodels.convection.through_cell.no_convection.NoConvection at 0x7f5eb2670970>,\n",
       " 'transverse convection': <pybamm.models.submodels.convection.transverse.no_convection.NoConvection at 0x7f5eb264b580>,\n",
       " 'negative primary open circuit potential': <pybamm.models.submodels.interface.open_circuit_potential.single_ocp.SingleOpenCircuitPotential at 0x7f5eb265adc0>,\n",
       " 'positive primary open circuit potential': <pybamm.models.submodels.interface.open_circuit_potential.single_ocp.SingleOpenCircuitPotential at 0x7f5eb265a9d0>,\n",
       " 'negative interface': <pybamm.models.submodels.interface.kinetics.inverse_kinetics.inverse_butler_volmer.InverseButlerVolmer at 0x7f5eb265a820>,\n",
       " 'negative interface current': <pybamm.models.submodels.interface.kinetics.inverse_kinetics.inverse_butler_volmer.CurrentForInverseButlerVolmer at 0x7f5eb260a460>,\n",
       " 'positive interface': <pybamm.models.submodels.interface.kinetics.inverse_kinetics.inverse_butler_volmer.InverseButlerVolmer at 0x7f5eb260a5b0>,\n",
       " 'positive interface current': <pybamm.models.submodels.interface.kinetics.inverse_kinetics.inverse_butler_volmer.CurrentForInverseButlerVolmer at 0x7f5eb260a700>,\n",
       " 'negative primary particle': <pybamm.models.submodels.particle.fickian_diffusion.FickianDiffusion at 0x7f5eb260a820>,\n",
       " 'positive primary particle': <pybamm.models.submodels.particle.fickian_diffusion.FickianDiffusion at 0x7f5eb260a880>,\n",
       " 'negative electrode potential': <pybamm.models.submodels.electrode.ohm.leading_ohm.LeadingOrder at 0x7f5eb265ad30>,\n",
       " 'positive electrode potential': <pybamm.models.submodels.electrode.ohm.leading_ohm.LeadingOrder at 0x7f5eb260abe0>,\n",
       " 'leading-order electrolyte conductivity': <pybamm.models.submodels.electrolyte_conductivity.leading_order_conductivity.LeadingOrder at 0x7f5eb260ad30>,\n",
       " 'negative surface potential difference': <pybamm.models.submodels.electrolyte_conductivity.surface_potential_form.explicit_surface_form_conductivity.Explicit at 0x7f5eb260aeb0>,\n",
       " 'positive surface potential difference': <pybamm.models.submodels.electrolyte_conductivity.surface_potential_form.explicit_surface_form_conductivity.Explicit at 0x7f5eb2623040>,\n",
       " 'electrolyte diffusion': <pybamm.models.submodels.electrolyte_diffusion.constant_concentration.ConstantConcentration at 0x7f5eb260ae80>,\n",
       " 'thermal': <pybamm.models.submodels.thermal.isothermal.Isothermal at 0x7f5eb26232b0>,\n",
       " 'current collector': <pybamm.models.submodels.current_collector.homogeneous_current_collector.Uniform at 0x7f5eb2623400>,\n",
       " 'sei': <pybamm.models.submodels.interface.sei.no_sei.NoSEI at 0x7f5eb2623550>,\n",
       " 'sei on cracks': <pybamm.models.submodels.interface.sei.no_sei.NoSEI at 0x7f5eb26236d0>,\n",
       " 'lithium plating': <pybamm.models.submodels.interface.lithium_plating.no_plating.NoPlating at 0x7f5eb2623820>,\n",
       " 'total interface': <pybamm.models.submodels.interface.total_interfacial_current.TotalInterfacialCurrent at 0x7f5eb2623970>}"
      ]
     },
     "execution_count": 4,
     "metadata": {},
     "output_type": "execute_result"
    }
   ],
   "source": [
    "spm = pybamm.lithium_ion.SPM()\n",
    "spm.submodels"
   ]
  },
  {
   "cell_type": "markdown",
   "id": "716c259e",
   "metadata": {},
   "source": [
    "It's hard to compare these directly by looking, but we can see there are submodels for all of the same physics, but they are different in the SPM and DFN. For instance, let's take a look at the model used to determine the concentration in the electrolyte "
   ]
  },
  {
   "cell_type": "code",
   "execution_count": 5,
   "id": "86aa5b86",
   "metadata": {},
   "outputs": [
    {
     "name": "stdout",
     "output_type": "stream",
     "text": [
      "<pybamm.models.submodels.electrolyte_diffusion.constant_concentration.ConstantConcentration object at 0x7f5eb260ae80>\n",
      "<pybamm.models.submodels.electrolyte_diffusion.full_diffusion.Full object at 0x7f5eb28198e0>\n"
     ]
    }
   ],
   "source": [
    "print(spm.submodels[\"electrolyte diffusion\"])\n",
    "print(dfn.submodels[\"electrolyte diffusion\"])"
   ]
  },
  {
   "cell_type": "markdown",
   "id": "92f1cae8",
   "metadata": {},
   "source": [
    "We see that in the SPM the concentration in the electrolyte is constant, since the SPM doesn't include any electrolyte effects, whereas in the DFN we have the \"full diffusion\" model. We can take a look at the documentation, references and source code to see exactly what equation this model uses.\n",
    "\n",
    "As seen in the first session, we can compare the behaviour of the two models"
   ]
  },
  {
   "cell_type": "code",
   "execution_count": 6,
   "id": "d524afb1",
   "metadata": {},
   "outputs": [],
   "source": [
    "models = [spm, dfn]\n",
    "\n",
    "sols = []\n",
    "for model in models:\n",
    "    sim = pybamm.Simulation(model)\n",
    "    sol = sim.solve([0, 3600])\n",
    "    sols.append(sol)    "
   ]
  },
  {
   "cell_type": "code",
   "execution_count": 7,
   "id": "b2dae51a",
   "metadata": {},
   "outputs": [
    {
     "data": {
      "application/vnd.jupyter.widget-view+json": {
       "model_id": "196ae4e1762e42dfb99c680585218d74",
       "version_major": 2,
       "version_minor": 0
      },
      "text/plain": [
       "interactive(children=(FloatSlider(value=0.0, description='t', max=1.0, step=0.01), Output()), _dom_classes=('w…"
      ]
     },
     "metadata": {},
     "output_type": "display_data"
    },
    {
     "data": {
      "text/plain": [
       "<pybamm.plotting.quick_plot.QuickPlot at 0x7f5eb19f9700>"
      ]
     },
     "execution_count": 7,
     "metadata": {},
     "output_type": "execute_result"
    }
   ],
   "source": [
    "pybamm.dynamic_plot(sols, [\"Electrolyte concentration [mol.m-3]\", \"Terminal voltage [V]\"])"
   ]
  },
  {
   "cell_type": "code",
   "execution_count": null,
   "id": "cb930751",
   "metadata": {},
   "outputs": [],
   "source": []
  }
 ],
 "metadata": {
  "interpreter": {
   "hash": "9ed1652a5d241dfd6c013b33f6c23beb6c259ffdd0e22337ed3f89de4fac47b8"
  },
  "kernelspec": {
   "display_name": "Python 3.8.10 ('env': venv)",
   "language": "python",
   "name": "python3"
  },
  "language_info": {
   "codemirror_mode": {
    "name": "ipython",
    "version": 3
   },
   "file_extension": ".py",
   "mimetype": "text/x-python",
   "name": "python",
   "nbconvert_exporter": "python",
   "pygments_lexer": "ipython3",
   "version": "3.8.10"
  }
 },
 "nbformat": 4,
 "nbformat_minor": 5
}
