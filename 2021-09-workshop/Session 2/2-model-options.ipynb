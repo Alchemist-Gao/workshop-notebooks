{
 "cells": [
  {
   "cell_type": "markdown",
   "id": "8040dd13",
   "metadata": {},
   "source": [
    "# Session 2\n",
    "## Model options"
   ]
  },
  {
   "cell_type": "code",
   "execution_count": 4,
   "id": "82e79d50",
   "metadata": {},
   "outputs": [],
   "source": [
    "import pybamm"
   ]
  },
  {
   "cell_type": "markdown",
   "id": "a2f416a4",
   "metadata": {},
   "source": [
    "The simplest (and often best) way to change submodels is to pass options to the model. Let's load up the default DFN and the DFN with a lumped thermal model. We can do this by passing a dictionary of options to the model when we create it. We can take a look at the documentation to see the available model options."
   ]
  },
  {
   "cell_type": "code",
   "execution_count": 5,
   "id": "3c5b1e84",
   "metadata": {},
   "outputs": [],
   "source": [
    "dfn = pybamm.lithium_ion.DFN(name=\"DFN\")\n",
    "tdfn = pybamm.lithium_ion.DFN(options={\"thermal\":\"lumped\"}, name=\"TDFN\")\n",
    "# pybamm.BatteryModelOptions"
   ]
  },
  {
   "cell_type": "markdown",
   "id": "ac44b683",
   "metadata": {},
   "source": [
    "If we take a look at the submodels for the negative particle, for example, we see they are the same"
   ]
  },
  {
   "cell_type": "code",
   "execution_count": 16,
   "id": "50fd0c99",
   "metadata": {},
   "outputs": [
    {
     "name": "stdout",
     "output_type": "stream",
     "text": [
      "<pybamm.models.submodels.particle.fickian_diffusion.FickianDiffusion object at 0x7f458d5c2850>\n",
      "<pybamm.models.submodels.particle.fickian_diffusion.FickianDiffusion object at 0x7f458d478c10>\n"
     ]
    }
   ],
   "source": [
    "print(dfn.submodels[\"negative primary particle\"])\n",
    "print(tdfn.submodels[\"negative primary particle\"])"
   ]
  },
  {
   "cell_type": "markdown",
   "id": "1d6a5cb7",
   "metadata": {},
   "source": [
    "but the thermal submodel is different "
   ]
  },
  {
   "cell_type": "code",
   "execution_count": 8,
   "id": "2e8421e9",
   "metadata": {},
   "outputs": [
    {
     "name": "stdout",
     "output_type": "stream",
     "text": [
      "<pybamm.models.submodels.thermal.isothermal.Isothermal object at 0x7f458d5c2fd0>\n",
      "<pybamm.models.submodels.thermal.lumped.Lumped object at 0x7f458e3aab20>\n"
     ]
    }
   ],
   "source": [
    "print(dfn.submodels[\"thermal\"])\n",
    "print(tdfn.submodels[\"thermal\"])"
   ]
  },
  {
   "cell_type": "markdown",
   "id": "dcfe7ac9",
   "metadata": {},
   "source": [
    "Let's solve the models and compare the results"
   ]
  },
  {
   "cell_type": "code",
   "execution_count": 9,
   "id": "627a26a5",
   "metadata": {},
   "outputs": [],
   "source": [
    "models = [dfn, tdfn]\n",
    "\n",
    "params = pybamm.ParameterValues(chemistry=pybamm.parameter_sets.Chen2020)\n",
    "\n",
    "sols = []\n",
    "for model in models:\n",
    "    sim = pybamm.Simulation(model, parameter_values=params)\n",
    "    sol = sim.solve([0, 3600])\n",
    "    sols.append(sol)"
   ]
  },
  {
   "cell_type": "code",
   "execution_count": 11,
   "id": "89ab8410",
   "metadata": {},
   "outputs": [
    {
     "data": {
      "application/vnd.jupyter.widget-view+json": {
       "model_id": "ec50924a00dd49408c83299c517c4b9b",
       "version_major": 2,
       "version_minor": 0
      },
      "text/plain": [
       "interactive(children=(FloatSlider(value=0.0, description='t', max=3562.04400143409, step=35.6204400143409), Ou…"
      ]
     },
     "metadata": {},
     "output_type": "display_data"
    },
    {
     "data": {
      "text/plain": [
       "<pybamm.plotting.quick_plot.QuickPlot at 0x7f458823e220>"
      ]
     },
     "execution_count": 11,
     "metadata": {},
     "output_type": "execute_result"
    }
   ],
   "source": [
    "pybamm.dynamic_plot(sols, [\"Terminal voltage [V]\", \"Volume-averaged cell temperature [K]\",\"Electrolyte concentration\"])"
   ]
  },
  {
   "cell_type": "markdown",
   "id": "28977d84",
   "metadata": {},
   "source": [
    "As well as using submodels to add new physics (e.g. thermal effects or degradation models), we can use submodels to change the way in which certain effects are modelled. For example, the default option for the particle concentrations numerically solves a PDE describing nonlinear Fickian diffusion, but instead of solving the PDE numerically we could approximate the solution by assuming a polynomial concentration profile. Both options assume Fickian diffusion, but solve the problem in different ways. \n",
    "\n",
    "Let's compare the two approaches"
   ]
  },
  {
   "cell_type": "code",
   "execution_count": 12,
   "id": "e799594f",
   "metadata": {},
   "outputs": [],
   "source": [
    "models = [\n",
    "    pybamm.lithium_ion.DFN(name=\"PDE\"),\n",
    "    pybamm.lithium_ion.DFN(options={\"particle\":\"quadratic profile\"}, name=\"quadratic\")\n",
    "]\n",
    "\n",
    "sols = []\n",
    "for model in models:\n",
    "    sim = pybamm.Simulation(model)\n",
    "    sol = sim.solve([0, 3600])\n",
    "    sols.append(sol)"
   ]
  },
  {
   "cell_type": "code",
   "execution_count": 13,
   "id": "6758695d",
   "metadata": {},
   "outputs": [
    {
     "data": {
      "application/vnd.jupyter.widget-view+json": {
       "model_id": "0404e61c28624a468b3eb51dbff72301",
       "version_major": 2,
       "version_minor": 0
      },
      "text/plain": [
       "interactive(children=(FloatSlider(value=0.0, description='t', max=1.0, step=0.01), Output()), _dom_classes=('w…"
      ]
     },
     "metadata": {},
     "output_type": "display_data"
    },
    {
     "data": {
      "text/plain": [
       "<pybamm.plotting.quick_plot.QuickPlot at 0x7f4585c43070>"
      ]
     },
     "execution_count": 13,
     "metadata": {},
     "output_type": "execute_result"
    }
   ],
   "source": [
    "pybamm.dynamic_plot(sols, [\"X-averaged negative particle concentration\", \"Terminal voltage [V]\"])"
   ]
  },
  {
   "cell_type": "markdown",
   "id": "126e6baf",
   "metadata": {},
   "source": [
    "This does a pretty good job. Let's try using a parameter set where the diffusion is nonlinear"
   ]
  },
  {
   "cell_type": "code",
   "execution_count": 14,
   "id": "d9c91823",
   "metadata": {},
   "outputs": [],
   "source": [
    "models = [\n",
    "    pybamm.lithium_ion.DFN(name=\"PDE\"),\n",
    "    pybamm.lithium_ion.DFN(options={\"particle\":\"quadratic profile\"}, name=\"quadratic\")\n",
    "]\n",
    "\n",
    "# use Ecker parameters where diffusion is highly nonlinear\n",
    "params = pybamm.ParameterValues(chemistry=pybamm.parameter_sets.Ecker2015)\n",
    "\n",
    "sols = []\n",
    "for model in models:\n",
    "    sim = pybamm.Simulation(model, parameter_values=params)\n",
    "    sol = sim.solve([0, 3600])\n",
    "    sols.append(sol)"
   ]
  },
  {
   "cell_type": "code",
   "execution_count": 15,
   "id": "878b814b",
   "metadata": {},
   "outputs": [
    {
     "data": {
      "application/vnd.jupyter.widget-view+json": {
       "model_id": "054342b471014a3e99e872ea1bdc769c",
       "version_major": 2,
       "version_minor": 0
      },
      "text/plain": [
       "interactive(children=(FloatSlider(value=0.0, description='t', max=1.0, step=0.01), Output()), _dom_classes=('w…"
      ]
     },
     "metadata": {},
     "output_type": "display_data"
    },
    {
     "data": {
      "text/plain": [
       "<pybamm.plotting.quick_plot.QuickPlot at 0x7f4585999ca0>"
      ]
     },
     "execution_count": 15,
     "metadata": {},
     "output_type": "execute_result"
    }
   ],
   "source": [
    "pybamm.dynamic_plot(sols, [\"X-averaged negative particle concentration\", \"Terminal voltage [V]\"])"
   ]
  },
  {
   "cell_type": "markdown",
   "id": "1c9f4ff0",
   "metadata": {},
   "source": [
    "We still do a pretty good job at getting the correct voltage, but do less well at matching the concentration profile within the particle."
   ]
  }
 ],
 "metadata": {
  "interpreter": {
   "hash": "9ed1652a5d241dfd6c013b33f6c23beb6c259ffdd0e22337ed3f89de4fac47b8"
  },
  "kernelspec": {
   "display_name": "Python 3.8.10 ('env': venv)",
   "language": "python",
   "name": "python3"
  },
  "language_info": {
   "codemirror_mode": {
    "name": "ipython",
    "version": 3
   },
   "file_extension": ".py",
   "mimetype": "text/x-python",
   "name": "python",
   "nbconvert_exporter": "python",
   "pygments_lexer": "ipython3",
   "version": "3.8.10"
  }
 },
 "nbformat": 4,
 "nbformat_minor": 5
}
