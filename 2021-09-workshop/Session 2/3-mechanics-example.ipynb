{
 "cells": [
  {
   "cell_type": "markdown",
   "id": "4b71f172",
   "metadata": {},
   "source": [
    "# Session 2\n",
    "## Example: mechanical models"
   ]
  },
  {
   "cell_type": "code",
   "execution_count": 3,
   "id": "3b5abe28",
   "metadata": {},
   "outputs": [],
   "source": [
    "import pybamm"
   ]
  },
  {
   "cell_type": "markdown",
   "id": "2b8f2134",
   "metadata": {},
   "source": [
    "You can pass multiple options to combine different effects. In this example we include thermal and mechanical effects in the DFN. The mechanical model is from the paper \"Electrochemical Thermal-Mechanical Modelling of Stress Inhomogeneity in Lithium-Ion Pouch Cells\", Ai et al, 2020. \n",
    "\n",
    "First we load the model"
   ]
  },
  {
   "cell_type": "code",
   "execution_count": 4,
   "id": "21e460aa",
   "metadata": {},
   "outputs": [],
   "source": [
    "model = pybamm.lithium_ion.DFN(\n",
    "    options = {\n",
    "        \"particle\": \"Fickian diffusion\", \n",
    "        \"thermal\": \"lumped\", \n",
    "        \"particle mechanics\": \"swelling only\",\n",
    "    }\n",
    ")"
   ]
  },
  {
   "cell_type": "markdown",
   "id": "b93564a5",
   "metadata": {},
   "source": [
    "Let's set up and solve our simulation. Note: for the mechanical parameters we need to use the Ai2020 parameter set "
   ]
  },
  {
   "cell_type": "code",
   "execution_count": 5,
   "id": "2e09b73b",
   "metadata": {},
   "outputs": [
    {
     "data": {
      "application/vnd.jupyter.widget-view+json": {
       "model_id": "de3de35517994d13b4ec6a4b1ea6085d",
       "version_major": 2,
       "version_minor": 0
      },
      "text/plain": [
       "interactive(children=(FloatSlider(value=0.0, description='t', max=1.0, step=0.01), Output()), _dom_classes=('w…"
      ]
     },
     "metadata": {},
     "output_type": "display_data"
    },
    {
     "data": {
      "text/plain": [
       "<pybamm.plotting.quick_plot.QuickPlot at 0x7f68bcebd790>"
      ]
     },
     "execution_count": 5,
     "metadata": {},
     "output_type": "execute_result"
    }
   ],
   "source": [
    "chemistry = pybamm.parameter_sets.Ai2020\n",
    "params = pybamm.ParameterValues(chemistry=chemistry)\n",
    "\n",
    "sim = pybamm.Simulation(\n",
    "        model,\n",
    "        parameter_values=params,\n",
    ")\n",
    "sim.solve([0, 3600])\n",
    "\n",
    "sim.plot([\"Terminal voltage [V]\", \"Volume-averaged cell temperature [K]\", \"Cell thickness change [m]\"])"
   ]
  },
  {
   "cell_type": "code",
   "execution_count": null,
   "id": "d7742766",
   "metadata": {},
   "outputs": [],
   "source": []
  }
 ],
 "metadata": {
  "interpreter": {
   "hash": "9ed1652a5d241dfd6c013b33f6c23beb6c259ffdd0e22337ed3f89de4fac47b8"
  },
  "kernelspec": {
   "display_name": "Python 3.8.10 ('env': venv)",
   "language": "python",
   "name": "python3"
  },
  "language_info": {
   "codemirror_mode": {
    "name": "ipython",
    "version": 3
   },
   "file_extension": ".py",
   "mimetype": "text/x-python",
   "name": "python",
   "nbconvert_exporter": "python",
   "pygments_lexer": "ipython3",
   "version": "3.8.10"
  }
 },
 "nbformat": 4,
 "nbformat_minor": 5
}
