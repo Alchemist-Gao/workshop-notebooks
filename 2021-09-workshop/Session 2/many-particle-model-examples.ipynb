{
 "cells": [
  {
   "cell_type": "markdown",
   "metadata": {},
   "source": [
    "# Session 2\n",
    "\n",
    "In this notebook we showcase how to use the \"many-particle\" models and submodels, i.e. including a distribution of particle sizes. We look at two examples:\n",
    "1. Many-Particle Model (MPM): a stand-alone \"x-averaged\" model\n",
    "2. Many-Particle DFN: particle-size distributions at every electrode \"x\" location."
   ]
  },
  {
   "cell_type": "markdown",
   "metadata": {},
   "source": [
    "## Example: Many-Particle Model (MPM)\n",
    "\n",
    "The Many Paticle Model (MPM) of a lithium-ion battery is an extension of the Single Particle Model to account for a continuous distribution of active particle sizes in each electrode $\\text{k}=\\text{n},\\text{p}$. Therefore, many of the same model assumptions hold, e.g., the transport in the electrolyte is instantaneous and hence the through-cell variation (in $x$) is neglected. The full set of assumptions and description of the particle size geometry is given in the below reference.\n",
    "\n",
    "### Reference\n",
    "\n",
    "Toby L. Kirk, Jack Evans, Colin P. Please, and S. Jonathan Chapman. Modelling electrode heterogeneity in lithium-ion batteries: unimodal and bimodal particle-size distributions. arXiv:2006.12208, 2020. URL: https://arxiv.org/abs/2006.12208, arXiv:2006.12208.\n",
    "\n",
    "\n",
    "### Particle size geometry\n",
    "\n",
    "In each electrode $\\text{k}=\\text{n},\\text{p}$, there are spherical particles of each radius $R_\\text{k}$ in the range $R_\\text{k,min}<R_\\text{k}<R_\\text{k,max}$, with the fraction of all particles of a given radius $R_\\text{k}$ given by the particle-size distribution (base on number)\n",
    "$f_\\text{k,num}(R_\\text{k})$. However, it is more convenient to deal with the fraction\n",
    "of _surface area_ contributed by particles of radius $R_\\text{k}$, which we denote $f_{\\text{k},a}(R_\\text{k})$ and refer to as the _area-weighted_ particle-size distribution. It is sufficient to specify $f_{\\text{k},a}(R_\\text{k})$, which is present requirement in the MPM.\n",
    "See Kirk et al. (2020) for more details on the different types of distribution and mean radii. \n",
    "\n"
   ]
  },
  {
   "cell_type": "markdown",
   "metadata": {},
   "source": [
    "### Model equations\n",
    "\n",
    "In each electrode, only one representative particle of each size $R_\\text{k}$ needs to be modelled. The concentration of lithium in the solid particles is denoted $c_{\\text{s,k}}(t,R_\\text{k}, r_\\text{k})$, which varies with time, particle radius $R_\\text{k}$, and the radial coordinate $r_{\\text{k}} \\in[0,R_{\\text{k}}]$ within the spherical particle. The potential is uniform across all particles in the electrode, $\\phi_{\\text{s,k}}(t)$. \n",
    "\n",
    "The equations for molar conservation of lithium ($c_{\\text{s,k}}$) are then: \n",
    "$$\n",
    "\\frac{\\partial c_{\\text{s,k}}}{\\partial t} = -\\frac{1}{r_{\\text{k}}^2} \\frac{\\partial}{\\partial r_{\\text{k}}} \\left(r_{\\text{k}}^2 N_{\\text{s,k}}\\right), \\\\\n",
    "N_{\\text{s,k}} = -D_{\\text{s,k}}(c_{\\text{s,k}}) \\frac{\\partial c_{\\text{s,k}}}{\\partial r_{\\text{k}}}, \\quad \\text{k} \\in \\text{n, p}, \n",
    "$$\n",
    "$$\n",
    "N_{\\text{s,k}}\\big|_{r_{\\text{k}}=0} = 0,  \\ \\  N_{\\text{s,k}}\\big|_{r_{\\text{k}}=R_{\\text{k}}} = \n",
    "\\frac{j_{\\text{k}}}{F} \\quad \\text{k} \\in \\text{n, p}, \\quad\\\\\n",
    "c_{\\text{s,k}}(0,R_\\text{k},r_{\\text{k}}) = c_{\\text{s,k,0}}, \\quad \\text{k} \\in \\text{n, p},$$\n",
    "where $D_{\\text{s,k}}$ is the diffusion coefficient in the solid, $N_{\\text{s,k}}$ denotes the flux of lithium ions in the solid particle, $F$ is Faraday's constant. The interfacial current density is given by $j_\\text{k}$, which also varies with particle size.\n",
    "\n",
    "### Algebraic equations for the potentials\n",
    "The potentials $\\phi_{\\text{s,k}}(t)$ are determined via the integral constraint that the total current flowing across the electrode interface must equal (up to a minus sign) the through-cell current density $i$. Writing this in terms of the potential differences $\\Delta \\phi_{\\text{s,k}} = \\phi_{\\text{s,k}} - \\phi_{\\text{e}}$,\n",
    "$$\n",
    "L_\\text{k}a_\\text{k,tot}\\int_{R_\\text{k,min}}^{R_\\text{k,max}} f_{\\text{k},a}(R_\\text{k})j_\\text{k}\\,\\text{d}R_\\text{k} = \\begin{cases}\n",
    "i,\\quad \\text{k}=\\text{n}\\\\\n",
    "-i,\\quad \\text{k}=\\text{p}\n",
    "\\end{cases}\n",
    "$$\n",
    "with Butler-Volmer kinetics\n",
    "$$\n",
    "j_\\text{k}=j_{\\text{0,k}} \\sinh\\left[\\frac{F}{2R_g T}(\\Delta \\phi_{\\text{s,k}}-U_{\\text{k}}(c_{\\text{s},\\text{k}}))\\right], \\ \\ j_{\\text{0,k}} =  m_{\\text{k}}(c_{\\text{e}}c_{\\text{s,k}})^{1/2}(c_\\text{k,max}-c_{\\text{s,k}})^{1/2}.\n",
    "$$\n",
    "This gives an integral (or algebraic once discretized) equation for $\\Delta \\phi_{\\text{s,k}}$ which is coupled to the concentration equations above.\n",
    "The terminal voltage is then obtained from\n",
    "$$\n",
    "V = \\Delta \\phi_{\\text{s,p}} - \\Delta \\phi_{\\text{s,n}}\n",
    "$$"
   ]
  },
  {
   "cell_type": "markdown",
   "metadata": {},
   "source": [
    "## Example solving MPM\n"
   ]
  },
  {
   "cell_type": "code",
   "execution_count": 1,
   "metadata": {},
   "outputs": [
    {
     "name": "stdout",
     "output_type": "stream",
     "text": [
      "\u001b[33mWARNING: You are using pip version 21.1.2; however, version 21.2.4 is available.\n",
      "You should consider upgrading via the '/home/user/PyBaMM/.tox/dev/bin/python -m pip install --upgrade pip' command.\u001b[0m\n",
      "Note: you may need to restart the kernel to use updated packages.\n"
     ]
    }
   ],
   "source": [
    "%pip install pybamm -q    # install PyBaMM if it is not installed\n",
    "import pybamm\n",
    "import matplotlib.pyplot as plt"
   ]
  },
  {
   "cell_type": "markdown",
   "metadata": {},
   "source": [
    "Create an instance of the model"
   ]
  },
  {
   "cell_type": "code",
   "execution_count": 2,
   "metadata": {},
   "outputs": [],
   "source": [
    "model = pybamm.lithium_ion.MPM()"
   ]
  },
  {
   "cell_type": "markdown",
   "metadata": {},
   "source": [
    "First, let's inspect some variables (e.g. the lithium concentration and interfacial current densities) that depend on particle size $R_\\text{k}$. The variables of interest are `X-averaged` versions as there is no dependence on $x$."
   ]
  },
  {
   "cell_type": "code",
   "execution_count": 3,
   "metadata": {},
   "outputs": [
    {
     "name": "stdout",
     "output_type": "stream",
     "text": [
      "X-averaged negative particle concentration\n",
      "X-averaged negative particle concentration [mol.m-3]\n",
      "X-averaged negative particle concentration distribution\n",
      "X-averaged negative particle concentration distribution [mol.m-3]\n"
     ]
    }
   ],
   "source": [
    "model.variables.search(\"X-averaged negative particle concentration\")"
   ]
  },
  {
   "cell_type": "markdown",
   "metadata": {},
   "source": [
    "The concentration that is being solved for in the MPM, and which varies with particle size is the one ending in `\"distribution\"`. "
   ]
  },
  {
   "cell_type": "code",
   "execution_count": 4,
   "metadata": {},
   "outputs": [
    {
     "data": {
      "text/plain": [
       "{'primary': ['negative particle'],\n",
       " 'secondary': ['negative particle size'],\n",
       " 'tertiary': ['current collector']}"
      ]
     },
     "execution_count": 4,
     "metadata": {},
     "output_type": "execute_result"
    }
   ],
   "source": [
    "c_n_R_dependent = model.variables[\"X-averaged negative particle concentration distribution\"]\n",
    "c_n_R_dependent.domains"
   ]
  },
  {
   "cell_type": "markdown",
   "metadata": {},
   "source": [
    "Notice that the secondary domain is `'negative particle size'`, which is treated as another (microscale) domain in PyBaMM."
   ]
  },
  {
   "cell_type": "markdown",
   "metadata": {},
   "source": [
    "### Mesh points\n",
    " By default, the size domain is discretized into 30 grid points on a uniform 1D mesh - \"bins of equal width\"."
   ]
  },
  {
   "cell_type": "code",
   "execution_count": 5,
   "metadata": {},
   "outputs": [
    {
     "name": "stdout",
     "output_type": "stream",
     "text": [
      "x_n has 20 mesh points\n",
      "x_s has 20 mesh points\n",
      "x_p has 20 mesh points\n",
      "r_n has 30 mesh points\n",
      "r_p has 30 mesh points\n",
      "y has 10 mesh points\n",
      "z has 10 mesh points\n",
      "R_n has 30 mesh points\n",
      "R_p has 30 mesh points\n"
     ]
    }
   ],
   "source": [
    "for var, npts in model.default_var_pts.items():\n",
    "    print(var,'has',npts,'mesh points')"
   ]
  },
  {
   "cell_type": "markdown",
   "metadata": {},
   "source": [
    "## Solve\n",
    "Now solve the MPM with the default parameters and size distributions (lognormals)."
   ]
  },
  {
   "cell_type": "code",
   "execution_count": 6,
   "metadata": {},
   "outputs": [
    {
     "data": {
      "application/vnd.jupyter.widget-view+json": {
       "model_id": "2b48fb11635a455893f5619ccb129bc8",
       "version_major": 2,
       "version_minor": 0
      },
      "text/plain": [
       "interactive(children=(FloatSlider(value=0.0, description='t', max=3580.9687331142245, step=35.80968733114224),…"
      ]
     },
     "metadata": {},
     "output_type": "display_data"
    },
    {
     "data": {
      "text/plain": [
       "<pybamm.plotting.quick_plot.QuickPlot at 0x7f63b409f908>"
      ]
     },
     "execution_count": 6,
     "metadata": {},
     "output_type": "execute_result"
    }
   ],
   "source": [
    "sim = pybamm.Simulation(model)\n",
    "sim.solve(t_eval=[0, 3600])\n",
    "\n",
    "# plot some variables that depend on R\n",
    "output_variables = [\n",
    "    \"X-averaged negative particle surface concentration distribution\",\n",
    "    \"X-averaged positive particle surface concentration distribution\",\n",
    "    \"Terminal voltage [V]\",\n",
    "    \"X-averaged negative area-weighted particle-size distribution\",\n",
    "    \"X-averaged positive area-weighted particle-size distribution\",\n",
    "]\n",
    "\n",
    "sim.plot(output_variables=output_variables)"
   ]
  },
  {
   "cell_type": "markdown",
   "metadata": {},
   "source": [
    "## Input custom particle-size distributions"
   ]
  },
  {
   "cell_type": "markdown",
   "metadata": {},
   "source": [
    "In order to solve the MPM, one must input the area-weighted particle-size distribution $f_{\\text{k},a}$ for each electrode $\\text{k}=\\text{n,p}$ and the minimum and maximum radius limits $R_\\text{k,min}$, $R_\\text{k,max}$. The default distributions $f_{\\text{k},a}$, usable with the Marquis et al. [[6]](#References) parameter set, are lognormals with means equal to the `\"Negative particle radius [m]\"` and `\"Positive particle radius [m]\"` values, and standard deviations equal to 0.3 times the mean.\n",
    "\n",
    "You can input any size distribution $f_{\\text{k},a}(R_\\text{k})$ as a function of $R_\\text{k}$, which we will now demonstrate.\n",
    "\n",
    "Note: $f_{\\text{k},a}(R_\\text{k})$ should ideally integrate to 1 over the specified $R_\\text{k}$ range, although it is automatically normalized within PyBaMM anyway. A distribution such as a lognormal, once restricted to $[R_\\text{k,min},R_\\text{k,max}]$, discretized, and then renormalized, strictly will not integrate to 1 or have the originally desired mean or variance. The mean and variance of the final discretized distribution can be checked as output variables (see below). Having a sufficient number of mesh points in $R_\\text{k}$ or a sufficiently wide interval $[R_\\text{k,min},R_\\text{k,max}]$ should alleviate this issue, however."
   ]
  },
  {
   "cell_type": "code",
   "execution_count": 7,
   "metadata": {},
   "outputs": [],
   "source": [
    "# Parameter set (no distribution parameters by default)\n",
    "params = pybamm.ParameterValues(chemistry=pybamm.parameter_sets.Marquis2019)\n",
    "\n",
    "# Extract the radii values. We will choose these to be the means of our area-weighted distributions\n",
    "R_av_n = params[\"Negative particle radius [m]\"]\n",
    "\n",
    "# Standard deviations (dimensional)\n",
    "sd_n = 0.2 * R_av_n\n",
    "\n",
    "# Minimum and maximum particle sizes (dimensional)\n",
    "R_min_n = 0\n",
    "R_max_n = 2 * R_av_n\n",
    "\n",
    "\n",
    "# Set the area-weighted particle-size distributions.\n",
    "# Choose a lognormal (but any pybamm function could be used)\n",
    "def f_n(R):\n",
    "    return pybamm.lognormal(R, R_av_n, sd_n)\n",
    "\n",
    "# Note: the only argument must be the particle size R\n"
   ]
  },
  {
   "cell_type": "code",
   "execution_count": 8,
   "metadata": {},
   "outputs": [],
   "source": [
    "# Positive electrode\n",
    "R_av_p = params[\"Positive particle radius [m]\"]\n",
    "sd_p = 0.6 * R_av_p\n",
    "R_min_p = 0\n",
    "R_max_p = 3 * R_av_p\n",
    "\n",
    "def f_p(R):\n",
    "    return pybamm.lognormal(R, R_av_p, sd_p)\n"
   ]
  },
  {
   "cell_type": "code",
   "execution_count": 9,
   "metadata": {},
   "outputs": [],
   "source": [
    "# input distribution params to the dictionary\n",
    "distribution_params = {\n",
    "    \"Negative minimum particle radius [m]\": R_min_n,\n",
    "    \"Positive minimum particle radius [m]\": R_min_p,\n",
    "    \"Negative maximum particle radius [m]\": R_max_n,\n",
    "    \"Positive maximum particle radius [m]\": R_max_p,\n",
    "    \"Negative area-weighted \"\n",
    "    + \"particle-size distribution [m-1]\": f_n,\n",
    "    \"Positive area-weighted \"\n",
    "    + \"particle-size distribution [m-1]\": f_p,\n",
    "}\n",
    "params.update(distribution_params, check_already_exists=False)\n"
   ]
  },
  {
   "cell_type": "code",
   "execution_count": 10,
   "metadata": {},
   "outputs": [
    {
     "data": {
      "application/vnd.jupyter.widget-view+json": {
       "model_id": "3dfde6a4f5774689abc24c593d710213",
       "version_major": 2,
       "version_minor": 0
      },
      "text/plain": [
       "interactive(children=(FloatSlider(value=0.0, description='t', max=3511.0164027809988, step=35.11016402780999),…"
      ]
     },
     "metadata": {},
     "output_type": "display_data"
    },
    {
     "data": {
      "text/plain": [
       "<pybamm.plotting.quick_plot.QuickPlot at 0x7f63b360f2b0>"
      ]
     },
     "execution_count": 10,
     "metadata": {},
     "output_type": "execute_result"
    }
   ],
   "source": [
    "sim = pybamm.Simulation(model, parameter_values=params)\n",
    "sim.solve(t_eval=[0, 3600])\n",
    "\n",
    "sim.plot(output_variables=output_variables)"
   ]
  },
  {
   "cell_type": "markdown",
   "metadata": {},
   "source": [
    "The discretized size distributions can be plotted as histograms. Only the area-weighted distribution has been input, but the corresponding number and volume-weighted ones are also given as output variables."
   ]
  },
  {
   "cell_type": "code",
   "execution_count": 11,
   "metadata": {},
   "outputs": [
    {
     "data": {
      "image/png": "[encoded data removed]",
      "text/plain": [
       "<Figure size 432x288 with 1 Axes>"
      ]
     },
     "metadata": {
      "needs_background": "light"
     },
     "output_type": "display_data"
    }
   ],
   "source": [
    "\n",
    "# The discrete sizes or \"bins\" used, and the distributions\n",
    "R_p = sim.solution[\"Positive particle sizes [m]\"].entries[:,0] # const in the current collector direction\n",
    "# The distributions\n",
    "f_a_p = sim.solution[\"X-averaged positive area-weighted particle-size distribution [m-1]\"].entries[:,0]\n",
    "f_num_p = sim.solution[\"X-averaged positive number-based particle-size distribution [m-1]\"].entries[:,0]\n",
    "f_v_p = sim.solution[\"X-averaged positive volume-weighted particle-size distribution [m-1]\"].entries[:,0]\n",
    "\n",
    "\n",
    "# plot\n",
    "width_p = (R_p[-1] - R_p[-2])/ 1e-6\n",
    "plt.bar(R_p / 1e-6, f_a_p * 1e-6, width=width_p, alpha=0.3, color=\"tab:blue\",\n",
    "           label=\"area-weighted\")\n",
    "plt.bar(R_p / 1e-6, f_num_p * 1e-6, width=width_p, alpha=0.3, color=\"tab:red\",\n",
    "           label=\"number-weighted\")\n",
    "plt.bar(R_p / 1e-6, f_v_p * 1e-6, width=width_p, alpha=0.3, color=\"tab:green\",\n",
    "           label=\"volume-weighted\")\n",
    "plt.xlim((0,30))\n",
    "plt.xlabel(\"Particle size $R_{\\mathrm{p}}$ [$\\mu$m]\", fontsize=12)\n",
    "plt.ylabel(\"[$\\mu$m$^{-1}$]\", fontsize=12)\n",
    "plt.legend(fontsize=10)\n",
    "plt.title(\"Discretized distributions (histograms) in positive electrode\")\n",
    "plt.show()"
   ]
  },
  {
   "cell_type": "markdown",
   "metadata": {},
   "source": [
    "# Example: Doyle-Fuller-Newman Model with particle-size distributions"
   ]
  },
  {
   "cell_type": "markdown",
   "metadata": {},
   "source": [
    "This next example demonstrates the extension of the Doyle-Fuller-Newman (DFN) model to include a distribution of particle sizes at every macroscale location (e.g. through-cell coordinate $x$) within the electrodes. This model, referred to here as the Many-Particle DFN (or MP-DFN), also extends the ideas of the Many-Particle Model or MPM (an $x$-averaged model) into the DFN framework. Note: this differs from a \"size distribution in x\", where the particle size is a function of $x$ but with only a single size at any given value of $x$.\n",
    "\n",
    "By default per electrode, the DFN has 1 microscale dimension (the radial coordinate within the active particles, $r_{\\mathrm{k}}$, $\\mathrm{k}=\\mathrm{n,p}$) and 1 macroscale dimension (the through-cell coordinate $x$), and is commonly called \"pseudo-2D\". The MP-DFN adds another microscale variation with particle size $R_{\\mathrm{k}}$, $\\mathrm{k}=\\mathrm{n,p}$ over an interval $[R_{\\mathrm{k,min}}, R_{\\mathrm{k,max}}]$, $\\mathrm{k}=\\mathrm{n,p}$, and thus can be thought of as \"pseudo-3D\".\n",
    "\n",
    "## Reference\n",
    "\n",
    "The model equations for the MP-DFN, which allow for variations in the through-cell $x$ direction and therefore include electrolyte dynamics, are similar to those of the MPM and DFN, and are available in\n",
    "\n",
    "Toby L. Kirk, Colin P. Please, and S. Jon Chapman. Physical modelling of the slow voltage relaxation phenomenon in lithium-ion batteries. Journal of The Electrochemical Society, 168(6):060554, jun 2021. URL: https://doi.org/10.1149/1945-7111/ac0bf7, doi:10.1149/1945-7111/ac0bf7."
   ]
  },
  {
   "cell_type": "markdown",
   "metadata": {},
   "source": [
    "## Example solving the MP-DFN"
   ]
  },
  {
   "cell_type": "markdown",
   "metadata": {},
   "source": [
    "The MP-DFN can be accessed from the `DFN` model in PyBaMM, and specifying the `\"particle size\"` option. The default option for `\"particle size\"` is `\"single\"`. Let's change this to `\"distribution\"` and pass to the `DFN` when loading the model."
   ]
  },
  {
   "cell_type": "code",
   "execution_count": 12,
   "metadata": {},
   "outputs": [],
   "source": [
    "# choose option(s)\n",
    "options = {\n",
    "    \"particle size\": \"distribution\"\n",
    "}\n",
    "\n",
    "# load model\n",
    "model = pybamm.lithium_ion.DFN(options=options, name=\"MP-DFN\")"
   ]
  },
  {
   "cell_type": "markdown",
   "metadata": {},
   "source": [
    "### Solve"
   ]
  },
  {
   "cell_type": "markdown",
   "metadata": {},
   "source": [
    "Solve for a 1C discharge"
   ]
  },
  {
   "cell_type": "code",
   "execution_count": 13,
   "metadata": {},
   "outputs": [
    {
     "data": {
      "text/plain": [
       "<pybamm.solvers.solution.Solution at 0x7f63b4900320>"
      ]
     },
     "execution_count": 13,
     "metadata": {},
     "output_type": "execute_result"
    }
   ],
   "source": [
    "# load parameter values into simuluation\n",
    "solver = pybamm.CasadiSolver(mode=\"fast\")\n",
    "sim = pybamm.Simulation(model, parameter_values=params, solver=solver) # same params as for MPM\n",
    "\n",
    "# solve\n",
    "sim.solve(t_eval=[0, 3500])"
   ]
  },
  {
   "cell_type": "code",
   "execution_count": 14,
   "metadata": {},
   "outputs": [
    {
     "data": {
      "application/vnd.jupyter.widget-view+json": {
       "model_id": "103628daf8a049ddab7f4fdf39bd537e",
       "version_major": 2,
       "version_minor": 0
      },
      "text/plain": [
       "interactive(children=(FloatSlider(value=0.0, description='t', max=3500.0, step=35.0), Output()), _dom_classes=…"
      ]
     },
     "metadata": {},
     "output_type": "display_data"
    },
    {
     "data": {
      "text/plain": [
       "<pybamm.plotting.quick_plot.QuickPlot at 0x7f63ab39ed68>"
      ]
     },
     "execution_count": 14,
     "metadata": {},
     "output_type": "execute_result"
    }
   ],
   "source": [
    "# plot some variables that depend on particle size\n",
    "output_variables = [\n",
    "    \"Negative particle surface concentration distribution\",\n",
    "    \"Positive particle surface concentration distribution\",\n",
    "    \"X-averaged negative particle surface concentration distribution\",\n",
    "    \"X-averaged negative area-weighted particle-size distribution\",\n",
    "    \"X-averaged positive area-weighted particle-size distribution\",\n",
    "    \"Terminal voltage [V]\",\n",
    "]\n",
    "\n",
    "# plot\n",
    "sim.plot(output_variables=output_variables)"
   ]
  },
  {
   "cell_type": "markdown",
   "metadata": {},
   "source": [
    "The particle size distributions do not vary with $x$, so you can use the \"X-averaged\" versions to better visualize the discretized distribution in $R$ that PyBaMM uses."
   ]
  },
  {
   "cell_type": "markdown",
   "metadata": {},
   "source": [
    "## Compare MP-DFN to MPM and DFN models"
   ]
  },
  {
   "cell_type": "markdown",
   "metadata": {},
   "source": [
    "The MP-DFN is an extension of the MPM (size distributions, but no x variation) and DFN models (x variation, but no size distribution). Here we compare the three for the same parameter values, for a discharge followed by a relaxation. Note: this is implemented here by specifying the current function to be a Heaviside, not using the `Experiment` class."
   ]
  },
  {
   "cell_type": "code",
   "execution_count": 15,
   "metadata": {},
   "outputs": [],
   "source": [
    "models = [\n",
    "    pybamm.lithium_ion.DFN(options={\"particle size\": \"distribution\"}, name=\"MP-DFN\"),\n",
    "    pybamm.lithium_ion.MPM(),\n",
    "    pybamm.lithium_ion.DFN()\n",
    "]\n",
    "\n",
    "# parameters\n",
    "params = pybamm.ParameterValues(chemistry=pybamm.parameter_sets.Marquis2019)\n",
    "params = pybamm.get_size_distribution_parameters(params) \n",
    "\n",
    "# define current function\n",
    "t_cutoff = 3450   # [s]\n",
    "t_rest = 3600  # [s]\n",
    "I_typ = params[\"Typical current [A]\"]  # current for 1C\n",
    "\n",
    "def current(t):\n",
    "    return I_typ * pybamm.EqualHeaviside(t, t_cutoff)\n",
    "\n",
    "params.update({\"Current function [A]\": current})\n",
    "t_eval = [0, t_cutoff + t_rest]\n",
    "\n",
    "# solve\n",
    "sims = []\n",
    "for model in models:\n",
    "    sim = pybamm.Simulation(model, parameter_values=params, solver=solver)\n",
    "    sim.solve(t_eval=t_eval)\n",
    "    sims.append(sim)"
   ]
  },
  {
   "cell_type": "code",
   "execution_count": 16,
   "metadata": {},
   "outputs": [
    {
     "data": {
      "image/png": "[encoded data removed]",
      "text/plain": [
       "<Figure size 576x288 with 2 Axes>"
      ]
     },
     "metadata": {
      "needs_background": "light"
     },
     "output_type": "display_data"
    }
   ],
   "source": [
    "# plot current, terminal voltage \n",
    "qp = pybamm.QuickPlot(sims, output_variables=[\"Current [A]\", \"Terminal voltage [V]\"])\n",
    "qp.plot(0)"
   ]
  },
  {
   "cell_type": "markdown",
   "metadata": {},
   "source": [
    "During discharge, the MPM overpredicts the voltage since it neglects the transport (and therefore resistances) through the electrolyte. During the relaxation portion, the DFN overpredicts the rate of relaxation to equilibrium compared to the MP-DFN and MPM. However, the slower relaxation of the size distribution models has been shown to agree better with experiment (Kirk et al. 2021)."
   ]
  }
 ],
 "metadata": {
  "kernelspec": {
   "display_name": "Python 3",
   "language": "python",
   "name": "python3"
  },
  "language_info": {
   "codemirror_mode": {
    "name": "ipython",
    "version": 3
   },
   "file_extension": ".py",
   "mimetype": "text/x-python",
   "name": "python",
   "nbconvert_exporter": "python",
   "pygments_lexer": "ipython3",
   "version": "3.6.9"
  }
 },
 "nbformat": 4,
 "nbformat_minor": 2
}
