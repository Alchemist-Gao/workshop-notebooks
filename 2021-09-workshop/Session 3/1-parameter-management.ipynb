{
 "cells": [
  {
   "cell_type": "markdown",
   "metadata": {
    "id": "TtuZRASWkZYi"
   },
   "source": [
    "# Session 3 - Parameter management\n",
    "\n",
    "In session 1 we saw how to choose a parameter set from the ones built in PyBaMM, and how to change some of these parameters. In this notebook we will see some advanced features in parameter management.\n",
    "\n",
    "We start by importing PyBaMM:"
   ]
  },
  {
   "cell_type": "code",
   "execution_count": 1,
   "metadata": {
    "colab": {
     "base_uri": "https://localhost:8080/"
    },
    "id": "whuFW9jdkgyV",
    "outputId": "196534cc-7de9-4dcb-bbc5-fba418e5f99c"
   },
   "outputs": [],
   "source": [
    "# %pip install pybamm -q    # install PyBaMM if not installed\n",
    "import pybamm"
   ]
  },
  {
   "cell_type": "markdown",
   "metadata": {
    "id": "x-d2yExipw-m"
   },
   "source": [
    "## How can I define a new parameter set?\n",
    "\n",
    "Manually changing the parameters works very well when we need to change a few parameters, but it is not ideal when we have to change the entire parameter set (especially if we want to run many different scripts with the same new parameter set). In these situations, it is better to define a new parameter set.\n",
    "\n",
    "Default parameter sets in PyBaMM are located inside your installation directory, typically something like\n",
    "```bash\n",
    "../venv/lib/pythonX.Y/site-packages/pybamm/input/parameters/\n",
    "```\n",
    "\n",
    "The `input/parameters` directory has the following structure:\n",
    "```\n",
    "input/parameters/\n",
    "  lithium_ion/ # Chemistry\n",
    "    negative_electrodes/ # Component\n",
    "      graphite_Chen2020/ # Parameter set\n",
    "        parameters.csv\n",
    "        graphite_LGM50_diffusivity_Chen2020.py\n",
    "        ...\n",
    "      graphite_mcmb2528_Marquis2019/\n",
    "      graphite_Ecker2015/\n",
    "      ...\n",
    "    positive_electrodes/\n",
    "    cells/\n",
    "    electrolytes/\n",
    "    seis/\n",
    "    separators/\n",
    "    experiments/\n",
    "  lead_acid/\n",
    "    ...\n",
    "```\n",
    "\n",
    "Note that this matches the `chemistry` defined for a parameter set (see Session 1 for more details):"
   ]
  },
  {
   "cell_type": "code",
   "execution_count": 2,
   "metadata": {
    "colab": {
     "base_uri": "https://localhost:8080/"
    },
    "id": "SDdqDi_Y36zy",
    "outputId": "6ceb820d-cc78-445a-eee4-780ede46eda2"
   },
   "outputs": [
    {
     "data": {
      "text/plain": [
       "{'chemistry': 'lithium_ion',\n",
       " 'cell': 'LGM50_Chen2020',\n",
       " 'negative electrode': 'graphite_Chen2020',\n",
       " 'separator': 'separator_Chen2020',\n",
       " 'positive electrode': 'nmc_Chen2020',\n",
       " 'electrolyte': 'lipf6_Nyman2008',\n",
       " 'experiment': '1C_discharge_from_full_Chen2020',\n",
       " 'sei': 'example',\n",
       " 'citation': 'Chen2020'}"
      ]
     },
     "execution_count": 2,
     "metadata": {},
     "output_type": "execute_result"
    }
   ],
   "source": [
    "pybamm.parameter_sets.Chen2020"
   ]
  },
  {
   "cell_type": "markdown",
   "metadata": {
    "id": "c7l6f0Fo3rQU"
   },
   "source": [
    "The chemistry (`Chen2020` here) is defined from different components (e.g. `cell`, `electrolyte`...) and a parameter set is associated to each component (e.g. `LGM50_Chen2020`, `lipf6_Nyman2008`...). The parameter set of each component matches the name of a subdirectory in `input/parameters`.\n",
    "\n",
    "When setting parameter values using `pybamm.ParameterValues` and a filename or chemistry, the file is actually searched in several locations. These locations are specified by `pybamm.PARAMETER_PATH`. The default is"
   ]
  },
  {
   "cell_type": "code",
   "execution_count": 3,
   "metadata": {
    "id": "myliiSSv3l3u"
   },
   "outputs": [
    {
     "data": {
      "text/plain": [
       "['/home/ggx/pybamm_ws/workshop-notebooks/env/lib/python3.8/site-packages',\n",
       " '/home/ggx/pybamm_ws/workshop-notebooks/2021-09-workshop/Session 3',\n",
       " '/home/ggx/pybamm_ws/workshop-notebooks/env/lib/python3.8/site-packages/pybamm/input/parameters']"
      ]
     },
     "execution_count": 3,
     "metadata": {},
     "output_type": "execute_result"
    }
   ],
   "source": [
    "pybamm.PARAMETER_PATH"
   ]
  },
  {
   "cell_type": "markdown",
   "metadata": {},
   "source": [
    "so the parameter files will first be searched in the root directory, then the current directory and finally where the `input/parameters` directory within the PyBaMM installation directory (where the default parameter are placed). You can also add a search location by modifying the `PARAMETER_PATH` list.\n",
    "\n",
    "**NB:** This means that if a parameter set is in the current directory and has the same name as a default one it will override the values of the default parameter set, which we use in the next section."
   ]
  },
  {
   "cell_type": "markdown",
   "metadata": {},
   "source": [
    "### Defining a new parameter set\n",
    "\n",
    "Quite often it is easier to define new parameter sets by editing existing ones. We strongly recommend to not alter the default parameter sets in `input/parameters`. Instead, we can pull the parameter sets for a given chemistry into the current directory. Then, any changes on those parameters will override the default ones.\n",
    "\n",
    "To do so, we need to run some bash code. However, we can do this directly in the Juptyer notebook by starting the cell with the tag `%%bash`."
   ]
  },
  {
   "cell_type": "code",
   "execution_count": 4,
   "metadata": {},
   "outputs": [],
   "source": [
    "%%bash\n",
    "pybamm_edit_parameter lithium_ion"
   ]
  },
  {
   "cell_type": "markdown",
   "metadata": {},
   "source": [
    "The above command creates a `lithium_ion` directory in the current directory, populated with copies of the default parameters that we can edit. Note that if a file called `lithium_ion` already exists, maybe because you already executed the command, you will get an error when you run the cell above.\n",
    "\n",
    "If we take a look inside `lithium_ion` we see that the directory is structured into components as we explained earlier."
   ]
  },
  {
   "cell_type": "code",
   "execution_count": 5,
   "metadata": {},
   "outputs": [
    {
     "name": "stdout",
     "output_type": "stream",
     "text": [
      "cells\n",
      "electrolytes\n",
      "experiments\n",
      "__init__.py\n",
      "lithium_platings\n",
      "negative_electrodes\n",
      "positive_electrodes\n",
      "__pycache__\n",
      "seis\n",
      "separators\n"
     ]
    }
   ],
   "source": [
    "%%bash\n",
    "ls lithium_ion"
   ]
  },
  {
   "cell_type": "markdown",
   "metadata": {},
   "source": [
    "We could modify any of the existing parameter sets without worrying of messing up with PyBaMM defaults, but here we will define a new parameter set. As an example, we will create a new negative electrode parameter set starting from `graphite_Chen2020`. To do so, we create a copy of the parameter set and we call it `graphite_workshop`"
   ]
  },
  {
   "cell_type": "code",
   "execution_count": 6,
   "metadata": {},
   "outputs": [],
   "source": [
    "%%bash\n",
    "cp -r lithium_ion/negative_electrodes/graphite_Chen2020/. lithium_ion/negative_electrodes/graphite_workshop"
   ]
  },
  {
   "cell_type": "markdown",
   "metadata": {},
   "source": [
    "Now we can go and modify the parameters with your favourite text editor.\n",
    "\n",
    "To run simulations with the new parameter set we can import an existing `chemistry` and modify one of the components."
   ]
  },
  {
   "cell_type": "code",
   "execution_count": 7,
   "metadata": {},
   "outputs": [],
   "source": [
    "chemistry = pybamm.parameter_sets.Chen2020\n",
    "chemistry[\"negative electrode\"] = \"graphite_workshop\""
   ]
  },
  {
   "cell_type": "markdown",
   "metadata": {},
   "source": [
    "So if we check the chemistry we see that all the components are the default for `Chen2020` except for the negative electrode which is the new one we defined:"
   ]
  },
  {
   "cell_type": "code",
   "execution_count": 8,
   "metadata": {},
   "outputs": [
    {
     "data": {
      "text/plain": [
       "{'chemistry': 'lithium_ion',\n",
       " 'cell': 'LGM50_Chen2020',\n",
       " 'negative electrode': 'graphite_workshop',\n",
       " 'separator': 'separator_Chen2020',\n",
       " 'positive electrode': 'nmc_Chen2020',\n",
       " 'electrolyte': 'lipf6_Nyman2008',\n",
       " 'experiment': '1C_discharge_from_full_Chen2020',\n",
       " 'sei': 'example',\n",
       " 'citation': 'Chen2020'}"
      ]
     },
     "execution_count": 8,
     "metadata": {},
     "output_type": "execute_result"
    }
   ],
   "source": [
    "chemistry"
   ]
  },
  {
   "cell_type": "markdown",
   "metadata": {},
   "source": [
    "Now we can import the parameter for this specific chemistry and run the simulations as usual"
   ]
  },
  {
   "cell_type": "code",
   "execution_count": 9,
   "metadata": {},
   "outputs": [
    {
     "data": {
      "application/vnd.jupyter.widget-view+json": {
       "model_id": "3a51cb455cfd4d8abfdd9c09b20d8563",
       "version_major": 2,
       "version_minor": 0
      },
      "text/plain": [
       "interactive(children=(FloatSlider(value=0.0, description='t', max=3554.184718616442, step=35.54184718616442), …"
      ]
     },
     "metadata": {},
     "output_type": "display_data"
    },
    {
     "data": {
      "text/plain": [
       "<pybamm.plotting.quick_plot.QuickPlot at 0x7fb71ce93e20>"
      ]
     },
     "execution_count": 9,
     "metadata": {},
     "output_type": "execute_result"
    }
   ],
   "source": [
    "parameter_values = pybamm.ParameterValues(chemistry=chemistry)\n",
    "model = pybamm.lithium_ion.DFN()\n",
    "sim = pybamm.Simulation(model, parameter_values=parameter_values)\n",
    "sim.solve([0, 3600])\n",
    "sim.plot()"
   ]
  },
  {
   "cell_type": "markdown",
   "metadata": {},
   "source": [
    "### Contributing a new parameter set to PyBaMM"
   ]
  },
  {
   "cell_type": "markdown",
   "metadata": {},
   "source": [
    "Once you're happy with a particular parameter set of your creation, you may want to contribute it to the PyBaMM parameter distribution, so that it comes bundled with future release of PyBaMM. This will require you to open a Pull Request on the PyBaMM repository, a process that is described here.\n",
    "\n",
    "A prerequisite is that you add you parameter set to the default parameter directory. You could manually copy the corresponding directory to your installation directory, but the command `pybamm_add_param` can do it for you:"
   ]
  },
  {
   "cell_type": "code",
   "execution_count": 10,
   "metadata": {},
   "outputs": [],
   "source": [
    "%%bash\n",
    "# pybamm_add_parameter <dir> <chemistry> <component>\n",
    "pybamm_add_parameter lithium_ion/negative_electrodes/graphite_workshop lithium_ion negative_electrodes"
   ]
  },
  {
   "cell_type": "markdown",
   "metadata": {},
   "source": [
    "To test that the new parameter set has been added to the default ones, we remove it from the "
   ]
  },
  {
   "cell_type": "code",
   "execution_count": 11,
   "metadata": {},
   "outputs": [],
   "source": [
    "%%bash\n",
    "rm -r lithium_ion/negative_electrodes/graphite_workshop"
   ]
  },
  {
   "cell_type": "markdown",
   "metadata": {},
   "source": [
    "Then we can define again the same chemistry as before and run the simulation."
   ]
  },
  {
   "cell_type": "code",
   "execution_count": 12,
   "metadata": {},
   "outputs": [
    {
     "data": {
      "application/vnd.jupyter.widget-view+json": {
       "model_id": "ace4643bd21a48e8b9a8e4e7295e20df",
       "version_major": 2,
       "version_minor": 0
      },
      "text/plain": [
       "interactive(children=(FloatSlider(value=0.0, description='t', max=3554.184718616442, step=35.54184718616442), …"
      ]
     },
     "metadata": {},
     "output_type": "display_data"
    },
    {
     "data": {
      "text/plain": [
       "<pybamm.plotting.quick_plot.QuickPlot at 0x7fb716e281f0>"
      ]
     },
     "execution_count": 12,
     "metadata": {},
     "output_type": "execute_result"
    }
   ],
   "source": [
    "chemistry = pybamm.parameter_sets.Chen2020\n",
    "chemistry[\"negative electrode\"] = \"graphite_workshop\"\n",
    "parameter_values = pybamm.ParameterValues(chemistry=chemistry)\n",
    "model = pybamm.lithium_ion.DFN()\n",
    "sim = pybamm.Simulation(model, parameter_values=parameter_values)\n",
    "sim.solve([0, 3600])\n",
    "sim.plot()"
   ]
  },
  {
   "cell_type": "markdown",
   "metadata": {},
   "source": [
    "If you think you made a mistake when adding the parameters, you can always delete a specific parameter set using `pybamm_rm_param`."
   ]
  },
  {
   "cell_type": "code",
   "execution_count": 13,
   "metadata": {},
   "outputs": [],
   "source": [
    "%%bash\n",
    "pybamm_rm_parameter -f lithium_ion/negative_electrodes/graphite_workshop lithium_ion negative_electrodes"
   ]
  },
  {
   "cell_type": "markdown",
   "metadata": {},
   "source": [
    "Before finishing, let's remove the local `lithium_ion` directory to leave this directory as we found it"
   ]
  },
  {
   "cell_type": "code",
   "execution_count": 14,
   "metadata": {},
   "outputs": [],
   "source": [
    "%%bash\n",
    "rm -rf lithium_ion"
   ]
  },
  {
   "cell_type": "code",
   "execution_count": null,
   "metadata": {},
   "outputs": [],
   "source": []
  }
 ],
 "metadata": {
  "colab": {
   "collapsed_sections": [],
   "name": "Parameters.ipynb",
   "provenance": []
  },
  "interpreter": {
   "hash": "9ed1652a5d241dfd6c013b33f6c23beb6c259ffdd0e22337ed3f89de4fac47b8"
  },
  "kernelspec": {
   "display_name": "Python 3.8.10 ('env': venv)",
   "language": "python",
   "name": "python3"
  },
  "language_info": {
   "codemirror_mode": {
    "name": "ipython",
    "version": 3
   },
   "file_extension": ".py",
   "mimetype": "text/x-python",
   "name": "python",
   "nbconvert_exporter": "python",
   "pygments_lexer": "ipython3",
   "version": "3.8.10"
  },
  "widgets": {
   "application/vnd.jupyter.widget-state+json": {
    "11011806409544bb8ac3eaf349089d8a": {
     "model_module": "@jupyter-widgets/output",
     "model_module_version": "1.0.0",
     "model_name": "OutputModel",
     "state": {
      "_dom_classes": [],
      "_model_module": "@jupyter-widgets/output",
      "_model_module_version": "1.0.0",
      "_model_name": "OutputModel",
      "_view_count": null,
      "_view_module": "@jupyter-widgets/output",
      "_view_module_version": "1.0.0",
      "_view_name": "OutputView",
      "layout": "IPY_MODEL_2480bb8f230c4f4baedfaea23d159b3c",
      "msg_id": "",
      "outputs": [
       {
        "data": {
         "image/png": "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\n",
         "text/plain": "<Figure size 1080x504 with 8 Axes>"
        },
        "metadata": {
         "needs_background": "light"
        },
        "output_type": "display_data"
       }
      ]
     }
    },
    "23353a2a374a4ad1a180ba9e3d2050ea": {
     "model_module": "@jupyter-widgets/base",
     "model_module_version": "1.2.0",
     "model_name": "LayoutModel",
     "state": {
      "_model_module": "@jupyter-widgets/base",
      "_model_module_version": "1.2.0",
      "_model_name": "LayoutModel",
      "_view_count": null,
      "_view_module": "@jupyter-widgets/base",
      "_view_module_version": "1.2.0",
      "_view_name": "LayoutView",
      "align_content": null,
      "align_items": null,
      "align_self": null,
      "border": null,
      "bottom": null,
      "display": null,
      "flex": null,
      "flex_flow": null,
      "grid_area": null,
      "grid_auto_columns": null,
      "grid_auto_flow": null,
      "grid_auto_rows": null,
      "grid_column": null,
      "grid_gap": null,
      "grid_row": null,
      "grid_template_areas": null,
      "grid_template_columns": null,
      "grid_template_rows": null,
      "height": null,
      "justify_content": null,
      "justify_items": null,
      "left": null,
      "margin": null,
      "max_height": null,
      "max_width": null,
      "min_height": null,
      "min_width": null,
      "object_fit": null,
      "object_position": null,
      "order": null,
      "overflow": null,
      "overflow_x": null,
      "overflow_y": null,
      "padding": null,
      "right": null,
      "top": null,
      "visibility": null,
      "width": null
     }
    },
    "2480bb8f230c4f4baedfaea23d159b3c": {
     "model_module": "@jupyter-widgets/base",
     "model_module_version": "1.2.0",
     "model_name": "LayoutModel",
     "state": {
      "_model_module": "@jupyter-widgets/base",
      "_model_module_version": "1.2.0",
      "_model_name": "LayoutModel",
      "_view_count": null,
      "_view_module": "@jupyter-widgets/base",
      "_view_module_version": "1.2.0",
      "_view_name": "LayoutView",
      "align_content": null,
      "align_items": null,
      "align_self": null,
      "border": null,
      "bottom": null,
      "display": null,
      "flex": null,
      "flex_flow": null,
      "grid_area": null,
      "grid_auto_columns": null,
      "grid_auto_flow": null,
      "grid_auto_rows": null,
      "grid_column": null,
      "grid_gap": null,
      "grid_row": null,
      "grid_template_areas": null,
      "grid_template_columns": null,
      "grid_template_rows": null,
      "height": null,
      "justify_content": null,
      "justify_items": null,
      "left": null,
      "margin": null,
      "max_height": null,
      "max_width": null,
      "min_height": null,
      "min_width": null,
      "object_fit": null,
      "object_position": null,
      "order": null,
      "overflow": null,
      "overflow_x": null,
      "overflow_y": null,
      "padding": null,
      "right": null,
      "top": null,
      "visibility": null,
      "width": null
     }
    },
    "441406e9f3a84e6bb3af6877820af2a8": {
     "model_module": "@jupyter-widgets/controls",
     "model_module_version": "1.5.0",
     "model_name": "FloatSliderModel",
     "state": {
      "_dom_classes": [],
      "_model_module": "@jupyter-widgets/controls",
      "_model_module_version": "1.5.0",
      "_model_name": "FloatSliderModel",
      "_view_count": null,
      "_view_module": "@jupyter-widgets/controls",
      "_view_module_version": "1.5.0",
      "_view_name": "FloatSliderView",
      "continuous_update": true,
      "description": "t",
      "description_tooltip": null,
      "disabled": false,
      "layout": "IPY_MODEL_db8da02e1f354408893a4c02f5ee9c84",
      "max": 3600,
      "min": 0,
      "orientation": "horizontal",
      "readout": true,
      "readout_format": ".2f",
      "step": 36,
      "style": "IPY_MODEL_cb84161c10cb47e39c31e8817d2bdbd4",
      "value": 0
     }
    },
    "7dd0c092ba134e23950a0fcf65f25e7a": {
     "model_module": "@jupyter-widgets/controls",
     "model_module_version": "1.5.0",
     "model_name": "FloatSliderModel",
     "state": {
      "_dom_classes": [],
      "_model_module": "@jupyter-widgets/controls",
      "_model_module_version": "1.5.0",
      "_model_name": "FloatSliderModel",
      "_view_count": null,
      "_view_module": "@jupyter-widgets/controls",
      "_view_module_version": "1.5.0",
      "_view_name": "FloatSliderView",
      "continuous_update": true,
      "description": "t",
      "description_tooltip": null,
      "disabled": false,
      "layout": "IPY_MODEL_23353a2a374a4ad1a180ba9e3d2050ea",
      "max": 3600,
      "min": 0,
      "orientation": "horizontal",
      "readout": true,
      "readout_format": ".2f",
      "step": 36,
      "style": "IPY_MODEL_861412be0c1347669d84acade06ed0af",
      "value": 0
     }
    },
    "7fed7e13d054450ea7c4560efa23d0a1": {
     "model_module": "@jupyter-widgets/base",
     "model_module_version": "1.2.0",
     "model_name": "LayoutModel",
     "state": {
      "_model_module": "@jupyter-widgets/base",
      "_model_module_version": "1.2.0",
      "_model_name": "LayoutModel",
      "_view_count": null,
      "_view_module": "@jupyter-widgets/base",
      "_view_module_version": "1.2.0",
      "_view_name": "LayoutView",
      "align_content": null,
      "align_items": null,
      "align_self": null,
      "border": null,
      "bottom": null,
      "display": null,
      "flex": null,
      "flex_flow": null,
      "grid_area": null,
      "grid_auto_columns": null,
      "grid_auto_flow": null,
      "grid_auto_rows": null,
      "grid_column": null,
      "grid_gap": null,
      "grid_row": null,
      "grid_template_areas": null,
      "grid_template_columns": null,
      "grid_template_rows": null,
      "height": null,
      "justify_content": null,
      "justify_items": null,
      "left": null,
      "margin": null,
      "max_height": null,
      "max_width": null,
      "min_height": null,
      "min_width": null,
      "object_fit": null,
      "object_position": null,
      "order": null,
      "overflow": null,
      "overflow_x": null,
      "overflow_y": null,
      "padding": null,
      "right": null,
      "top": null,
      "visibility": null,
      "width": null
     }
    },
    "861412be0c1347669d84acade06ed0af": {
     "model_module": "@jupyter-widgets/controls",
     "model_module_version": "1.5.0",
     "model_name": "SliderStyleModel",
     "state": {
      "_model_module": "@jupyter-widgets/controls",
      "_model_module_version": "1.5.0",
      "_model_name": "SliderStyleModel",
      "_view_count": null,
      "_view_module": "@jupyter-widgets/base",
      "_view_module_version": "1.2.0",
      "_view_name": "StyleView",
      "description_width": "",
      "handle_color": null
     }
    },
    "8b59b6446260488d8179c00bb3107572": {
     "model_module": "@jupyter-widgets/controls",
     "model_module_version": "1.5.0",
     "model_name": "VBoxModel",
     "state": {
      "_dom_classes": [
       "widget-interact"
      ],
      "_model_module": "@jupyter-widgets/controls",
      "_model_module_version": "1.5.0",
      "_model_name": "VBoxModel",
      "_view_count": null,
      "_view_module": "@jupyter-widgets/controls",
      "_view_module_version": "1.5.0",
      "_view_name": "VBoxView",
      "box_style": "",
      "children": [
       "IPY_MODEL_7dd0c092ba134e23950a0fcf65f25e7a",
       "IPY_MODEL_de43daf247ba461eb972944524b4b61f"
      ],
      "layout": "IPY_MODEL_91eef825e1a3464ab27e2db2ba191fdd"
     }
    },
    "91eef825e1a3464ab27e2db2ba191fdd": {
     "model_module": "@jupyter-widgets/base",
     "model_module_version": "1.2.0",
     "model_name": "LayoutModel",
     "state": {
      "_model_module": "@jupyter-widgets/base",
      "_model_module_version": "1.2.0",
      "_model_name": "LayoutModel",
      "_view_count": null,
      "_view_module": "@jupyter-widgets/base",
      "_view_module_version": "1.2.0",
      "_view_name": "LayoutView",
      "align_content": null,
      "align_items": null,
      "align_self": null,
      "border": null,
      "bottom": null,
      "display": null,
      "flex": null,
      "flex_flow": null,
      "grid_area": null,
      "grid_auto_columns": null,
      "grid_auto_flow": null,
      "grid_auto_rows": null,
      "grid_column": null,
      "grid_gap": null,
      "grid_row": null,
      "grid_template_areas": null,
      "grid_template_columns": null,
      "grid_template_rows": null,
      "height": null,
      "justify_content": null,
      "justify_items": null,
      "left": null,
      "margin": null,
      "max_height": null,
      "max_width": null,
      "min_height": null,
      "min_width": null,
      "object_fit": null,
      "object_position": null,
      "order": null,
      "overflow": null,
      "overflow_x": null,
      "overflow_y": null,
      "padding": null,
      "right": null,
      "top": null,
      "visibility": null,
      "width": null
     }
    },
    "a1ce3999205b4400adfad7b0a460a2ee": {
     "model_module": "@jupyter-widgets/controls",
     "model_module_version": "1.5.0",
     "model_name": "VBoxModel",
     "state": {
      "_dom_classes": [
       "widget-interact"
      ],
      "_model_module": "@jupyter-widgets/controls",
      "_model_module_version": "1.5.0",
      "_model_name": "VBoxModel",
      "_view_count": null,
      "_view_module": "@jupyter-widgets/controls",
      "_view_module_version": "1.5.0",
      "_view_name": "VBoxView",
      "box_style": "",
      "children": [
       "IPY_MODEL_441406e9f3a84e6bb3af6877820af2a8",
       "IPY_MODEL_11011806409544bb8ac3eaf349089d8a"
      ],
      "layout": "IPY_MODEL_a68f7cd997d5457e93b2ff67a90489fc"
     }
    },
    "a68f7cd997d5457e93b2ff67a90489fc": {
     "model_module": "@jupyter-widgets/base",
     "model_module_version": "1.2.0",
     "model_name": "LayoutModel",
     "state": {
      "_model_module": "@jupyter-widgets/base",
      "_model_module_version": "1.2.0",
      "_model_name": "LayoutModel",
      "_view_count": null,
      "_view_module": "@jupyter-widgets/base",
      "_view_module_version": "1.2.0",
      "_view_name": "LayoutView",
      "align_content": null,
      "align_items": null,
      "align_self": null,
      "border": null,
      "bottom": null,
      "display": null,
      "flex": null,
      "flex_flow": null,
      "grid_area": null,
      "grid_auto_columns": null,
      "grid_auto_flow": null,
      "grid_auto_rows": null,
      "grid_column": null,
      "grid_gap": null,
      "grid_row": null,
      "grid_template_areas": null,
      "grid_template_columns": null,
      "grid_template_rows": null,
      "height": null,
      "justify_content": null,
      "justify_items": null,
      "left": null,
      "margin": null,
      "max_height": null,
      "max_width": null,
      "min_height": null,
      "min_width": null,
      "object_fit": null,
      "object_position": null,
      "order": null,
      "overflow": null,
      "overflow_x": null,
      "overflow_y": null,
      "padding": null,
      "right": null,
      "top": null,
      "visibility": null,
      "width": null
     }
    },
    "cb84161c10cb47e39c31e8817d2bdbd4": {
     "model_module": "@jupyter-widgets/controls",
     "model_module_version": "1.5.0",
     "model_name": "SliderStyleModel",
     "state": {
      "_model_module": "@jupyter-widgets/controls",
      "_model_module_version": "1.5.0",
      "_model_name": "SliderStyleModel",
      "_view_count": null,
      "_view_module": "@jupyter-widgets/base",
      "_view_module_version": "1.2.0",
      "_view_name": "StyleView",
      "description_width": "",
      "handle_color": null
     }
    },
    "db8da02e1f354408893a4c02f5ee9c84": {
     "model_module": "@jupyter-widgets/base",
     "model_module_version": "1.2.0",
     "model_name": "LayoutModel",
     "state": {
      "_model_module": "@jupyter-widgets/base",
      "_model_module_version": "1.2.0",
      "_model_name": "LayoutModel",
      "_view_count": null,
      "_view_module": "@jupyter-widgets/base",
      "_view_module_version": "1.2.0",
      "_view_name": "LayoutView",
      "align_content": null,
      "align_items": null,
      "align_self": null,
      "border": null,
      "bottom": null,
      "display": null,
      "flex": null,
      "flex_flow": null,
      "grid_area": null,
      "grid_auto_columns": null,
      "grid_auto_flow": null,
      "grid_auto_rows": null,
      "grid_column": null,
      "grid_gap": null,
      "grid_row": null,
      "grid_template_areas": null,
      "grid_template_columns": null,
      "grid_template_rows": null,
      "height": null,
      "justify_content": null,
      "justify_items": null,
      "left": null,
      "margin": null,
      "max_height": null,
      "max_width": null,
      "min_height": null,
      "min_width": null,
      "object_fit": null,
      "object_position": null,
      "order": null,
      "overflow": null,
      "overflow_x": null,
      "overflow_y": null,
      "padding": null,
      "right": null,
      "top": null,
      "visibility": null,
      "width": null
     }
    },
    "de43daf247ba461eb972944524b4b61f": {
     "model_module": "@jupyter-widgets/output",
     "model_module_version": "1.0.0",
     "model_name": "OutputModel",
     "state": {
      "_dom_classes": [],
      "_model_module": "@jupyter-widgets/output",
      "_model_module_version": "1.0.0",
      "_model_name": "OutputModel",
      "_view_count": null,
      "_view_module": "@jupyter-widgets/output",
      "_view_module_version": "1.0.0",
      "_view_name": "OutputView",
      "layout": "IPY_MODEL_7fed7e13d054450ea7c4560efa23d0a1",
      "msg_id": "",
      "outputs": [
       {
        "data": {
         "image/png": "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\n",
         "text/plain": "<Figure size 1080x504 with 8 Axes>"
        },
        "metadata": {
         "needs_background": "light"
        },
        "output_type": "display_data"
       }
      ]
     }
    }
   }
  }
 },
 "nbformat": 4,
 "nbformat_minor": 1
}
