{
 "cells": [
  {
   "cell_type": "code",
   "execution_count": 1,
   "id": "bd9929be",
   "metadata": {},
   "outputs": [],
   "source": [
    "# import dependencies\n",
    "import pybamm\n",
    "import numpy as np\n",
    "import matplotlib.pylab as plt\n",
    "import scipy.optimize"
   ]
  },
  {
   "cell_type": "markdown",
   "id": "b1223d98",
   "metadata": {},
   "source": [
    "# Sensitivities and data fitting using PyBaMM\n",
    "\n",
    "In the previous notebook, we used a `pybamm.InputParameter` to enable us to run many simulations with varying parameters. Here we will demonstrate PyBaMM's ability to calculate the senstivities of model outputs with respect to input parameters. To be more specific, given a model output $f(t, a)$, where $a$ is an input parameter, we wish to calculate $\\frac{\\partial f}{\\partial a}(t, a)$.\n",
    "\n",
    "First we will demonstrate using a toy model, given by the equations\n",
    "\n",
    "$$\\frac{dy}{dt} = a y$$\n",
    "\n",
    "with a scalar state variable $y$ and a scalar parameter $a$, and initial conditions\n",
    "\n",
    "$$y(0) = 1$$\n",
    "\n",
    "We will also define a model output given by $f = y^2$"
   ]
  },
  {
   "cell_type": "code",
   "execution_count": 2,
   "id": "25970cdf",
   "metadata": {},
   "outputs": [],
   "source": [
    "# setup a simple test model\n",
    "model = pybamm.BaseModel('name')\n",
    "y = pybamm.Variable(\"y\")\n",
    "a = pybamm.InputParameter(\"a\")\n",
    "model.rhs = {y: a * y}\n",
    "model.initial_conditions = {y: 1}\n",
    "model.variables = {\"y squared\": y ** 2}\n",
    "\n",
    "solver = pybamm.CasadiSolver(\n",
    "    mode=\"fast\", rtol=1e-10, atol=1e-10\n",
    ")\n",
    "t_eval = np.linspace(0, 1, 80)"
   ]
  },
  {
   "cell_type": "markdown",
   "id": "9f3d61bf",
   "metadata": {},
   "source": [
    "We can solve the model using a specific value of $a = 1$ as before. However, now we will also calculate the forward sensitivities of the model by setting the argument `calculate_sensitivies=True`. Note that this argument will also accept a list of input parameters to calculate the sensitivities for, but setting it to `True` will calculate the sensitivities for **all** input parameters of the model "
   ]
  },
  {
   "cell_type": "code",
   "execution_count": 3,
   "id": "1b1781a9",
   "metadata": {},
   "outputs": [],
   "source": [
    "solution = solver.solve(\n",
    "    model, t_eval, inputs={'a': 1},\n",
    "    calculate_sensitivities=True\n",
    ")"
   ]
  },
  {
   "cell_type": "markdown",
   "id": "4d6f176e",
   "metadata": {},
   "source": [
    "We can now access the solution as normal, and the sensitivities using the syntax: `solution[output_name].sensitivities[input_parameter_name]`\n",
    "\n",
    "Note that a current restriction to the sensitivity calculation is that it will only return the sensitivities at the values of `t_eval` used to solve the model. Any interpolation between these values will have to be done manually"
   ]
  },
  {
   "cell_type": "code",
   "execution_count": 4,
   "id": "bf0a2d9c",
   "metadata": {},
   "outputs": [
    {
     "data": {
      "image/png": "[encoded data removed]",
      "text/plain": [
       "<Figure size 432x288 with 2 Axes>"
      ]
     },
     "metadata": {
      "needs_background": "light"
     },
     "output_type": "display_data"
    }
   ],
   "source": [
    "fig, axs = plt.subplots(1, 2)\n",
    "axs[0].plot(t_eval, solution[\"y squared\"](t_eval))\n",
    "axs[0].set_ylabel(r'$y^2$')\n",
    "axs[0].set_xlabel(r'$t$')\n",
    "axs[1].plot(solution.t, solution[\"y squared\"].sensitivities[\"a\"])\n",
    "axs[1].set_ylabel(r'$\\frac{dy^2}{da}$')\n",
    "axs[1].set_xlabel(r'$t$')\n",
    "plt.tight_layout()\n",
    "plt.show()"
   ]
  },
  {
   "cell_type": "markdown",
   "id": "495bcf05",
   "metadata": {},
   "source": [
    "## Sensitivities for the DFN model\n",
    "\n",
    "We can do the same for the DFN model included in PyBaMM. Once again we will setup the DFN model using \"Current function\" as an input parameter. This is the parameter we wish to calculate the sensitivities with respect to."
   ]
  },
  {
   "cell_type": "code",
   "execution_count": 5,
   "id": "e9119add",
   "metadata": {},
   "outputs": [],
   "source": [
    "# now lets do the same for the DFN model\n",
    "\n",
    "# load model\n",
    "model = pybamm.lithium_ion.DFN()\n",
    "# create geometry\n",
    "geometry = model.default_geometry\n",
    "\n",
    "# load parameter values and process model and geometry\n",
    "param = model.default_parameter_values\n",
    "\n",
    "# we want to calculate the sensitivities of the \"Current function\" parameter, so set\n",
    "# this an an input parameter\n",
    "param.update({\"Current function [A]\": \"[input]\"})\n",
    "\n",
    "param.process_geometry(geometry)\n",
    "param.process_model(model)\n",
    "\n",
    "# set mesh\n",
    "var = pybamm.standard_spatial_vars\n",
    "var_pts = {var.x_n: 30, var.x_s: 30, var.x_p: 30, var.r_n: 10, var.r_p: 10}\n",
    "mesh = pybamm.Mesh(geometry, model.default_submesh_types, var_pts)\n",
    "\n",
    "# discretise model\n",
    "disc = pybamm.Discretisation(mesh, model.default_spatial_methods)\n",
    "disc.process_model(model)\n",
    "\n",
    "# create solver\n",
    "t_eval = np.linspace(0, 3600, 100)\n",
    "solver = pybamm.CasadiSolver(mode=\"safe\", atol=1e-6, rtol=1e-3)"
   ]
  },
  {
   "cell_type": "markdown",
   "id": "f198fbfe",
   "metadata": {},
   "source": [
    "We can now evaluate the senstivities of, for example, the \"Terminal voltage\" output of the model with respect to the input parameter \"Current function\"."
   ]
  },
  {
   "cell_type": "code",
   "execution_count": 6,
   "id": "1d794537",
   "metadata": {},
   "outputs": [
    {
     "data": {
      "image/png": "[encoded data removed]",
      "text/plain": [
       "<Figure size 432x288 with 1 Axes>"
      ]
     },
     "metadata": {
      "needs_background": "light"
     },
     "output_type": "display_data"
    }
   ],
   "source": [
    "solution = solver.solve(\n",
    "    model, t_eval,\n",
    "    inputs={\"Current function [A]\": 0.15652},\n",
    "    calculate_sensitivities=True\n",
    ")\n",
    "plt.plot(\n",
    "    t_eval,\n",
    "    solution[\"Terminal voltage [V]\"]\n",
    "    .sensitivities[\"Current function [A]\"]\n",
    ")\n",
    "plt.xlabel(r'$t$')\n",
    "plt.ylabel('sensitivities of Terminal voltage wrt Current fuction')\n",
    "plt.show()"
   ]
  },
  {
   "cell_type": "markdown",
   "id": "d84c83fb",
   "metadata": {},
   "source": [
    "## Sensitivities and data fitting\n",
    "\n",
    "Sensitivities are often used to aid data fitting by providing a means to calculate the gradient of the function to be minimised. Take for example the data fitting exercise we introduced in the previous notebook. Once again we will generate some fake data for fitting, like so:"
   ]
  },
  {
   "cell_type": "code",
   "execution_count": 7,
   "id": "33d95c39",
   "metadata": {},
   "outputs": [],
   "source": [
    "data = solver.solve(\n",
    "    model, t_eval,\n",
    "    inputs={\"Current function [A]\": 0.2222}\n",
    ")[\"Terminal voltage\"](t_eval)"
   ]
  },
  {
   "cell_type": "markdown",
   "id": "d5045b57",
   "metadata": {},
   "source": [
    "Now we will contruct a function to minimise, but here we will return both the value of the function, and its gradient with respect to the input parameter \"Current function\". Note that our objective function is the sum of squared different between the vector $\\mathbf{f}$, the simulated \"Terminal voltage\", and $\\mathbf{d}$, the vector of fake data, given by\n",
    "\n",
    "$$\\mathcal{O}(a) = \\sum_{i=0}^{i=N} (f_i(a) - d_i)^2$$ \n",
    "\n",
    "where $a$ is the parameter to be optimised (in this case \"Current function\"), $f_i$ is each element of the vector $\\mathbf{f}$, and $d_i$ is each element of $\\mathbf{d}$. We wish to also find the gradient of this function wrt the parameter $a$, which is:\n",
    "\n",
    "$$\\frac{\\partial \\mathcal{O}}{\\partial a}(a) = 2 \\sum_{i=0}^{i=N} (f_i(a) - d_i) \\frac{\\partial f_i}{\\partial a} $$ \n",
    "\n",
    "Using these equations, we will define a function that takes in as an argument $a$, and returns $(\\mathcal{O}(a), \\frac{\\partial \\mathcal{O}}{\\partial a}(a))$"
   ]
  },
  {
   "cell_type": "code",
   "execution_count": 8,
   "id": "ffad2bc0",
   "metadata": {},
   "outputs": [],
   "source": [
    "def sum_of_squares_jac(parameters):\n",
    "    print('evaluating function and jacobian for p =', parameters[0])\n",
    "    sim = solver.solve(\n",
    "        model, t_eval,\n",
    "        inputs={\"Current function [A]\": parameters[0]},\n",
    "        calculate_sensitivities=True\n",
    "    )\n",
    "    term_voltage = sim[\"Terminal voltage\"](t_eval)\n",
    "    term_voltage_sens = sim[\"Terminal voltage\"].sensitivities[\"Current function [A]\"]\n",
    "\n",
    "    f = np.sum((term_voltage - data) ** 2)\n",
    "    g = 2 * np.sum((term_voltage - data) * term_voltage_sens)\n",
    "    return f, g"
   ]
  },
  {
   "cell_type": "markdown",
   "id": "fdcae8ac",
   "metadata": {},
   "source": [
    "We can then use this function along with an optimisation algorithm to recover the value of the Current function that was used to generate the data. In this case we will use the `scipy.optimize` module again. This module allows the use of a function in the form given above to perform the minimisation, using both the value of the objective function and its gradient to find the minimum value of $a$ in the least number of steps.\n",
    "\n",
    "Once again, we will place bounds on \"Current function [A]\" between $(0.01, 0.6)$, and use a random starting value $x_0$ between these bounds."
   ]
  },
  {
   "cell_type": "code",
   "execution_count": 11,
   "id": "44f52a7e",
   "metadata": {},
   "outputs": [
    {
     "name": "stdout",
     "output_type": "stream",
     "text": [
      "starting parameter is 0.25173358616057\n",
      "evaluating function and jacobian for p = 0.25173358616057\n",
      "evaluating function and jacobian for p = 0.01\n",
      "evaluating function and jacobian for p = 0.2272823650798208\n",
      "evaluating function and jacobian for p = 0.22176382564482716\n",
      "evaluating function and jacobian for p = 0.22218960602488666\n",
      "evaluating function and jacobian for p = 0.2221835317518376\n",
      "evaluating function and jacobian for p = 0.22218352417110537\n",
      "recovered parameter is 0.22218352417110537\n"
     ]
    }
   ],
   "source": [
    "bounds = (0.01, 0.6)\n",
    "x0 = np.random.uniform(low=bounds[0], high=bounds[1])\n",
    "\n",
    "print('starting parameter is', x0)\n",
    "res = scipy.optimize.minimize(\n",
    "    sum_of_squares_jac, [x0], bounds=[bounds], jac=True\n",
    ")\n",
    "print('recovered parameter is', res.x[0])"
   ]
  }
 ],
 "metadata": {
  "kernelspec": {
   "display_name": "Python 3 (ipykernel)",
   "language": "python",
   "name": "python3"
  },
  "language_info": {
   "codemirror_mode": {
    "name": "ipython",
    "version": 3
   },
   "file_extension": ".py",
   "mimetype": "text/x-python",
   "name": "python",
   "nbconvert_exporter": "python",
   "pygments_lexer": "ipython3",
   "version": "3.8.10"
  }
 },
 "nbformat": 4,
 "nbformat_minor": 5
}
