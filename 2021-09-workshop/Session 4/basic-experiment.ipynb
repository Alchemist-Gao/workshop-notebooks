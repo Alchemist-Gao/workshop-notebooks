{
 "cells": [
  {
   "cell_type": "markdown",
   "metadata": {},
   "source": [
    "## Some standard experiments"
   ]
  },
  {
   "cell_type": "code",
   "execution_count": 1,
   "metadata": {},
   "outputs": [],
   "source": [
    "import pybamm\n",
    "import numpy as np\n",
    "import matplotlib.pyplot as plt\n",
    "\n",
    "pybamm.set_logging_level(\"NOTICE\")"
   ]
  },
  {
   "cell_type": "markdown",
   "metadata": {},
   "source": [
    "## CCCV"
   ]
  },
  {
   "cell_type": "code",
   "execution_count": 2,
   "metadata": {},
   "outputs": [
    {
     "name": "stderr",
     "output_type": "stream",
     "text": [
      "2021-09-24 15:20:52,453 - [NOTICE] simulation.solve(784): Cycle 1/1 (101.767 ms elapsed) --------------------\n",
      "2021-09-24 15:20:52,453 - [NOTICE] simulation.solve(818): Cycle 1/1, step 1/4: Discharge at 1C until 2.5V\n",
      "2021-09-24 15:20:52,546 - [NOTICE] simulation.solve(818): Cycle 1/1, step 2/4: Rest for 1 hour\n",
      "2021-09-24 15:20:52,605 - [NOTICE] simulation.solve(818): Cycle 1/1, step 3/4: Charge at 1C until 4.2V\n",
      "2021-09-24 15:20:52,677 - [NOTICE] simulation.solve(818): Cycle 1/1, step 4/4: Hold at 4.2V until C/50\n",
      "2021-09-24 15:20:53,112 - [NOTICE] simulation.solve(913): Finish experiment simulation, took 761.725 ms\n"
     ]
    },
    {
     "data": {
      "application/vnd.jupyter.widget-view+json": {
       "model_id": "00b1b89f5f264a019e05c4e0b2824f61",
       "version_major": 2,
       "version_minor": 0
      },
      "text/plain": [
       "interactive(children=(FloatSlider(value=0.0, description='t', max=3.911842513594913, step=0.039118425135949125…"
      ]
     },
     "metadata": {},
     "output_type": "display_data"
    },
    {
     "data": {
      "text/plain": [
       "<pybamm.plotting.quick_plot.QuickPlot at 0x14e2e0370>"
      ]
     },
     "execution_count": 2,
     "metadata": {},
     "output_type": "execute_result"
    }
   ],
   "source": [
    "\n",
    "experiment = pybamm.Experiment([\n",
    "    (\"Discharge at 1C until 2.5V\",\n",
    "    \"Rest for 1 hour\",\n",
    "    \"Charge at 1C until 4.2V\",\n",
    "    \"Hold at 4.2V until C/50\"),\n",
    "])\n",
    "model = pybamm.lithium_ion.SPMe()\n",
    "parameter_values = pybamm.ParameterValues(chemistry=pybamm.parameter_sets.Chen2020)\n",
    "sim = pybamm.Simulation(model, experiment=experiment, parameter_values=parameter_values)\n",
    "sim.solve()\n",
    "sim.plot([\"Terminal voltage [V]\", \"Current [A]\"])"
   ]
  },
  {
   "cell_type": "code",
   "execution_count": 3,
   "metadata": {},
   "outputs": [
    {
     "name": "stderr",
     "output_type": "stream",
     "text": [
      "2021-09-24 15:20:55,056 - [NOTICE] simulation.solve(784): Cycle 1/2 (24.075 ms elapsed) --------------------\n",
      "2021-09-24 15:20:55,057 - [NOTICE] simulation.solve(818): Cycle 1/2, step 1/4: Discharge at 1C until 2.5V\n",
      "2021-09-24 15:20:55,142 - [NOTICE] simulation.solve(818): Cycle 1/2, step 2/4: Rest for 1 hour\n",
      "2021-09-24 15:20:55,202 - [NOTICE] simulation.solve(818): Cycle 1/2, step 3/4: Charge at 1C until 4.2V\n",
      "2021-09-24 15:20:55,276 - [NOTICE] simulation.solve(818): Cycle 1/2, step 4/4: Hold at 4.2V until C/50\n",
      "2021-09-24 15:20:55,707 - [NOTICE] simulation.solve(784): Cycle 2/2 (674.754 ms elapsed) --------------------\n",
      "2021-09-24 15:20:55,707 - [NOTICE] simulation.solve(818): Cycle 2/2, step 1/4: Discharge at 1C until 2.5V\n",
      "2021-09-24 15:20:55,763 - [NOTICE] simulation.solve(818): Cycle 2/2, step 2/4: Rest for 1 hour\n",
      "2021-09-24 15:20:55,805 - [NOTICE] simulation.solve(818): Cycle 2/2, step 3/4: Charge at 1C until 4.2V\n",
      "2021-09-24 15:20:55,848 - [NOTICE] simulation.solve(818): Cycle 2/2, step 4/4: Hold at 4.2V until C/50\n",
      "2021-09-24 15:20:56,097 - [NOTICE] simulation.solve(913): Finish experiment simulation, took 1.065 s\n"
     ]
    },
    {
     "data": {
      "application/vnd.jupyter.widget-view+json": {
       "model_id": "77a87d1355ff464aa96d334945153ef4",
       "version_major": 2,
       "version_minor": 0
      },
      "text/plain": [
       "interactive(children=(FloatSlider(value=0.0, description='t', max=7.828247110527843, step=0.07828247110527843)…"
      ]
     },
     "metadata": {},
     "output_type": "display_data"
    },
    {
     "data": {
      "text/plain": [
       "<pybamm.plotting.quick_plot.QuickPlot at 0x14e2e0bb0>"
      ]
     },
     "execution_count": 3,
     "metadata": {},
     "output_type": "execute_result"
    }
   ],
   "source": [
    "experiment = pybamm.Experiment([\n",
    "    (\"Discharge at 1C until 2.5V\",\n",
    "    \"Rest for 1 hour\",\n",
    "    \"Charge at 1C until 4.2V\",\n",
    "    \"Hold at 4.2V until C/50\")]*2)\n",
    "sim = pybamm.Simulation(model, experiment=experiment, parameter_values=parameter_values)\n",
    "sim.solve()\n",
    "sim.plot([\"Terminal voltage [V]\", \"Current [A]\"])"
   ]
  },
  {
   "cell_type": "markdown",
   "metadata": {},
   "source": [
    "Interacting with the solution of an experiment"
   ]
  },
  {
   "cell_type": "code",
   "execution_count": 4,
   "metadata": {},
   "outputs": [
    {
     "data": {
      "image/png": "[encoded data removed]",
      "text/plain": [
       "<Figure size 432x288 with 1 Axes>"
      ]
     },
     "metadata": {
      "needs_background": "light"
     },
     "output_type": "display_data"
    }
   ],
   "source": [
    "sol = sim.solution\n",
    "fig, ax = plt.subplots()\n",
    "for cycle in sol.cycles:\n",
    "    t = cycle.steps[2][\"Time [s]\"].data\n",
    "    V = cycle.steps[2][\"Terminal voltage [V]\"].data\n",
    "    ax.plot(t-t[0],V)"
   ]
  },
  {
   "cell_type": "markdown",
   "metadata": {},
   "source": [
    "## GITT"
   ]
  },
  {
   "cell_type": "code",
   "execution_count": 5,
   "metadata": {},
   "outputs": [
    {
     "name": "stderr",
     "output_type": "stream",
     "text": [
      "2021-09-24 15:20:57,328 - [NOTICE] simulation.solve(784): Cycle 1/40 (24.214 ms elapsed) --------------------\n",
      "2021-09-24 15:20:57,328 - [NOTICE] simulation.solve(818): Cycle 1/40, step 1/1: Discharge at C/20 for 1 hour\n",
      "2021-09-24 15:20:57,502 - [NOTICE] simulation.solve(784): Cycle 2/40 (198.838 ms elapsed) --------------------\n",
      "2021-09-24 15:20:57,503 - [NOTICE] simulation.solve(818): Cycle 2/40, step 1/1: Rest for 1 hour\n",
      "2021-09-24 15:20:57,582 - [NOTICE] simulation.solve(784): Cycle 3/40 (278.563 ms elapsed) --------------------\n",
      "2021-09-24 15:20:57,583 - [NOTICE] simulation.solve(818): Cycle 3/40, step 1/1: Discharge at C/20 for 1 hour\n",
      "2021-09-24 15:20:57,640 - [NOTICE] simulation.solve(784): Cycle 4/40 (336.355 ms elapsed) --------------------\n",
      "2021-09-24 15:20:57,640 - [NOTICE] simulation.solve(818): Cycle 4/40, step 1/1: Rest for 1 hour\n",
      "2021-09-24 15:20:57,689 - [NOTICE] simulation.solve(784): Cycle 5/40 (385.740 ms elapsed) --------------------\n",
      "2021-09-24 15:20:57,690 - [NOTICE] simulation.solve(818): Cycle 5/40, step 1/1: Discharge at C/20 for 1 hour\n",
      "2021-09-24 15:20:57,746 - [NOTICE] simulation.solve(784): Cycle 6/40 (442.690 ms elapsed) --------------------\n",
      "2021-09-24 15:20:57,747 - [NOTICE] simulation.solve(818): Cycle 6/40, step 1/1: Rest for 1 hour\n",
      "2021-09-24 15:20:57,793 - [NOTICE] simulation.solve(784): Cycle 7/40 (489.233 ms elapsed) --------------------\n",
      "2021-09-24 15:20:57,793 - [NOTICE] simulation.solve(818): Cycle 7/40, step 1/1: Discharge at C/20 for 1 hour\n",
      "2021-09-24 15:20:57,846 - [NOTICE] simulation.solve(784): Cycle 8/40 (542.942 ms elapsed) --------------------\n",
      "2021-09-24 15:20:57,847 - [NOTICE] simulation.solve(818): Cycle 8/40, step 1/1: Rest for 1 hour\n",
      "2021-09-24 15:20:57,892 - [NOTICE] simulation.solve(784): Cycle 9/40 (588.673 ms elapsed) --------------------\n",
      "2021-09-24 15:20:57,893 - [NOTICE] simulation.solve(818): Cycle 9/40, step 1/1: Discharge at C/20 for 1 hour\n",
      "2021-09-24 15:20:57,947 - [NOTICE] simulation.solve(784): Cycle 10/40 (643.184 ms elapsed) --------------------\n",
      "2021-09-24 15:20:57,947 - [NOTICE] simulation.solve(818): Cycle 10/40, step 1/1: Rest for 1 hour\n",
      "2021-09-24 15:20:57,992 - [NOTICE] simulation.solve(784): Cycle 11/40 (688.665 ms elapsed) --------------------\n",
      "2021-09-24 15:20:57,993 - [NOTICE] simulation.solve(818): Cycle 11/40, step 1/1: Discharge at C/20 for 1 hour\n",
      "2021-09-24 15:20:58,045 - [NOTICE] simulation.solve(784): Cycle 12/40 (742.109 ms elapsed) --------------------\n",
      "2021-09-24 15:20:58,046 - [NOTICE] simulation.solve(818): Cycle 12/40, step 1/1: Rest for 1 hour\n",
      "2021-09-24 15:20:58,091 - [NOTICE] simulation.solve(784): Cycle 13/40 (787.919 ms elapsed) --------------------\n",
      "2021-09-24 15:20:58,092 - [NOTICE] simulation.solve(818): Cycle 13/40, step 1/1: Discharge at C/20 for 1 hour\n",
      "2021-09-24 15:20:58,148 - [NOTICE] simulation.solve(784): Cycle 14/40 (844.394 ms elapsed) --------------------\n",
      "2021-09-24 15:20:58,148 - [NOTICE] simulation.solve(818): Cycle 14/40, step 1/1: Rest for 1 hour\n",
      "2021-09-24 15:20:58,198 - [NOTICE] simulation.solve(784): Cycle 15/40 (894.162 ms elapsed) --------------------\n",
      "2021-09-24 15:20:58,198 - [NOTICE] simulation.solve(818): Cycle 15/40, step 1/1: Discharge at C/20 for 1 hour\n",
      "2021-09-24 15:20:58,253 - [NOTICE] simulation.solve(784): Cycle 16/40 (949.784 ms elapsed) --------------------\n",
      "2021-09-24 15:20:58,254 - [NOTICE] simulation.solve(818): Cycle 16/40, step 1/1: Rest for 1 hour\n",
      "2021-09-24 15:20:58,302 - [NOTICE] simulation.solve(784): Cycle 17/40 (998.372 ms elapsed) --------------------\n",
      "2021-09-24 15:20:58,302 - [NOTICE] simulation.solve(818): Cycle 17/40, step 1/1: Discharge at C/20 for 1 hour\n",
      "2021-09-24 15:20:58,360 - [NOTICE] simulation.solve(784): Cycle 18/40 (1.056 s elapsed) --------------------\n",
      "2021-09-24 15:20:58,360 - [NOTICE] simulation.solve(818): Cycle 18/40, step 1/1: Rest for 1 hour\n",
      "2021-09-24 15:20:58,409 - [NOTICE] simulation.solve(784): Cycle 19/40 (1.106 s elapsed) --------------------\n",
      "2021-09-24 15:20:58,410 - [NOTICE] simulation.solve(818): Cycle 19/40, step 1/1: Discharge at C/20 for 1 hour\n",
      "2021-09-24 15:20:58,466 - [NOTICE] simulation.solve(784): Cycle 20/40 (1.163 s elapsed) --------------------\n",
      "2021-09-24 15:20:58,467 - [NOTICE] simulation.solve(818): Cycle 20/40, step 1/1: Rest for 1 hour\n",
      "2021-09-24 15:20:58,515 - [NOTICE] simulation.solve(784): Cycle 21/40 (1.212 s elapsed) --------------------\n",
      "2021-09-24 15:20:58,516 - [NOTICE] simulation.solve(818): Cycle 21/40, step 1/1: Discharge at C/20 for 1 hour\n",
      "2021-09-24 15:20:58,570 - [NOTICE] simulation.solve(784): Cycle 22/40 (1.267 s elapsed) --------------------\n",
      "2021-09-24 15:20:58,571 - [NOTICE] simulation.solve(818): Cycle 22/40, step 1/1: Rest for 1 hour\n",
      "2021-09-24 15:20:58,618 - [NOTICE] simulation.solve(784): Cycle 23/40 (1.315 s elapsed) --------------------\n",
      "2021-09-24 15:20:58,619 - [NOTICE] simulation.solve(818): Cycle 23/40, step 1/1: Discharge at C/20 for 1 hour\n",
      "2021-09-24 15:20:58,677 - [NOTICE] simulation.solve(784): Cycle 24/40 (1.374 s elapsed) --------------------\n",
      "2021-09-24 15:20:58,678 - [NOTICE] simulation.solve(818): Cycle 24/40, step 1/1: Rest for 1 hour\n",
      "2021-09-24 15:20:58,725 - [NOTICE] simulation.solve(784): Cycle 25/40 (1.421 s elapsed) --------------------\n",
      "2021-09-24 15:20:58,726 - [NOTICE] simulation.solve(818): Cycle 25/40, step 1/1: Discharge at C/20 for 1 hour\n",
      "2021-09-24 15:20:58,782 - [NOTICE] simulation.solve(784): Cycle 26/40 (1.479 s elapsed) --------------------\n",
      "2021-09-24 15:20:58,783 - [NOTICE] simulation.solve(818): Cycle 26/40, step 1/1: Rest for 1 hour\n",
      "2021-09-24 15:20:58,831 - [NOTICE] simulation.solve(784): Cycle 27/40 (1.528 s elapsed) --------------------\n",
      "2021-09-24 15:20:58,832 - [NOTICE] simulation.solve(818): Cycle 27/40, step 1/1: Discharge at C/20 for 1 hour\n",
      "2021-09-24 15:20:58,888 - [NOTICE] simulation.solve(784): Cycle 28/40 (1.584 s elapsed) --------------------\n",
      "2021-09-24 15:20:58,888 - [NOTICE] simulation.solve(818): Cycle 28/40, step 1/1: Rest for 1 hour\n",
      "2021-09-24 15:20:58,937 - [NOTICE] simulation.solve(784): Cycle 29/40 (1.634 s elapsed) --------------------\n",
      "2021-09-24 15:20:58,938 - [NOTICE] simulation.solve(818): Cycle 29/40, step 1/1: Discharge at C/20 for 1 hour\n",
      "2021-09-24 15:20:58,992 - [NOTICE] simulation.solve(784): Cycle 30/40 (1.689 s elapsed) --------------------\n",
      "2021-09-24 15:20:58,993 - [NOTICE] simulation.solve(818): Cycle 30/40, step 1/1: Rest for 1 hour\n",
      "2021-09-24 15:20:59,042 - [NOTICE] simulation.solve(784): Cycle 31/40 (1.739 s elapsed) --------------------\n",
      "2021-09-24 15:20:59,042 - [NOTICE] simulation.solve(818): Cycle 31/40, step 1/1: Discharge at C/20 for 1 hour\n",
      "2021-09-24 15:20:59,097 - [NOTICE] simulation.solve(784): Cycle 32/40 (1.794 s elapsed) --------------------\n",
      "2021-09-24 15:20:59,098 - [NOTICE] simulation.solve(818): Cycle 32/40, step 1/1: Rest for 1 hour\n",
      "2021-09-24 15:20:59,148 - [NOTICE] simulation.solve(784): Cycle 33/40 (1.844 s elapsed) --------------------\n",
      "2021-09-24 15:20:59,148 - [NOTICE] simulation.solve(818): Cycle 33/40, step 1/1: Discharge at C/20 for 1 hour\n",
      "2021-09-24 15:20:59,204 - [NOTICE] simulation.solve(784): Cycle 34/40 (1.900 s elapsed) --------------------\n",
      "2021-09-24 15:20:59,204 - [NOTICE] simulation.solve(818): Cycle 34/40, step 1/1: Rest for 1 hour\n",
      "2021-09-24 15:20:59,252 - [NOTICE] simulation.solve(784): Cycle 35/40 (1.949 s elapsed) --------------------\n",
      "2021-09-24 15:20:59,253 - [NOTICE] simulation.solve(818): Cycle 35/40, step 1/1: Discharge at C/20 for 1 hour\n",
      "2021-09-24 15:20:59,310 - [NOTICE] simulation.solve(784): Cycle 36/40 (2.007 s elapsed) --------------------\n",
      "2021-09-24 15:20:59,311 - [NOTICE] simulation.solve(818): Cycle 36/40, step 1/1: Rest for 1 hour\n",
      "2021-09-24 15:20:59,360 - [NOTICE] simulation.solve(784): Cycle 37/40 (2.056 s elapsed) --------------------\n",
      "2021-09-24 15:20:59,360 - [NOTICE] simulation.solve(818): Cycle 37/40, step 1/1: Discharge at C/20 for 1 hour\n",
      "2021-09-24 15:20:59,417 - [NOTICE] simulation.solve(784): Cycle 38/40 (2.113 s elapsed) --------------------\n",
      "2021-09-24 15:20:59,417 - [NOTICE] simulation.solve(818): Cycle 38/40, step 1/1: Rest for 1 hour\n",
      "2021-09-24 15:20:59,466 - [NOTICE] simulation.solve(784): Cycle 39/40 (2.162 s elapsed) --------------------\n"
     ]
    },
    {
     "name": "stderr",
     "output_type": "stream",
     "text": [
      "2021-09-24 15:20:59,466 - [NOTICE] simulation.solve(818): Cycle 39/40, step 1/1: Discharge at C/20 for 1 hour\n",
      "2021-09-24 15:20:59,521 - [NOTICE] simulation.solve(784): Cycle 40/40 (2.218 s elapsed) --------------------\n",
      "2021-09-24 15:20:59,521 - [NOTICE] simulation.solve(818): Cycle 40/40, step 1/1: Rest for 1 hour\n",
      "2021-09-24 15:20:59,571 - [NOTICE] simulation.solve(913): Finish experiment simulation, took 2.267 s\n"
     ]
    },
    {
     "data": {
      "application/vnd.jupyter.widget-view+json": {
       "model_id": "d0ae69d20ef44233a0668f0019879a52",
       "version_major": 2,
       "version_minor": 0
      },
      "text/plain": [
       "interactive(children=(FloatSlider(value=0.0, description='t', max=40.000000000000014, step=0.40000000000000013…"
      ]
     },
     "metadata": {},
     "output_type": "display_data"
    },
    {
     "data": {
      "text/plain": [
       "<pybamm.plotting.quick_plot.QuickPlot at 0x14f48d2b0>"
      ]
     },
     "execution_count": 5,
     "metadata": {},
     "output_type": "execute_result"
    }
   ],
   "source": [
    "experiment = pybamm.Experiment([\n",
    "    \"Discharge at C/20 for 1 hour\",\n",
    "    \"Rest for 1 hour\",\n",
    "] * 20)\n",
    "sim = pybamm.Simulation(model, experiment=experiment, parameter_values=parameter_values)\n",
    "sim.solve()\n",
    "sim.plot([\"Terminal voltage [V]\", \"Current [A]\"])"
   ]
  },
  {
   "cell_type": "markdown",
   "metadata": {},
   "source": [
    "OCV measurements"
   ]
  },
  {
   "cell_type": "code",
   "execution_count": 6,
   "metadata": {},
   "outputs": [
    {
     "data": {
      "text/plain": [
       "[<matplotlib.lines.Line2D at 0x152e04820>]"
      ]
     },
     "execution_count": 6,
     "metadata": {},
     "output_type": "execute_result"
    },
    {
     "data": {
      "image/png": "[encoded data removed]",
      "text/plain": [
       "<Figure size 432x288 with 1 Axes>"
      ]
     },
     "metadata": {
      "needs_background": "light"
     },
     "output_type": "display_data"
    }
   ],
   "source": [
    "sol = sim.solution\n",
    "\n",
    "def extract_ocv(step):\n",
    "    return step[\"Terminal voltage [V]\"].data[-1]\n",
    "\n",
    "ocvs = [extract_ocv(step) for i,step in enumerate(sol.cycles) if i%2==1]\n",
    "plt.plot(np.arange(20),ocvs)"
   ]
  },
  {
   "cell_type": "markdown",
   "metadata": {},
   "source": [
    "Resistance measurements"
   ]
  },
  {
   "cell_type": "code",
   "execution_count": 7,
   "metadata": {},
   "outputs": [
    {
     "data": {
      "text/plain": [
       "[<matplotlib.lines.Line2D at 0x14e7f15e0>]"
      ]
     },
     "execution_count": 7,
     "metadata": {},
     "output_type": "execute_result"
    },
    {
     "data": {
      "image/png": "[encoded data removed]",
      "text/plain": [
       "<Figure size 432x288 with 1 Axes>"
      ]
     },
     "metadata": {
      "needs_background": "light"
     },
     "output_type": "display_data"
    }
   ],
   "source": [
    "def extract_resistance(step):\n",
    "    return step[\"Local ECM resistance [Ohm]\"].data[0]\n",
    "\n",
    "Rs = [extract_resistance(step) for i,step in enumerate(sol.cycles) if i%2==0]\n",
    "plt.plot(np.arange(20),Rs)"
   ]
  },
  {
   "cell_type": "markdown",
   "metadata": {},
   "source": [
    "## Initial SOC"
   ]
  },
  {
   "cell_type": "code",
   "execution_count": 8,
   "metadata": {},
   "outputs": [
    {
     "name": "stderr",
     "output_type": "stream",
     "text": [
      "2021-09-24 15:21:01,518 - [NOTICE] simulation.solve(784): Cycle 1/1 (25.194 ms elapsed) --------------------\n",
      "2021-09-24 15:21:01,519 - [NOTICE] simulation.solve(818): Cycle 1/1, step 1/2: Charge at 1C until 4.2V\n",
      "2021-09-24 15:21:01,597 - [NOTICE] simulation.solve(818): Cycle 1/1, step 2/2: Hold at 4.2V until C/50\n",
      "2021-09-24 15:21:02,034 - [NOTICE] simulation.solve(913): Finish experiment simulation, took 541.060 ms\n",
      "2021-09-24 15:21:03,182 - [NOTICE] simulation.solve(784): Cycle 1/1 (25.420 ms elapsed) --------------------\n",
      "2021-09-24 15:21:03,182 - [NOTICE] simulation.solve(818): Cycle 1/1, step 1/2: Charge at 1C until 4.2V\n",
      "2021-09-24 15:21:03,249 - [NOTICE] simulation.solve(818): Cycle 1/1, step 2/2: Hold at 4.2V until C/50\n",
      "2021-09-24 15:21:03,685 - [NOTICE] simulation.solve(913): Finish experiment simulation, took 528.425 ms\n",
      "2021-09-24 15:21:04,772 - [NOTICE] simulation.solve(784): Cycle 1/1 (23.790 ms elapsed) --------------------\n",
      "2021-09-24 15:21:04,772 - [NOTICE] simulation.solve(818): Cycle 1/1, step 1/2: Charge at 1C until 4.2V\n",
      "2021-09-24 15:21:04,828 - [NOTICE] simulation.solve(818): Cycle 1/1, step 2/2: Hold at 4.2V until C/50\n",
      "2021-09-24 15:21:05,249 - [NOTICE] simulation.solve(913): Finish experiment simulation, took 501.417 ms\n",
      "2021-09-24 15:21:06,310 - [NOTICE] simulation.solve(784): Cycle 1/1 (24.498 ms elapsed) --------------------\n",
      "2021-09-24 15:21:06,311 - [NOTICE] simulation.solve(818): Cycle 1/1, step 1/2: Charge at 1C until 4.2V\n",
      "2021-09-24 15:21:06,358 - [NOTICE] simulation.solve(818): Cycle 1/1, step 2/2: Hold at 4.2V until C/50\n",
      "2021-09-24 15:21:06,778 - [NOTICE] simulation.solve(913): Finish experiment simulation, took 492.178 ms\n",
      "2021-09-24 15:21:07,856 - [NOTICE] simulation.solve(784): Cycle 1/1 (24.049 ms elapsed) --------------------\n",
      "2021-09-24 15:21:07,856 - [NOTICE] simulation.solve(818): Cycle 1/1, step 1/2: Charge at 1C until 4.2V\n",
      "2021-09-24 15:21:07,901 - [NOTICE] simulation.solve(818): Cycle 1/1, step 2/2: Hold at 4.2V until C/50\n",
      "2021-09-24 15:21:08,287 - [NOTICE] simulation.solve(913): Finish experiment simulation, took 455.110 ms\n"
     ]
    },
    {
     "data": {
      "application/vnd.jupyter.widget-view+json": {
       "model_id": "dd197d779d47411fa843611f8803dbd8",
       "version_major": 2,
       "version_minor": 0
      },
      "text/plain": [
       "interactive(children=(FloatSlider(value=0.0, description='t', max=1.95719491538188, step=0.0195719491538188), …"
      ]
     },
     "metadata": {},
     "output_type": "display_data"
    },
    {
     "data": {
      "text/plain": [
       "<pybamm.plotting.quick_plot.QuickPlot at 0x151d66a60>"
      ]
     },
     "execution_count": 8,
     "metadata": {},
     "output_type": "execute_result"
    }
   ],
   "source": [
    "experiment = pybamm.Experiment([(\"Charge at 1C until 4.2V\", \"Hold at 4.2V until C/50\")])\n",
    "sols = []\n",
    "init_socs = [0,0.2,0.4,0.6,0.8]\n",
    "for initial_soc in init_socs:\n",
    "  sim = pybamm.Simulation(model, parameter_values=parameter_values, experiment=experiment)\n",
    "  sol = sim.solve(initial_soc=initial_soc)\n",
    "  sols.append(sol)\n",
    "\n",
    "pybamm.dynamic_plot(sols,labels=[f\"initial soc = {x}\" for x in init_socs])"
   ]
  },
  {
   "cell_type": "markdown",
   "metadata": {},
   "source": [
    "Looking at each CV relaxation"
   ]
  },
  {
   "cell_type": "code",
   "execution_count": 9,
   "metadata": {},
   "outputs": [
    {
     "data": {
      "image/png": "[encoded data removed]",
      "text/plain": [
       "<Figure size 432x288 with 2 Axes>"
      ]
     },
     "metadata": {
      "needs_background": "light"
     },
     "output_type": "display_data"
    }
   ],
   "source": [
    "fig, ax = plt.subplots(1,2)\n",
    "\n",
    "for sol in sols:\n",
    "  cc = sol.cycles[0].steps[0]\n",
    "  cv = sol.cycles[0].steps[1]\n",
    "  t_cc = cc[\"Time [h]\"].data\n",
    "  t_cv = cv[\"Time [h]\"].data\n",
    "  ax[0].plot(t_cc-t_cv[0], cc[\"Terminal voltage [V]\"].data)\n",
    "  ax[0].set_title(\"Voltage [V] during CC\")\n",
    "  ax[1].plot(t_cv-t_cv[0], cv[\"Current [A]\"].data)\n",
    "  ax[1].set_title(\"Current [A] during CV\")\n",
    "  ax[1].legend([f\"initial soc = {x}\" for x in init_socs])"
   ]
  },
  {
   "cell_type": "code",
   "execution_count": null,
   "metadata": {},
   "outputs": [],
   "source": []
  }
 ],
 "metadata": {
  "kernelspec": {
   "display_name": "Python 3 (ipykernel)",
   "language": "python",
   "name": "python3"
  },
  "language_info": {
   "codemirror_mode": {
    "name": "ipython",
    "version": 3
   },
   "file_extension": ".py",
   "mimetype": "text/x-python",
   "name": "python",
   "nbconvert_exporter": "python",
   "pygments_lexer": "ipython3",
   "version": "3.9.7"
  }
 },
 "nbformat": 4,
 "nbformat_minor": 4
}
