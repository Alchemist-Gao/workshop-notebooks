{
 "cells": [
  {
   "cell_type": "markdown",
   "metadata": {},
   "source": [
    "CCCV"
   ]
  },
  {
   "cell_type": "code",
   "execution_count": 1,
   "metadata": {},
   "outputs": [
    {
     "data": {
      "application/vnd.jupyter.widget-view+json": {
       "model_id": "3c2f1fd5d8b34f5cbb33a93d7a45d702",
       "version_major": 2,
       "version_minor": 0
      },
      "text/plain": [
       "interactive(children=(FloatSlider(value=0.0, description='t', max=4.616666666666666, step=0.04616666666666666)…"
      ]
     },
     "metadata": {},
     "output_type": "display_data"
    }
   ],
   "source": [
    "import pybamm\n",
    "\n",
    "experiment = pybamm.Experiment([\n",
    "    \"Discharge at 1C until 3.3V\",\n",
    "    \"Hold at 3.3V for 1 hour\",\n",
    "    \"Charge at 0.5C until 4.1V\",\n",
    "    \"Hold at 4.1V until 50mA\",\n",
    "])\n",
    "model = pybamm.lithium_ion.SPMe()\n",
    "sim = pybamm.Simulation(model, experiment=experiment)\n",
    "sim.solve()\n",
    "sim.plot([\"Negative particle surface concentration\", \"Terminal voltage [V]\", \"Current [A]\"])"
   ]
  },
  {
   "cell_type": "code",
   "execution_count": 2,
   "metadata": {},
   "outputs": [
    {
     "data": {
      "application/vnd.jupyter.widget-view+json": {
       "model_id": "d89ee85d28754032b8360458947348a4",
       "version_major": 2,
       "version_minor": 0
      },
      "text/plain": [
       "interactive(children=(FloatSlider(value=0.0, description='t', max=11.599999999999998, step=0.11599999999999998…"
      ]
     },
     "metadata": {},
     "output_type": "display_data"
    }
   ],
   "source": [
    "experiment = pybamm.Experiment([\n",
    "    \"Discharge at 1C until 3.3V\",\n",
    "    \"Hold at 3.3V for 1 hour or until -50mA\",\n",
    "    \"Charge at 0.5C until 4.1V\",\n",
    "    \"Hold at 4.1V until 50mA\",\n",
    "] * 3)\n",
    "sim = pybamm.Simulation(model, experiment=experiment)\n",
    "sim.solve()\n",
    "sim.plot([\"Terminal voltage [V]\", \"Current [A]\"])"
   ]
  },
  {
   "cell_type": "markdown",
   "metadata": {},
   "source": [
    "GITT"
   ]
  },
  {
   "cell_type": "code",
   "execution_count": 3,
   "metadata": {},
   "outputs": [
    {
     "data": {
      "application/vnd.jupyter.widget-view+json": {
       "model_id": "37a4648b3d9249db9522fa2998f4ee62",
       "version_major": 2,
       "version_minor": 0
      },
      "text/plain": [
       "interactive(children=(FloatSlider(value=0.0, description='t', max=40.00000000000002, step=0.4000000000000002),…"
      ]
     },
     "metadata": {},
     "output_type": "display_data"
    }
   ],
   "source": [
    "experiment = pybamm.Experiment([\n",
    "    \"Discharge at C/20 for 1 hour\",\n",
    "    \"Rest for 1 hour\",\n",
    "] * 20)\n",
    "sim = pybamm.Simulation(model, experiment=experiment)\n",
    "sim.solve()\n",
    "sim.plot([\"Terminal voltage [V]\", \"Current [A]\"])"
   ]
  },
  {
   "cell_type": "code",
   "execution_count": 4,
   "metadata": {},
   "outputs": [
    {
     "data": {
      "application/vnd.jupyter.widget-view+json": {
       "model_id": "389f0884e1df48aa8a61d44d667c14cb",
       "version_major": 2,
       "version_minor": 0
      },
      "text/plain": [
       "interactive(children=(FloatSlider(value=0.0, description='t', max=40.00000000000002, step=0.4000000000000002),…"
      ]
     },
     "metadata": {},
     "output_type": "display_data"
    }
   ],
   "source": [
    "sim.plot([\"Electrolyte concentration [mol.m-3]\", \"Terminal voltage [V]\", \"Current [A]\"])"
   ]
  },
  {
   "cell_type": "markdown",
   "metadata": {},
   "source": [
    "Pulse charging"
   ]
  },
  {
   "cell_type": "code",
   "execution_count": 5,
   "metadata": {
    "scrolled": false
   },
   "outputs": [
    {
     "data": {
      "application/vnd.jupyter.widget-view+json": {
       "model_id": "334ba6feb2324092bbad1ab43a893f9e",
       "version_major": 2,
       "version_minor": 0
      },
      "text/plain": [
       "interactive(children=(FloatSlider(value=0.0, description='t', max=40.927777777777784, step=0.40927777777777785…"
      ]
     },
     "metadata": {},
     "output_type": "display_data"
    }
   ],
   "source": [
    "experiment = pybamm.Experiment(\n",
    "    [\"Discharge at C/20 for 20 hours\"]\n",
    "    + \n",
    "    [\"Charge at C/20 for 30 minutes\", \n",
    "     \"Charge at 10C for 20 seconds (1 second period)\",\n",
    "     \"Rest for 20 minutes\"] * 5\n",
    "    + [\"Charge at C/20 until 4.1V\"]\n",
    ")\n",
    "sim = pybamm.Simulation(model, experiment=experiment)\n",
    "sim.solve()\n",
    "sim.plot([\"Terminal voltage [V]\", \"Current [A]\"])"
   ]
  },
  {
   "cell_type": "code",
   "execution_count": null,
   "metadata": {},
   "outputs": [],
   "source": []
  }
 ],
 "metadata": {
  "kernelspec": {
   "display_name": "Python 3",
   "language": "python",
   "name": "python3"
  },
  "language_info": {
   "codemirror_mode": {
    "name": "ipython",
    "version": 3
   },
   "file_extension": ".py",
   "mimetype": "text/x-python",
   "name": "python",
   "nbconvert_exporter": "python",
   "pygments_lexer": "ipython3",
   "version": "3.7.7"
  }
 },
 "nbformat": 4,
 "nbformat_minor": 4
}
