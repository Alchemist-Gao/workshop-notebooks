{
 "cells": [
  {
   "cell_type": "markdown",
   "metadata": {},
   "source": [
    "# First simulation"
   ]
  },
  {
   "cell_type": "markdown",
   "metadata": {},
   "source": [
    "Running and plotting a simulation takes just 5 lines of code"
   ]
  },
  {
   "cell_type": "code",
   "execution_count": 1,
   "metadata": {},
   "outputs": [
    {
     "data": {
      "application/vnd.jupyter.widget-view+json": {
       "model_id": "247b688fadbd4a67acd24db5dde1d15c",
       "version_major": 2,
       "version_minor": 0
      },
      "text/plain": [
       "interactive(children=(FloatSlider(value=0.0, description='t', max=1.0, step=0.01), Output()), _dom_classes=('w…"
      ]
     },
     "metadata": {},
     "output_type": "display_data"
    }
   ],
   "source": [
    "import pybamm\n",
    "\n",
    "model = pybamm.lithium_ion.DFN()\n",
    "sim = pybamm.Simulation(model)\n",
    "sim.solve()\n",
    "sim.plot()"
   ]
  },
  {
   "cell_type": "markdown",
   "metadata": {},
   "source": [
    "Set model options (see readthedocs)"
   ]
  },
  {
   "cell_type": "code",
   "execution_count": 2,
   "metadata": {},
   "outputs": [
    {
     "data": {
      "application/vnd.jupyter.widget-view+json": {
       "model_id": "3178f489b1874bcebf2634f5c94641b6",
       "version_major": 2,
       "version_minor": 0
      },
      "text/plain": [
       "interactive(children=(FloatSlider(value=0.0, description='t', max=1.0, step=0.01), Output()), _dom_classes=('w…"
      ]
     },
     "metadata": {},
     "output_type": "display_data"
    }
   ],
   "source": [
    "model = pybamm.lithium_ion.DFN({\"particle\": \"fast diffusion\"})\n",
    "sim = pybamm.Simulation(model)\n",
    "sim.solve()\n",
    "sim.plot()"
   ]
  },
  {
   "cell_type": "markdown",
   "metadata": {},
   "source": [
    "Ok it looks different, but how different?"
   ]
  },
  {
   "cell_type": "code",
   "execution_count": 3,
   "metadata": {},
   "outputs": [
    {
     "data": {
      "application/vnd.jupyter.widget-view+json": {
       "model_id": "0e72fb5a76284586b57fa51e92aab240",
       "version_major": 2,
       "version_minor": 0
      },
      "text/plain": [
       "interactive(children=(FloatSlider(value=0.0, description='t', max=1.0, step=0.01), Output()), _dom_classes=('w…"
      ]
     },
     "metadata": {},
     "output_type": "display_data"
    }
   ],
   "source": [
    "model = pybamm.lithium_ion.DFN(name=\"fickian diffusion\")\n",
    "sim = pybamm.Simulation(model)\n",
    "sim.solve()\n",
    "\n",
    "model_fast = pybamm.lithium_ion.DFN({\"particle\": \"fast diffusion\"}, name=\"fast diffusion\")\n",
    "sim_fast = pybamm.Simulation(model_fast)\n",
    "sim_fast.solve()\n",
    "\n",
    "plot = pybamm.QuickPlot([sim, sim_fast])\n",
    "plot.dynamic_plot()"
   ]
  },
  {
   "cell_type": "markdown",
   "metadata": {},
   "source": [
    "We can look at some different variables"
   ]
  },
  {
   "cell_type": "code",
   "execution_count": 4,
   "metadata": {},
   "outputs": [
    {
     "data": {
      "application/vnd.jupyter.widget-view+json": {
       "model_id": "0fc54afdea3746429f1b5f48ffe1e347",
       "version_major": 2,
       "version_minor": 0
      },
      "text/plain": [
       "interactive(children=(FloatSlider(value=0.0, description='t', max=1.0, step=0.01), Output()), _dom_classes=('w…"
      ]
     },
     "metadata": {},
     "output_type": "display_data"
    }
   ],
   "source": [
    "plot = pybamm.QuickPlot(\n",
    "    [sim.solution, sim_fast.solution], \n",
    "    output_variables=[\n",
    "        \"Negative particle surface concentration [mol.m-3]\",\n",
    "        \"Electrolyte concentration [mol.m-3]\",\n",
    "        \"Positive particle surface concentration [mol.m-3]\",\n",
    "        \"Current [A]\",\n",
    "        \"Negative electrode potential [V]\",\n",
    "        \"Electrolyte potential [V]\",\n",
    "        \"Positive electrode potential [V]\",\n",
    "        \"Terminal voltage [V]\",\n",
    "        [\"Electrolyte current density\", \"Electrode current density\"],\n",
    "    ])\n",
    "plot.dynamic_plot()"
   ]
  },
  {
   "cell_type": "markdown",
   "metadata": {},
   "source": [
    "Compare reduced-order models"
   ]
  },
  {
   "cell_type": "code",
   "execution_count": 5,
   "metadata": {},
   "outputs": [
    {
     "data": {
      "application/vnd.jupyter.widget-view+json": {
       "model_id": "f0edd09b38f5455aa3b1a313e7fef995",
       "version_major": 2,
       "version_minor": 0
      },
      "text/plain": [
       "interactive(children=(FloatSlider(value=0.0, description='t', max=1.0, step=0.01), Output()), _dom_classes=('w…"
      ]
     },
     "metadata": {},
     "output_type": "display_data"
    }
   ],
   "source": [
    "models = [\n",
    "    pybamm.lithium_ion.SPM({\"thermal\": \"x-lumped\"}),\n",
    "    pybamm.lithium_ion.SPMe({\"thermal\": \"x-lumped\"}),\n",
    "    pybamm.lithium_ion.DFN({\"thermal\": \"x-lumped\"}),\n",
    "]\n",
    "\n",
    "sims = []\n",
    "for model in models:\n",
    "    sim = pybamm.Simulation(model)\n",
    "    sim.solve()\n",
    "    sims.append(sim)\n",
    "    \n",
    "plot = pybamm.QuickPlot(sims)\n",
    "plot.dynamic_plot()"
   ]
  },
  {
   "cell_type": "code",
   "execution_count": 6,
   "metadata": {},
   "outputs": [
    {
     "data": {
      "application/vnd.jupyter.widget-view+json": {
       "model_id": "ce5d09affe9042df970d452cdbaebebc",
       "version_major": 2,
       "version_minor": 0
      },
      "text/plain": [
       "interactive(children=(FloatSlider(value=0.0, description='t', max=1.0, step=0.01), Output()), _dom_classes=('w…"
      ]
     },
     "metadata": {},
     "output_type": "display_data"
    }
   ],
   "source": [
    "plot = pybamm.QuickPlot(\n",
    "    sims, \n",
    "    output_variables=[\n",
    "        \"X-averaged cell temperature [K]\",\n",
    "        \"Current [A]\",\n",
    "        \"Terminal voltage [V]\",\n",
    "    ])\n",
    "plot.dynamic_plot()"
   ]
  },
  {
   "cell_type": "markdown",
   "metadata": {},
   "source": [
    "## Saving a simulation"
   ]
  },
  {
   "cell_type": "markdown",
   "metadata": {},
   "source": [
    "We can save a whole simulation"
   ]
  },
  {
   "cell_type": "code",
   "execution_count": 7,
   "metadata": {},
   "outputs": [],
   "source": [
    "model = pybamm.lithium_ion.SPM()\n",
    "sim = pybamm.Simulation(model)\n",
    "sim.solve()\n",
    "sim.save(\"my_first_simulation.pkl\")"
   ]
  },
  {
   "cell_type": "code",
   "execution_count": 8,
   "metadata": {},
   "outputs": [
    {
     "data": {
      "application/vnd.jupyter.widget-view+json": {
       "model_id": "24469efb7ebb441582a7e7494aa27e08",
       "version_major": 2,
       "version_minor": 0
      },
      "text/plain": [
       "interactive(children=(FloatSlider(value=0.0, description='t', max=1.0, step=0.01), Output()), _dom_classes=('w…"
      ]
     },
     "metadata": {},
     "output_type": "display_data"
    }
   ],
   "source": [
    "sim2 = pybamm.load(\"my_first_simulation.pkl\")\n",
    "sim2.plot()"
   ]
  },
  {
   "cell_type": "markdown",
   "metadata": {},
   "source": [
    "Or just the solution"
   ]
  },
  {
   "cell_type": "code",
   "execution_count": 9,
   "metadata": {},
   "outputs": [],
   "source": [
    "sol = sim.solution\n",
    "sol.save(\"my_first_solution.pkl\")"
   ]
  },
  {
   "cell_type": "code",
   "execution_count": 10,
   "metadata": {},
   "outputs": [
    {
     "data": {
      "application/vnd.jupyter.widget-view+json": {
       "model_id": "8188a48a034d492cb05ce76c39f43728",
       "version_major": 2,
       "version_minor": 0
      },
      "text/plain": [
       "interactive(children=(FloatSlider(value=0.0, description='t', max=1.0, step=0.01), Output()), _dom_classes=('w…"
      ]
     },
     "metadata": {},
     "output_type": "display_data"
    }
   ],
   "source": [
    "sol2 = pybamm.load(\"my_first_solution.pkl\")\n",
    "plot = pybamm.QuickPlot(sol2)\n",
    "plot.dynamic_plot()"
   ]
  },
  {
   "cell_type": "markdown",
   "metadata": {},
   "source": [
    "Saving the solution object itself to a pickle isn't great for long-term storage in case the underlying API changes (which is quite often in this early stage of development) so instead we can save just the data. This requires specifying which variables to save"
   ]
  },
  {
   "cell_type": "code",
   "execution_count": 11,
   "metadata": {},
   "outputs": [],
   "source": [
    "sol.save_data(\"sol_data.pkl\", [\n",
    "        \"Negative particle surface concentration [mol.m-3]\",\n",
    "        \"Electrolyte concentration [mol.m-3]\",\n",
    "        \"Positive particle surface concentration [mol.m-3]\",\n",
    "        \"Current [A]\",\n",
    "        \"Negative electrode potential [V]\",\n",
    "        \"Electrolyte potential [V]\",\n",
    "        \"Positive electrode potential [V]\",\n",
    "        \"Terminal voltage [V]\",\n",
    "    ])"
   ]
  },
  {
   "cell_type": "markdown",
   "metadata": {},
   "source": [
    "This saves a pickled dictionary"
   ]
  },
  {
   "cell_type": "code",
   "execution_count": 12,
   "metadata": {},
   "outputs": [
    {
     "data": {
      "text/plain": [
       "{'Negative particle surface concentration [mol.m-3]': array([[19986.60959507, 19503.0115462 , 19228.79051191, ...,\n",
       "          4626.58912977,  4475.45828747,  4324.32744517],\n",
       "        [19986.60959507, 19503.0115462 , 19228.79051191, ...,\n",
       "          4626.58912977,  4475.45828747,  4324.32744517],\n",
       "        [19986.60959507, 19503.0115462 , 19228.79051191, ...,\n",
       "          4626.58912977,  4475.45828747,  4324.32744517],\n",
       "        ...,\n",
       "        [19986.60959507, 19503.0115462 , 19228.79051191, ...,\n",
       "          4626.58912977,  4475.45828747,  4324.32744517],\n",
       "        [19986.60959507, 19503.0115462 , 19228.79051191, ...,\n",
       "          4626.58912977,  4475.45828747,  4324.32744517],\n",
       "        [19986.60959507, 19503.0115462 , 19228.79051191, ...,\n",
       "          4626.58912977,  4475.45828747,  4324.32744517]]),\n",
       " 'Electrolyte concentration [mol.m-3]': array([[1000., 1000., 1000., ..., 1000., 1000., 1000.],\n",
       "        [1000., 1000., 1000., ..., 1000., 1000., 1000.],\n",
       "        [1000., 1000., 1000., ..., 1000., 1000., 1000.],\n",
       "        ...,\n",
       "        [1000., 1000., 1000., ..., 1000., 1000., 1000.],\n",
       "        [1000., 1000., 1000., ..., 1000., 1000., 1000.],\n",
       "        [1000., 1000., 1000., ..., 1000., 1000., 1000.]]),\n",
       " 'Positive particle surface concentration [mol.m-3]': array([[30730.75543856, 31145.90030162, 31379.18846848, ...,\n",
       "         48650.13924199, 48831.49625033, 49012.85325867],\n",
       "        [30730.75543856, 31145.90030162, 31379.18846848, ...,\n",
       "         48650.13924199, 48831.49625033, 49012.85325867],\n",
       "        [30730.75543856, 31145.90030162, 31379.18846848, ...,\n",
       "         48650.13924199, 48831.49625033, 49012.85325867],\n",
       "        ...,\n",
       "        [30730.75543856, 31145.90030162, 31379.18846848, ...,\n",
       "         48650.13924199, 48831.49625033, 49012.85325867],\n",
       "        [30730.75543856, 31145.90030162, 31379.18846848, ...,\n",
       "         48650.13924199, 48831.49625033, 49012.85325867],\n",
       "        [30730.75543856, 31145.90030162, 31379.18846848, ...,\n",
       "         48650.13924199, 48831.49625033, 49012.85325867]]),\n",
       " 'Current [A]': array([0.680616, 0.680616, 0.680616, 0.680616, 0.680616, 0.680616,\n",
       "        0.680616, 0.680616, 0.680616, 0.680616, 0.680616, 0.680616,\n",
       "        0.680616, 0.680616, 0.680616, 0.680616, 0.680616, 0.680616,\n",
       "        0.680616, 0.680616, 0.680616, 0.680616, 0.680616, 0.680616,\n",
       "        0.680616, 0.680616, 0.680616, 0.680616, 0.680616, 0.680616,\n",
       "        0.680616, 0.680616, 0.680616, 0.680616, 0.680616, 0.680616,\n",
       "        0.680616, 0.680616, 0.680616, 0.680616, 0.680616, 0.680616,\n",
       "        0.680616, 0.680616, 0.680616, 0.680616, 0.680616, 0.680616,\n",
       "        0.680616, 0.680616, 0.680616, 0.680616, 0.680616, 0.680616,\n",
       "        0.680616, 0.680616, 0.680616, 0.680616, 0.680616, 0.680616,\n",
       "        0.680616, 0.680616, 0.680616, 0.680616, 0.680616, 0.680616,\n",
       "        0.680616, 0.680616, 0.680616, 0.680616, 0.680616, 0.680616,\n",
       "        0.680616, 0.680616, 0.680616, 0.680616, 0.680616, 0.680616,\n",
       "        0.680616, 0.680616, 0.680616, 0.680616, 0.680616, 0.680616,\n",
       "        0.680616, 0.680616, 0.680616, 0.680616, 0.680616, 0.680616,\n",
       "        0.680616, 0.680616, 0.680616, 0.680616, 0.680616, 0.680616,\n",
       "        0.680616, 0.680616, 0.680616, 0.680616]),\n",
       " 'Negative electrode potential [V]': array([[0., 0., 0., ..., 0., 0., 0.],\n",
       "        [0., 0., 0., ..., 0., 0., 0.],\n",
       "        [0., 0., 0., ..., 0., 0., 0.],\n",
       "        ...,\n",
       "        [0., 0., 0., ..., 0., 0., 0.],\n",
       "        [0., 0., 0., ..., 0., 0., 0.],\n",
       "        [0., 0., 0., ..., 0., 0., 0.]]),\n",
       " 'Electrolyte potential [V]': array([[-0.18060328, -0.18128403, -0.18157419, ..., -0.25715143,\n",
       "         -0.26082712, -0.2645686 ],\n",
       "        [-0.18060328, -0.18128403, -0.18157419, ..., -0.25715143,\n",
       "         -0.26082712, -0.2645686 ],\n",
       "        [-0.18060328, -0.18128403, -0.18157419, ..., -0.25715143,\n",
       "         -0.26082712, -0.2645686 ],\n",
       "        ...,\n",
       "        [-0.18060328, -0.18128403, -0.18157419, ..., -0.25715143,\n",
       "         -0.26082712, -0.2645686 ],\n",
       "        [-0.18060328, -0.18128403, -0.18157419, ..., -0.25715143,\n",
       "         -0.26082712, -0.2645686 ],\n",
       "        [-0.18060328, -0.18128403, -0.18157419, ..., -0.25715143,\n",
       "         -0.26082712, -0.2645686 ]]),\n",
       " 'Positive electrode potential [V]': array([[3.7800807 , 3.769963  , 3.76434029, ..., 3.36178828, 3.2774511 ,\n",
       "         3.16189118],\n",
       "        [3.7800807 , 3.769963  , 3.76434029, ..., 3.36178828, 3.2774511 ,\n",
       "         3.16189118],\n",
       "        [3.7800807 , 3.769963  , 3.76434029, ..., 3.36178828, 3.2774511 ,\n",
       "         3.16189118],\n",
       "        ...,\n",
       "        [3.7800807 , 3.769963  , 3.76434029, ..., 3.36178828, 3.2774511 ,\n",
       "         3.16189118],\n",
       "        [3.7800807 , 3.769963  , 3.76434029, ..., 3.36178828, 3.2774511 ,\n",
       "         3.16189118],\n",
       "        [3.7800807 , 3.769963  , 3.76434029, ..., 3.36178828, 3.2774511 ,\n",
       "         3.16189118]]),\n",
       " 'Terminal voltage [V]': array([3.7800807 , 3.769963  , 3.76434029, 3.75951612, 3.75505018,\n",
       "        3.75079217, 3.74668074, 3.74268975, 3.73881032, 3.73503987,\n",
       "        3.73137865, 3.72782796, 3.72438895, 3.72106222, 3.71784777,\n",
       "        3.71474507, 3.71175305, 3.70887012, 3.70609425, 3.70342301,\n",
       "        3.70085362, 3.69838303, 3.69600793, 3.69372473, 3.69152961,\n",
       "        3.68941844, 3.68738677, 3.68542971, 3.68354181, 3.68171683,\n",
       "        3.67994744, 3.67822479, 3.6765379 , 3.67487286, 3.67321183,\n",
       "        3.67153167, 3.66980261, 3.66798686, 3.66603801, 3.66390212,\n",
       "        3.66152217, 3.65884749, 3.65584896, 3.65253739, 3.64897801,\n",
       "        3.64529059, 3.64162915, 3.63814619, 3.63495787, 3.6321253 ,\n",
       "        3.62965624, 3.6275203 , 3.62566731, 3.62404203, 3.62259322,\n",
       "        3.62127771, 3.62006138, 3.61891841, 3.61783001, 3.61678298,\n",
       "        3.61576845, 3.6147809 , 3.61381726, 3.61287638, 3.6119584 ,\n",
       "        3.6110644 , 3.61019595, 3.60935473, 3.6085421 , 3.60775867,\n",
       "        3.60700374, 3.60627484, 3.60556709, 3.60487269, 3.60418035,\n",
       "        3.60347484, 3.60273665, 3.60194174, 3.60106143, 3.60006239,\n",
       "        3.59890648, 3.59755049, 3.59594526, 3.59403394, 3.59174879,\n",
       "        3.58900591, 3.58569673, 3.58167521, 3.5767387 , 3.57059987,\n",
       "        3.56284627, 3.5528823 , 3.53984716, 3.52250044, 3.49906604,\n",
       "        3.46702647, 3.42286693, 3.36178828, 3.2774511 , 3.16189118])}"
      ]
     },
     "execution_count": 12,
     "metadata": {},
     "output_type": "execute_result"
    }
   ],
   "source": [
    "pybamm.load(\"sol_data.pkl\")"
   ]
  },
  {
   "cell_type": "markdown",
   "metadata": {},
   "source": [
    "Or save as a csv file (only scalar variables are supported)"
   ]
  },
  {
   "cell_type": "code",
   "execution_count": 13,
   "metadata": {},
   "outputs": [],
   "source": [
    "sol.save_data(\"sol_data.csv\", [\n",
    "        \"Time [s]\",\n",
    "        \"Current [A]\",\n",
    "        \"Terminal voltage [V]\",\n",
    "    ], to_format=\"csv\")"
   ]
  },
  {
   "cell_type": "code",
   "execution_count": null,
   "metadata": {},
   "outputs": [],
   "source": []
  }
 ],
 "metadata": {
  "kernelspec": {
   "display_name": "Python 3",
   "language": "python",
   "name": "python3"
  },
  "language_info": {
   "codemirror_mode": {
    "name": "ipython",
    "version": 3
   },
   "file_extension": ".py",
   "mimetype": "text/x-python",
   "name": "python",
   "nbconvert_exporter": "python",
   "pygments_lexer": "ipython3",
   "version": "3.7.7"
  }
 },
 "nbformat": 4,
 "nbformat_minor": 4
}
